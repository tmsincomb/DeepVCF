{
 "cells": [
  {
   "cell_type": "markdown",
   "id": "headed-commission",
   "metadata": {},
   "source": [
    "# DeepVCF: A Variant Caller using deep learning\n",
    "#####  This tutorial on how to train and use DeepVCF to call variants and produce a Variant Call Format (VCF) file"
   ]
  },
  {
   "cell_type": "code",
   "execution_count": 1,
   "id": "musical-listing",
   "metadata": {},
   "outputs": [
    {
     "name": "stdout",
     "output_type": "stream",
     "text": [
      "=== No GPU Detected ===\n"
     ]
    }
   ],
   "source": [
    "from pprint import pprint\n",
    "\n",
    "import pandas as pd\n",
    "import seaborn as sns\n",
    "\n",
    "from DeepVCF import pathing\n",
    "from DeepVCF import biopandas as bpd\n",
    "from DeepVCF import alignment\n",
    "from DeepVCF.core import DeepVCF\n",
    "\n",
    "deepvcf = DeepVCF()"
   ]
  },
  {
   "cell_type": "markdown",
   "id": "guilty-experience",
   "metadata": {},
   "source": [
    "# Pulling in Training & Testing Data\n",
    "### We created these through the read simulator DWGSIM in the [tutorial](./creating-data-for-usage-demo.ipynb). The training and testing will be for both 2% platform base error (low) rate and 10% platform base error (high) rate with a .5% mutation rate for each. The goal is compare DeepVCF againset BCFtools regarding SNP variant calling when given low and high platform error rates. "
   ]
  },
  {
   "cell_type": "code",
   "execution_count": 2,
   "id": "diverse-headset",
   "metadata": {},
   "outputs": [],
   "source": [
    "ref_train_be10percent = pathing('./example_files/staphylococcus/train/MRSA107.fasta')\n",
    "bam_train_be10percent = pathing('./example_files/staphylococcus/train/train-base-error-10percent.mapped.bam')\n",
    "vcf_train_be10percent = pathing('./example_files/staphylococcus/train/train-base-error-10percent.mutations.vcf')\n",
    "\n",
    "ref_test_be10percent = pathing('./example_files/staphylococcus/test/GCF_000013425.1_ASM1342v1_genomic_reference.fasta')\n",
    "bam_test_be10percent = pathing('./example_files/staphylococcus/test/test-base-error-10percent.mapped.bam')\n",
    "vcf_test_be10percent = pathing('./example_files/staphylococcus/test/test-base-error-10percent.mutations.vcf')\n",
    "\n",
    "ref_train_be2percent = pathing('./example_files/staphylococcus/train/MRSA107.fasta')\n",
    "bam_train_be2percent = pathing('./example_files/staphylococcus/train/train-base-error-2percent.mapped.bam')\n",
    "vcf_train_be2percent = pathing('./example_files/staphylococcus/train/train-base-error-2percent.mutations.vcf')\n",
    "\n",
    "ref_test_be2percent = pathing('./example_files/staphylococcus/test/GCF_000013425.1_ASM1342v1_genomic_reference.fasta')\n",
    "bam_test_be2percent = pathing('./example_files/staphylococcus/test/test-base-error-2percent.mapped.bam')\n",
    "vcf_test_be2percent = pathing('./example_files/staphylococcus/test/test-base-error-2percent.mutations.vcf')\n",
    "\n",
    "samtools_variant_calls_be2percent = pathing('./example_files/staphylococcus/test-base-error-2percent.bcftools.vcf')\n",
    "samtools_variant_calls_be10percent = pathing('./example_files/staphylococcus/test-base-error-10percent.bcftools.vcf')"
   ]
  },
  {
   "cell_type": "markdown",
   "id": "heavy-participant",
   "metadata": {},
   "source": [
    "# Train Model\n",
    "### VCF file needed to train and assumed to be high-confidence or \"truth\""
   ]
  },
  {
   "cell_type": "code",
   "execution_count": 43,
   "id": "cross-sugar",
   "metadata": {},
   "outputs": [
    {
     "name": "stdout",
     "output_type": "stream",
     "text": [
      "=== Building Pileup From Scratch ===\n",
      "=== Pilup Complete ===\n",
      "=== Tensors Complete ===\n",
      "Epoch 1/30\n",
      "360/360 [==============================] - 3s 8ms/step - loss: 0.6732 - base_loss: 0.4467 - genotype_loss: 0.4529 - base_accuracy: 0.5299 - genotype_accuracy: 0.8521 - val_loss: 0.3158 - val_base_loss: 0.2760 - val_genotype_loss: 0.0796 - val_base_accuracy: 0.7369 - val_genotype_accuracy: 0.9817\n",
      "Epoch 2/30\n",
      "360/360 [==============================] - 3s 8ms/step - loss: 0.3369 - base_loss: 0.2880 - genotype_loss: 0.0978 - base_accuracy: 0.6474 - genotype_accuracy: 0.9752 - val_loss: 0.2960 - val_base_loss: 0.2638 - val_genotype_loss: 0.0644 - val_base_accuracy: 0.6795 - val_genotype_accuracy: 0.9867\n",
      "Epoch 3/30\n",
      "360/360 [==============================] - 3s 7ms/step - loss: 0.3143 - base_loss: 0.2724 - genotype_loss: 0.0837 - base_accuracy: 0.6479 - genotype_accuracy: 0.9805 - val_loss: 0.2955 - val_base_loss: 0.2658 - val_genotype_loss: 0.0593 - val_base_accuracy: 0.6889 - val_genotype_accuracy: 0.9867\n",
      "Epoch 4/30\n",
      "360/360 [==============================] - 2s 6ms/step - loss: 0.3062 - base_loss: 0.2672 - genotype_loss: 0.0779 - base_accuracy: 0.6472 - genotype_accuracy: 0.9820 - val_loss: 0.2877 - val_base_loss: 0.2590 - val_genotype_loss: 0.0574 - val_base_accuracy: 0.7886 - val_genotype_accuracy: 0.9869\n",
      "Epoch 5/30\n",
      "360/360 [==============================] - 3s 7ms/step - loss: 0.3012 - base_loss: 0.2665 - genotype_loss: 0.0694 - base_accuracy: 0.6362 - genotype_accuracy: 0.9830 - val_loss: 0.2868 - val_base_loss: 0.2585 - val_genotype_loss: 0.0567 - val_base_accuracy: 0.6612 - val_genotype_accuracy: 0.9880\n",
      "Epoch 6/30\n",
      "360/360 [==============================] - 2s 6ms/step - loss: 0.2927 - base_loss: 0.2584 - genotype_loss: 0.0685 - base_accuracy: 0.6544 - genotype_accuracy: 0.9840 - val_loss: 0.2877 - val_base_loss: 0.2592 - val_genotype_loss: 0.0571 - val_base_accuracy: 0.5260 - val_genotype_accuracy: 0.9890\n",
      "Epoch 7/30\n",
      "360/360 [==============================] - 2s 6ms/step - loss: 0.2993 - base_loss: 0.2626 - genotype_loss: 0.0735 - base_accuracy: 0.6486 - genotype_accuracy: 0.9805 - val_loss: 0.2862 - val_base_loss: 0.2560 - val_genotype_loss: 0.0604 - val_base_accuracy: 0.7040 - val_genotype_accuracy: 0.9885\n",
      "Epoch 8/30\n",
      "360/360 [==============================] - 2s 6ms/step - loss: 0.2819 - base_loss: 0.2540 - genotype_loss: 0.0557 - base_accuracy: 0.6714 - genotype_accuracy: 0.9876 - val_loss: 0.2771 - val_base_loss: 0.2512 - val_genotype_loss: 0.0518 - val_base_accuracy: 0.7058 - val_genotype_accuracy: 0.9885\n",
      "Epoch 9/30\n",
      "360/360 [==============================] - 2s 6ms/step - loss: 0.2811 - base_loss: 0.2505 - genotype_loss: 0.0611 - base_accuracy: 0.6610 - genotype_accuracy: 0.9859 - val_loss: 0.2841 - val_base_loss: 0.2536 - val_genotype_loss: 0.0610 - val_base_accuracy: 0.7079 - val_genotype_accuracy: 0.9869\n",
      "Epoch 10/30\n",
      "360/360 [==============================] - 2s 6ms/step - loss: 0.2719 - base_loss: 0.2474 - genotype_loss: 0.0490 - base_accuracy: 0.6705 - genotype_accuracy: 0.9888 - val_loss: 0.2836 - val_base_loss: 0.2554 - val_genotype_loss: 0.0564 - val_base_accuracy: 0.6964 - val_genotype_accuracy: 0.9877\n",
      "Epoch 11/30\n",
      "360/360 [==============================] - 2s 6ms/step - loss: 0.2713 - base_loss: 0.2450 - genotype_loss: 0.0527 - base_accuracy: 0.6721 - genotype_accuracy: 0.9886 - val_loss: 0.2811 - val_base_loss: 0.2516 - val_genotype_loss: 0.0591 - val_base_accuracy: 0.6119 - val_genotype_accuracy: 0.9864\n",
      "Epoch 12/30\n",
      "360/360 [==============================] - 2s 6ms/step - loss: 0.2713 - base_loss: 0.2443 - genotype_loss: 0.0540 - base_accuracy: 0.6528 - genotype_accuracy: 0.9869 - val_loss: 0.2761 - val_base_loss: 0.2492 - val_genotype_loss: 0.0538 - val_base_accuracy: 0.7907 - val_genotype_accuracy: 0.9888\n",
      "Epoch 13/30\n",
      "360/360 [==============================] - 2s 6ms/step - loss: 0.2737 - base_loss: 0.2428 - genotype_loss: 0.0618 - base_accuracy: 0.6912 - genotype_accuracy: 0.9861 - val_loss: 0.2788 - val_base_loss: 0.2491 - val_genotype_loss: 0.0593 - val_base_accuracy: 0.6554 - val_genotype_accuracy: 0.9888\n",
      "Epoch 14/30\n",
      "360/360 [==============================] - 2s 6ms/step - loss: 0.2661 - base_loss: 0.2411 - genotype_loss: 0.0500 - base_accuracy: 0.6661 - genotype_accuracy: 0.9893 - val_loss: 0.2751 - val_base_loss: 0.2465 - val_genotype_loss: 0.0573 - val_base_accuracy: 0.6886 - val_genotype_accuracy: 0.9849\n",
      "Epoch 15/30\n",
      "360/360 [==============================] - 2s 7ms/step - loss: 0.2598 - base_loss: 0.2358 - genotype_loss: 0.0481 - base_accuracy: 0.6839 - genotype_accuracy: 0.9895 - val_loss: 0.2976 - val_base_loss: 0.2542 - val_genotype_loss: 0.0870 - val_base_accuracy: 0.7502 - val_genotype_accuracy: 0.9846\n",
      "Epoch 16/30\n",
      "360/360 [==============================] - 2s 6ms/step - loss: 0.2691 - base_loss: 0.2400 - genotype_loss: 0.0582 - base_accuracy: 0.6800 - genotype_accuracy: 0.9867 - val_loss: 0.2779 - val_base_loss: 0.2482 - val_genotype_loss: 0.0595 - val_base_accuracy: 0.8421 - val_genotype_accuracy: 0.9888\n",
      "Epoch 17/30\n",
      "360/360 [==============================] - 2s 6ms/step - loss: 0.2652 - base_loss: 0.2391 - genotype_loss: 0.0521 - base_accuracy: 0.6798 - genotype_accuracy: 0.9883 - val_loss: 0.2794 - val_base_loss: 0.2539 - val_genotype_loss: 0.0510 - val_base_accuracy: 0.7170 - val_genotype_accuracy: 0.9890\n",
      "Epoch 18/30\n",
      "360/360 [==============================] - 2s 6ms/step - loss: 0.2581 - base_loss: 0.2377 - genotype_loss: 0.0406 - base_accuracy: 0.6944 - genotype_accuracy: 0.9902 - val_loss: 0.2785 - val_base_loss: 0.2484 - val_genotype_loss: 0.0602 - val_base_accuracy: 0.4680 - val_genotype_accuracy: 0.9893\n",
      "Epoch 19/30\n",
      "360/360 [==============================] - 2s 6ms/step - loss: 0.2540 - base_loss: 0.2340 - genotype_loss: 0.0399 - base_accuracy: 0.6773 - genotype_accuracy: 0.9906 - val_loss: 0.2674 - val_base_loss: 0.2432 - val_genotype_loss: 0.0484 - val_base_accuracy: 0.7233 - val_genotype_accuracy: 0.9896\n",
      "Epoch 20/30\n",
      "360/360 [==============================] - 2s 6ms/step - loss: 0.2535 - base_loss: 0.2317 - genotype_loss: 0.0435 - base_accuracy: 0.6922 - genotype_accuracy: 0.9907 - val_loss: 0.2696 - val_base_loss: 0.2456 - val_genotype_loss: 0.0478 - val_base_accuracy: 0.6818 - val_genotype_accuracy: 0.9896\n",
      "Epoch 21/30\n",
      "360/360 [==============================] - 2s 6ms/step - loss: 0.2547 - base_loss: 0.2332 - genotype_loss: 0.0430 - base_accuracy: 0.6820 - genotype_accuracy: 0.9891 - val_loss: 0.2778 - val_base_loss: 0.2481 - val_genotype_loss: 0.0595 - val_base_accuracy: 0.8491 - val_genotype_accuracy: 0.9880\n",
      "Epoch 22/30\n",
      "360/360 [==============================] - 2s 6ms/step - loss: 0.2537 - base_loss: 0.2318 - genotype_loss: 0.0438 - base_accuracy: 0.6996 - genotype_accuracy: 0.9898 - val_loss: 0.2822 - val_base_loss: 0.2509 - val_genotype_loss: 0.0626 - val_base_accuracy: 0.8705 - val_genotype_accuracy: 0.9875\n",
      "Epoch 23/30\n",
      "360/360 [==============================] - 2s 6ms/step - loss: 0.2533 - base_loss: 0.2322 - genotype_loss: 0.0422 - base_accuracy: 0.6972 - genotype_accuracy: 0.9908 - val_loss: 0.2864 - val_base_loss: 0.2487 - val_genotype_loss: 0.0754 - val_base_accuracy: 0.6348 - val_genotype_accuracy: 0.9862\n",
      "Epoch 24/30\n",
      "360/360 [==============================] - 2s 6ms/step - loss: 0.2573 - base_loss: 0.2345 - genotype_loss: 0.0456 - base_accuracy: 0.6928 - genotype_accuracy: 0.9875 - val_loss: 0.2752 - val_base_loss: 0.2484 - val_genotype_loss: 0.0535 - val_base_accuracy: 0.6688 - val_genotype_accuracy: 0.9883\n",
      "CPU times: user 3min 48s, sys: 7.74 s, total: 3min 55s\n",
      "Wall time: 2min 45s\n"
     ]
    }
   ],
   "source": [
    "%%time\n",
    "deepvcf.train(\n",
    "    reference_file=ref_train_be2percent,\n",
    "    alignment_file=bam_train_be2percent,\n",
    "    vcf_file=vcf_train_be2percent,\n",
    "    mimimum_alignment_coverage=.75,\n",
    "    minimum_coverage=30,\n",
    "    heterozygous_threshold=.25,\n",
    "    minimum_variant_radius=15,\n",
    "    # save_pileup_to_destination='./example_files/staphylococcus/train/train.pileup.npy',\n",
    "    # use_saved_pileup='./example_files/staphylococcus/train/train.pileup.npy',  # Ignore the error, this will fail the first time if it doesn't exist\n",
    ")"
   ]
  },
  {
   "cell_type": "markdown",
   "id": "forward-assembly",
   "metadata": {},
   "source": [
    "# Model Structure"
   ]
  },
  {
   "cell_type": "code",
   "execution_count": 4,
   "id": "defensive-plate",
   "metadata": {},
   "outputs": [
    {
     "name": "stdout",
     "output_type": "stream",
     "text": [
      "Model: \"model\"\n",
      "__________________________________________________________________________________________________\n",
      "Layer (type)                    Output Shape         Param #     Connected to                     \n",
      "==================================================================================================\n",
      "input_1 (InputLayer)            [(None, 15, 4, 3)]   0                                            \n",
      "__________________________________________________________________________________________________\n",
      "conv2d (Conv2D)                 (None, 15, 4, 16)    208         input_1[0][0]                    \n",
      "__________________________________________________________________________________________________\n",
      "max_pooling2d (MaxPooling2D)    (None, 11, 4, 16)    0           conv2d[0][0]                     \n",
      "__________________________________________________________________________________________________\n",
      "conv2d_1 (Conv2D)               (None, 11, 4, 32)    4128        max_pooling2d[0][0]              \n",
      "__________________________________________________________________________________________________\n",
      "max_pooling2d_1 (MaxPooling2D)  (None, 8, 4, 32)     0           conv2d_1[0][0]                   \n",
      "__________________________________________________________________________________________________\n",
      "conv2d_2 (Conv2D)               (None, 8, 4, 48)     18480       max_pooling2d_1[0][0]            \n",
      "__________________________________________________________________________________________________\n",
      "max_pooling2d_2 (MaxPooling2D)  (None, 6, 4, 48)     0           conv2d_2[0][0]                   \n",
      "__________________________________________________________________________________________________\n",
      "flatten (Flatten)               (None, 1152)         0           max_pooling2d_2[0][0]            \n",
      "__________________________________________________________________________________________________\n",
      "dense_1 (Dense)                 (None, 168)          193704      flatten[0][0]                    \n",
      "__________________________________________________________________________________________________\n",
      "dropout_1 (Dropout)             (None, 168)          0           dense_1[0][0]                    \n",
      "__________________________________________________________________________________________________\n",
      "dense_2 (Dense)                 (None, 84)           14196       dropout_1[0][0]                  \n",
      "__________________________________________________________________________________________________\n",
      "dropout_2 (Dropout)             (None, 84)           0           dense_2[0][0]                    \n",
      "__________________________________________________________________________________________________\n",
      "dense_3 (Dense)                 (None, 42)           3570        dropout_2[0][0]                  \n",
      "__________________________________________________________________________________________________\n",
      "dropout_3 (Dropout)             (None, 42)           0           dense_3[0][0]                    \n",
      "__________________________________________________________________________________________________\n",
      "dense_4 (Dense)                 (None, 4)            172         dropout_3[0][0]                  \n",
      "__________________________________________________________________________________________________\n",
      "base (Dense)                    (None, 4)            172         dropout_3[0][0]                  \n",
      "__________________________________________________________________________________________________\n",
      "genotype (Softmax)              (None, 4)            0           dense_4[0][0]                    \n",
      "==================================================================================================\n",
      "Total params: 234,630\n",
      "Trainable params: 234,630\n",
      "Non-trainable params: 0\n",
      "__________________________________________________________________________________________________\n"
     ]
    }
   ],
   "source": [
    "deepvcf.model.summary()"
   ]
  },
  {
   "cell_type": "markdown",
   "id": "armed-sympathy",
   "metadata": {},
   "source": [
    "# Example Pileup & Tensor"
   ]
  },
  {
   "cell_type": "code",
   "execution_count": 123,
   "id": "identified-james",
   "metadata": {},
   "outputs": [
    {
     "name": "stdout",
     "output_type": "stream",
     "text": [
      "CATCTTTCTTAAATT\n",
      "=== Tensor ===\n"
     ]
    },
    {
     "data": {
      "text/plain": [
       "array([[0, 0, 2, 0, 0, 0, 2, 0, 0, 0, 0, 0, 0],\n",
       "       [0, 2, 0, 0, 0, 2, 0, 0, 0, 0, 0, 0, 0],\n",
       "       [0, 0, 0, 0, 2, 0, 0, 0, 2, 0, 0, 0, 0],\n",
       "       [0, 0, 2, 0, 0, 0, 2, 0, 0, 0, 0, 0, 0],\n",
       "       [0, 0, 0, 0, 2, 0, 0, 0, 2, 0, 0, 0, 0],\n",
       "       [0, 0, 0, 0, 2, 0, 0, 0, 2, 0, 0, 0, 0],\n",
       "       [0, 0, 0, 0, 4, 0, 0, 0, 4, 0, 0, 0, 0],\n",
       "       [0, 0, 4, 0, 0, 1, 3, 0, 0, 0, 0, 0, 0],\n",
       "       [0, 0, 0, 0, 4, 0, 0, 0, 4, 0, 0, 0, 0],\n",
       "       [0, 0, 0, 0, 4, 0, 0, 0, 4, 0, 0, 0, 0],\n",
       "       [0, 4, 0, 0, 0, 4, 0, 0, 0, 0, 0, 0, 0],\n",
       "       [0, 4, 0, 0, 0, 4, 0, 0, 0, 0, 0, 0, 0],\n",
       "       [0, 4, 0, 0, 0, 4, 0, 0, 0, 0, 0, 0, 0],\n",
       "       [0, 0, 0, 0, 4, 0, 0, 0, 4, 0, 0, 0, 0],\n",
       "       [0, 0, 0, 0, 4, 0, 0, 0, 4, 0, 0, 0, 0]])"
      ]
     },
     "execution_count": 123,
     "metadata": {},
     "output_type": "execute_result"
    }
   ],
   "source": [
    "position = 9\n",
    "print(deepvcf.preprocess.ref_seq[position:position+15])\n",
    "print('=== Tensor ===')\n",
    "deepvcf.preprocess.pileup[4:19, :]"
   ]
  },
  {
   "cell_type": "code",
   "execution_count": 124,
   "id": "respected-annex",
   "metadata": {},
   "outputs": [
    {
     "name": "stdout",
     "output_type": "stream",
     "text": [
      "CATCTTTCTTAAATT\n",
      "=== Tensor ===\n"
     ]
    },
    {
     "data": {
      "text/plain": [
       "array([[[ 0,  2,  0,  0,  0,  0,  0,  0,  0,  0,  4,  4,  4,  0,  0],\n",
       "        [ 2,  0,  0,  2,  0,  0,  0,  4,  0,  0,  0,  0,  0,  0,  0],\n",
       "        [ 0,  0,  0,  0,  0,  0,  0,  0,  0,  0,  0,  0,  0,  0,  0],\n",
       "        [ 0,  0,  2,  0,  2,  2,  4,  0,  4,  4,  0,  0,  0,  4,  4]],\n",
       "\n",
       "       [[ 0,  0,  0,  0,  0,  0,  0,  1,  0,  0,  0,  0,  0,  0,  0],\n",
       "        [ 0,  0,  0,  0,  0,  0,  0, -1,  0,  0,  0,  0,  0,  0,  0],\n",
       "        [ 0,  0,  0,  0,  0,  0,  0,  0,  0,  0,  0,  0,  0,  0,  0],\n",
       "        [ 0,  0,  0,  0,  0,  0,  0,  0,  0,  0,  0,  0,  0,  0,  0]],\n",
       "\n",
       "       [[ 0,  0,  0,  0,  0,  0,  0,  1,  0,  0,  0,  0,  0,  0,  0],\n",
       "        [ 0,  0,  0,  0,  0,  0,  0, -1,  0,  0,  0,  0,  0,  0,  0],\n",
       "        [ 0,  0,  0,  0,  0,  0,  0,  0,  0,  0,  0,  0,  0,  0,  0],\n",
       "        [ 0,  0,  0,  0,  0,  0,  0,  0,  0,  0,  0,  0,  0,  0,  0]]])"
      ]
     },
     "execution_count": 124,
     "metadata": {},
     "output_type": "execute_result"
    }
   ],
   "source": [
    "position = 9\n",
    "print(deepvcf.preprocess.ref_seq[position:position+15])\n",
    "print('=== Tensor ===')\n",
    "deepvcf.preprocess.get_window(position+8).transpose()"
   ]
  },
  {
   "cell_type": "markdown",
   "id": "frozen-poison",
   "metadata": {},
   "source": [
    "# Model Internal Loss/Validation"
   ]
  },
  {
   "cell_type": "code",
   "execution_count": 126,
   "id": "excellent-gabriel",
   "metadata": {},
   "outputs": [
    {
     "data": {
      "image/png": "[encoded data removed]",
      "text/plain": [
       "<Figure size 864x648 with 1 Axes>"
      ]
     },
     "metadata": {},
     "output_type": "display_data"
    }
   ],
   "source": [
    "from matplotlib import rcParams, pyplot as plt\n",
    "import dataframe_image as dfi\n",
    "import seaborn as sns\n",
    "# figure size in inches\n",
    "rcParams['figure.figsize'] = 12,9\n",
    "rcParams[\"legend.framealpha\"] = 0.0\n",
    "sns.set_theme()\n",
    "sns.set(font_scale=1.0) \n",
    "snsplot = sns.lineplot(data=pd.DataFrame(deepvcf.model.history.history))\n",
    "snsplot.set(xlabel='epoch', ylabel='score', title='Model History', xlim=0)\n",
    "snsplot.figure.savefig('example_files/images/bacterial-model-history.png')"
   ]
  },
  {
   "cell_type": "markdown",
   "id": "closing-armenia",
   "metadata": {},
   "source": [
    "# Use Model to generate a Variant Format File (VCF)"
   ]
  },
  {
   "cell_type": "code",
   "execution_count": 6,
   "id": "painted-merit",
   "metadata": {},
   "outputs": [
    {
     "name": "stdout",
     "output_type": "stream",
     "text": [
      "=== Building Pileup From Scratch ===\n",
      "=== Pilup Complete ===\n",
      "=== Tensors Complete ===\n",
      "CPU times: user 1min 43s, sys: 698 ms, total: 1min 43s\n",
      "Wall time: 1min 41s\n"
     ]
    }
   ],
   "source": [
    "%%time\n",
    "predicted_vcf_test = deepvcf.create_vcf(\n",
    "    reference_file=ref_test_be2percent,\n",
    "    alignment_file=bam_test_be2percent,\n",
    "    # save_pileup_to_destination='./example_files/staphylococcus/test/test.pileup.npy',\n",
    "    # use_saved_pileup='./example_files/staphylococcus/test/test.pileup.npy',  # Ignore the error, this will fail the first time if it doesn't exist\n",
    "    mimimum_alignment_coverage=.75,\n",
    "    minimum_coverage=30,\n",
    "    heterozygous_threshold=.25,\n",
    "    minimum_variant_radius=15,\n",
    "    output_folder='./example_files/staphylococcus/test/',  # save as an actual .vcf file\n",
    "    output_prefix='test' \n",
    ")"
   ]
  },
  {
   "cell_type": "markdown",
   "id": "grave-president",
   "metadata": {},
   "source": [
    "# Your predicted Variant Calls from the return"
   ]
  },
  {
   "cell_type": "code",
   "execution_count": 7,
   "id": "developing-technical",
   "metadata": {},
   "outputs": [
    {
     "data": {
      "text/html": [
       "<div>\n",
       "<style scoped>\n",
       "    .dataframe tbody tr th:only-of-type {\n",
       "        vertical-align: middle;\n",
       "    }\n",
       "\n",
       "    .dataframe tbody tr th {\n",
       "        vertical-align: top;\n",
       "    }\n",
       "\n",
       "    .dataframe thead th {\n",
       "        text-align: right;\n",
       "    }\n",
       "</style>\n",
       "<table border=\"1\" class=\"dataframe\">\n",
       "  <thead>\n",
       "    <tr style=\"text-align: right;\">\n",
       "      <th></th>\n",
       "      <th>CHROM</th>\n",
       "      <th>POS</th>\n",
       "      <th>ID</th>\n",
       "      <th>REF</th>\n",
       "      <th>ALT</th>\n",
       "      <th>QUAL</th>\n",
       "      <th>FILTER</th>\n",
       "      <th>INFO</th>\n",
       "      <th>FORMAT</th>\n",
       "      <th>Sample1</th>\n",
       "    </tr>\n",
       "  </thead>\n",
       "  <tbody>\n",
       "    <tr>\n",
       "      <th>0</th>\n",
       "      <td>NC_007795.1</td>\n",
       "      <td>656</td>\n",
       "      <td>.</td>\n",
       "      <td>C</td>\n",
       "      <td>A</td>\n",
       "      <td>.</td>\n",
       "      <td>PASS</td>\n",
       "      <td>DLGA=0.0,1.0,0.0,0.0;DLAA=1.0,0.0,0.0,0.0</td>\n",
       "      <td>GT</td>\n",
       "      <td>{'GT': '1/1'}</td>\n",
       "    </tr>\n",
       "    <tr>\n",
       "      <th>1</th>\n",
       "      <td>NC_007795.1</td>\n",
       "      <td>1005</td>\n",
       "      <td>.</td>\n",
       "      <td>C</td>\n",
       "      <td>T</td>\n",
       "      <td>.</td>\n",
       "      <td>PASS</td>\n",
       "      <td>DLGA=0.0,1.0,0.0,0.0;DLAA=0.0,0.0,0.0,1.0</td>\n",
       "      <td>GT</td>\n",
       "      <td>{'GT': '1/1'}</td>\n",
       "    </tr>\n",
       "    <tr>\n",
       "      <th>2</th>\n",
       "      <td>NC_007795.1</td>\n",
       "      <td>1501</td>\n",
       "      <td>.</td>\n",
       "      <td>G</td>\n",
       "      <td>T</td>\n",
       "      <td>.</td>\n",
       "      <td>PASS</td>\n",
       "      <td>DLGA=0.999,0.001,0.0,0.0;DLAA=0.001,0.0,0.468,...</td>\n",
       "      <td>GT</td>\n",
       "      <td>{'GT': '0/1'}</td>\n",
       "    </tr>\n",
       "    <tr>\n",
       "      <th>3</th>\n",
       "      <td>NC_007795.1</td>\n",
       "      <td>1520</td>\n",
       "      <td>.</td>\n",
       "      <td>G</td>\n",
       "      <td>T</td>\n",
       "      <td>.</td>\n",
       "      <td>PASS</td>\n",
       "      <td>DLGA=0.0,1.0,0.0,0.0;DLAA=0.0,0.0,0.0,1.0</td>\n",
       "      <td>GT</td>\n",
       "      <td>{'GT': '1/1'}</td>\n",
       "    </tr>\n",
       "    <tr>\n",
       "      <th>4</th>\n",
       "      <td>NC_007795.1</td>\n",
       "      <td>1533</td>\n",
       "      <td>.</td>\n",
       "      <td>A</td>\n",
       "      <td>C</td>\n",
       "      <td>.</td>\n",
       "      <td>PASS</td>\n",
       "      <td>DLGA=0.991,0.009,0.0,0.0;DLAA=0.514,0.559,0.00...</td>\n",
       "      <td>GT</td>\n",
       "      <td>{'GT': '0/1'}</td>\n",
       "    </tr>\n",
       "  </tbody>\n",
       "</table>\n",
       "</div>"
      ],
      "text/plain": [
       "         CHROM   POS ID REF ALT QUAL FILTER  \\\n",
       "0  NC_007795.1   656  .   C   A    .   PASS   \n",
       "1  NC_007795.1  1005  .   C   T    .   PASS   \n",
       "2  NC_007795.1  1501  .   G   T    .   PASS   \n",
       "3  NC_007795.1  1520  .   G   T    .   PASS   \n",
       "4  NC_007795.1  1533  .   A   C    .   PASS   \n",
       "\n",
       "                                                INFO FORMAT        Sample1  \n",
       "0          DLGA=0.0,1.0,0.0,0.0;DLAA=1.0,0.0,0.0,0.0     GT  {'GT': '1/1'}  \n",
       "1          DLGA=0.0,1.0,0.0,0.0;DLAA=0.0,0.0,0.0,1.0     GT  {'GT': '1/1'}  \n",
       "2  DLGA=0.999,0.001,0.0,0.0;DLAA=0.001,0.0,0.468,...     GT  {'GT': '0/1'}  \n",
       "3          DLGA=0.0,1.0,0.0,0.0;DLAA=0.0,0.0,0.0,1.0     GT  {'GT': '1/1'}  \n",
       "4  DLGA=0.991,0.009,0.0,0.0;DLAA=0.514,0.559,0.00...     GT  {'GT': '0/1'}  "
      ]
     },
     "execution_count": 7,
     "metadata": {},
     "output_type": "execute_result"
    }
   ],
   "source": [
    "predicted_vcf_test.head()"
   ]
  },
  {
   "cell_type": "markdown",
   "id": "relative-boost",
   "metadata": {},
   "source": [
    "# Your predicted Variant Calls from the file saved"
   ]
  },
  {
   "cell_type": "code",
   "execution_count": 8,
   "id": "photographic-league",
   "metadata": {},
   "outputs": [
    {
     "data": {
      "text/html": [
       "<div>\n",
       "<style scoped>\n",
       "    .dataframe tbody tr th:only-of-type {\n",
       "        vertical-align: middle;\n",
       "    }\n",
       "\n",
       "    .dataframe tbody tr th {\n",
       "        vertical-align: top;\n",
       "    }\n",
       "\n",
       "    .dataframe thead th {\n",
       "        text-align: right;\n",
       "    }\n",
       "</style>\n",
       "<table border=\"1\" class=\"dataframe\">\n",
       "  <thead>\n",
       "    <tr style=\"text-align: right;\">\n",
       "      <th></th>\n",
       "      <th>CHROM</th>\n",
       "      <th>POS</th>\n",
       "      <th>ID</th>\n",
       "      <th>REF</th>\n",
       "      <th>ALT</th>\n",
       "      <th>QUAL</th>\n",
       "      <th>FILTER</th>\n",
       "      <th>INFO</th>\n",
       "      <th>FORMAT</th>\n",
       "      <th>Sample1</th>\n",
       "    </tr>\n",
       "  </thead>\n",
       "  <tbody>\n",
       "    <tr>\n",
       "      <th>0</th>\n",
       "      <td>NC_007795.1</td>\n",
       "      <td>656</td>\n",
       "      <td>.</td>\n",
       "      <td>C</td>\n",
       "      <td>A</td>\n",
       "      <td>.</td>\n",
       "      <td>PASS</td>\n",
       "      <td>DLGA=0.0,1.0,0.0,0.0;DLAA=1.0,0.0,0.0,0.0</td>\n",
       "      <td>GT</td>\n",
       "      <td>{'GT': '1/1'}</td>\n",
       "    </tr>\n",
       "    <tr>\n",
       "      <th>1</th>\n",
       "      <td>NC_007795.1</td>\n",
       "      <td>1005</td>\n",
       "      <td>.</td>\n",
       "      <td>C</td>\n",
       "      <td>T</td>\n",
       "      <td>.</td>\n",
       "      <td>PASS</td>\n",
       "      <td>DLGA=0.0,1.0,0.0,0.0;DLAA=0.0,0.0,0.0,1.0</td>\n",
       "      <td>GT</td>\n",
       "      <td>{'GT': '1/1'}</td>\n",
       "    </tr>\n",
       "    <tr>\n",
       "      <th>2</th>\n",
       "      <td>NC_007795.1</td>\n",
       "      <td>1501</td>\n",
       "      <td>.</td>\n",
       "      <td>G</td>\n",
       "      <td>T</td>\n",
       "      <td>.</td>\n",
       "      <td>PASS</td>\n",
       "      <td>DLGA=0.999,0.001,0.0,0.0;DLAA=0.001,0.0,0.468,...</td>\n",
       "      <td>GT</td>\n",
       "      <td>{'GT': '0/1'}</td>\n",
       "    </tr>\n",
       "    <tr>\n",
       "      <th>3</th>\n",
       "      <td>NC_007795.1</td>\n",
       "      <td>1520</td>\n",
       "      <td>.</td>\n",
       "      <td>G</td>\n",
       "      <td>T</td>\n",
       "      <td>.</td>\n",
       "      <td>PASS</td>\n",
       "      <td>DLGA=0.0,1.0,0.0,0.0;DLAA=0.0,0.0,0.0,1.0</td>\n",
       "      <td>GT</td>\n",
       "      <td>{'GT': '1/1'}</td>\n",
       "    </tr>\n",
       "    <tr>\n",
       "      <th>4</th>\n",
       "      <td>NC_007795.1</td>\n",
       "      <td>1533</td>\n",
       "      <td>.</td>\n",
       "      <td>A</td>\n",
       "      <td>C</td>\n",
       "      <td>.</td>\n",
       "      <td>PASS</td>\n",
       "      <td>DLGA=0.991,0.009,0.0,0.0;DLAA=0.514,0.559,0.00...</td>\n",
       "      <td>GT</td>\n",
       "      <td>{'GT': '0/1'}</td>\n",
       "    </tr>\n",
       "    <tr>\n",
       "      <th>...</th>\n",
       "      <td>...</td>\n",
       "      <td>...</td>\n",
       "      <td>...</td>\n",
       "      <td>...</td>\n",
       "      <td>...</td>\n",
       "      <td>...</td>\n",
       "      <td>...</td>\n",
       "      <td>...</td>\n",
       "      <td>...</td>\n",
       "      <td>...</td>\n",
       "    </tr>\n",
       "    <tr>\n",
       "      <th>12573</th>\n",
       "      <td>NC_007795.1</td>\n",
       "      <td>2819650</td>\n",
       "      <td>.</td>\n",
       "      <td>T</td>\n",
       "      <td>G</td>\n",
       "      <td>.</td>\n",
       "      <td>PASS</td>\n",
       "      <td>DLGA=0.0,1.0,0.0,0.0;DLAA=0.0,0.0,1.0,0.0</td>\n",
       "      <td>GT</td>\n",
       "      <td>{'GT': '1/1'}</td>\n",
       "    </tr>\n",
       "    <tr>\n",
       "      <th>12574</th>\n",
       "      <td>NC_007795.1</td>\n",
       "      <td>2820369</td>\n",
       "      <td>.</td>\n",
       "      <td>G</td>\n",
       "      <td>C</td>\n",
       "      <td>.</td>\n",
       "      <td>PASS</td>\n",
       "      <td>DLGA=0.99,0.01,0.0,0.0;DLAA=0.009,0.477,0.533,...</td>\n",
       "      <td>GT</td>\n",
       "      <td>{'GT': '0/1'}</td>\n",
       "    </tr>\n",
       "    <tr>\n",
       "      <th>12575</th>\n",
       "      <td>NC_007795.1</td>\n",
       "      <td>2820389</td>\n",
       "      <td>.</td>\n",
       "      <td>T</td>\n",
       "      <td>A</td>\n",
       "      <td>.</td>\n",
       "      <td>PASS</td>\n",
       "      <td>DLGA=0.998,0.002,0.0,0.0;DLAA=0.508,0.0,0.0,0.531</td>\n",
       "      <td>GT</td>\n",
       "      <td>{'GT': '0/1'}</td>\n",
       "    </tr>\n",
       "    <tr>\n",
       "      <th>12576</th>\n",
       "      <td>NC_007795.1</td>\n",
       "      <td>2820492</td>\n",
       "      <td>.</td>\n",
       "      <td>G</td>\n",
       "      <td>C</td>\n",
       "      <td>.</td>\n",
       "      <td>PASS</td>\n",
       "      <td>DLGA=0.983,0.016,0.001,0.001;DLAA=0.006,0.5,0....</td>\n",
       "      <td>GT</td>\n",
       "      <td>{'GT': '0/1'}</td>\n",
       "    </tr>\n",
       "    <tr>\n",
       "      <th>12577</th>\n",
       "      <td>NC_007795.1</td>\n",
       "      <td>2820653</td>\n",
       "      <td>.</td>\n",
       "      <td>G</td>\n",
       "      <td>C</td>\n",
       "      <td>.</td>\n",
       "      <td>PASS</td>\n",
       "      <td>DLGA=0.0,1.0,0.0,0.0;DLAA=0.001,0.996,0.001,0.0</td>\n",
       "      <td>GT</td>\n",
       "      <td>{'GT': '1/1'}</td>\n",
       "    </tr>\n",
       "  </tbody>\n",
       "</table>\n",
       "<p>12578 rows × 10 columns</p>\n",
       "</div>"
      ],
      "text/plain": [
       "             CHROM      POS ID REF ALT QUAL FILTER  \\\n",
       "0      NC_007795.1      656  .   C   A    .   PASS   \n",
       "1      NC_007795.1     1005  .   C   T    .   PASS   \n",
       "2      NC_007795.1     1501  .   G   T    .   PASS   \n",
       "3      NC_007795.1     1520  .   G   T    .   PASS   \n",
       "4      NC_007795.1     1533  .   A   C    .   PASS   \n",
       "...            ...      ... ..  ..  ..  ...    ...   \n",
       "12573  NC_007795.1  2819650  .   T   G    .   PASS   \n",
       "12574  NC_007795.1  2820369  .   G   C    .   PASS   \n",
       "12575  NC_007795.1  2820389  .   T   A    .   PASS   \n",
       "12576  NC_007795.1  2820492  .   G   C    .   PASS   \n",
       "12577  NC_007795.1  2820653  .   G   C    .   PASS   \n",
       "\n",
       "                                                    INFO FORMAT        Sample1  \n",
       "0              DLGA=0.0,1.0,0.0,0.0;DLAA=1.0,0.0,0.0,0.0     GT  {'GT': '1/1'}  \n",
       "1              DLGA=0.0,1.0,0.0,0.0;DLAA=0.0,0.0,0.0,1.0     GT  {'GT': '1/1'}  \n",
       "2      DLGA=0.999,0.001,0.0,0.0;DLAA=0.001,0.0,0.468,...     GT  {'GT': '0/1'}  \n",
       "3              DLGA=0.0,1.0,0.0,0.0;DLAA=0.0,0.0,0.0,1.0     GT  {'GT': '1/1'}  \n",
       "4      DLGA=0.991,0.009,0.0,0.0;DLAA=0.514,0.559,0.00...     GT  {'GT': '0/1'}  \n",
       "...                                                  ...    ...            ...  \n",
       "12573          DLGA=0.0,1.0,0.0,0.0;DLAA=0.0,0.0,1.0,0.0     GT  {'GT': '1/1'}  \n",
       "12574  DLGA=0.99,0.01,0.0,0.0;DLAA=0.009,0.477,0.533,...     GT  {'GT': '0/1'}  \n",
       "12575  DLGA=0.998,0.002,0.0,0.0;DLAA=0.508,0.0,0.0,0.531     GT  {'GT': '0/1'}  \n",
       "12576  DLGA=0.983,0.016,0.001,0.001;DLAA=0.006,0.5,0....     GT  {'GT': '0/1'}  \n",
       "12577    DLGA=0.0,1.0,0.0,0.0;DLAA=0.001,0.996,0.001,0.0     GT  {'GT': '1/1'}  \n",
       "\n",
       "[12578 rows x 10 columns]"
      ]
     },
     "execution_count": 8,
     "metadata": {},
     "output_type": "execute_result"
    }
   ],
   "source": [
    "predicted_vcf_test = bpd.read_vcf('./example_files/staphylococcus/test/test.deepvcf.vcf')\n",
    "predicted_vcf_test"
   ]
  },
  {
   "cell_type": "markdown",
   "id": "protecting-immune",
   "metadata": {},
   "source": [
    "# Valitdation Metrics"
   ]
  },
  {
   "cell_type": "code",
   "execution_count": 9,
   "id": "aging-ottawa",
   "metadata": {},
   "outputs": [
    {
     "data": {
      "text/html": [
       "<div>\n",
       "<style scoped>\n",
       "    .dataframe tbody tr th:only-of-type {\n",
       "        vertical-align: middle;\n",
       "    }\n",
       "\n",
       "    .dataframe tbody tr th {\n",
       "        vertical-align: top;\n",
       "    }\n",
       "\n",
       "    .dataframe thead th {\n",
       "        text-align: right;\n",
       "    }\n",
       "</style>\n",
       "<table border=\"1\" class=\"dataframe\">\n",
       "  <thead>\n",
       "    <tr style=\"text-align: right;\">\n",
       "      <th></th>\n",
       "      <th>CHROM</th>\n",
       "      <th>POS</th>\n",
       "      <th>ID</th>\n",
       "      <th>REF</th>\n",
       "      <th>ALT</th>\n",
       "      <th>QUAL</th>\n",
       "      <th>FILTER</th>\n",
       "      <th>INFO</th>\n",
       "      <th>FORMAT</th>\n",
       "      <th>Sample1</th>\n",
       "    </tr>\n",
       "  </thead>\n",
       "  <tbody>\n",
       "    <tr>\n",
       "      <th>0</th>\n",
       "      <td>NC_007795.1</td>\n",
       "      <td>42</td>\n",
       "      <td>.</td>\n",
       "      <td>A</td>\n",
       "      <td>T</td>\n",
       "      <td>100</td>\n",
       "      <td>PASS</td>\n",
       "      <td>AF=1.0;pl=3;mt=SUBSTITUTE</td>\n",
       "      <td>GT</td>\n",
       "      <td>{'GT': '1/1'}</td>\n",
       "    </tr>\n",
       "    <tr>\n",
       "      <th>1</th>\n",
       "      <td>NC_007795.1</td>\n",
       "      <td>159</td>\n",
       "      <td>.</td>\n",
       "      <td>CAG</td>\n",
       "      <td>C</td>\n",
       "      <td>100</td>\n",
       "      <td>PASS</td>\n",
       "      <td>AF=1.0;pl=3;mt=DELETE</td>\n",
       "      <td>GT</td>\n",
       "      <td>{'GT': '1/1'}</td>\n",
       "    </tr>\n",
       "    <tr>\n",
       "      <th>2</th>\n",
       "      <td>NC_007795.1</td>\n",
       "      <td>656</td>\n",
       "      <td>.</td>\n",
       "      <td>C</td>\n",
       "      <td>A</td>\n",
       "      <td>100</td>\n",
       "      <td>PASS</td>\n",
       "      <td>AF=1.0;pl=3;mt=SUBSTITUTE</td>\n",
       "      <td>GT</td>\n",
       "      <td>{'GT': '1/1'}</td>\n",
       "    </tr>\n",
       "    <tr>\n",
       "      <th>3</th>\n",
       "      <td>NC_007795.1</td>\n",
       "      <td>1005</td>\n",
       "      <td>.</td>\n",
       "      <td>C</td>\n",
       "      <td>T</td>\n",
       "      <td>100</td>\n",
       "      <td>PASS</td>\n",
       "      <td>AF=1.0;pl=3;mt=SUBSTITUTE</td>\n",
       "      <td>GT</td>\n",
       "      <td>{'GT': '1/1'}</td>\n",
       "    </tr>\n",
       "    <tr>\n",
       "      <th>4</th>\n",
       "      <td>NC_007795.1</td>\n",
       "      <td>1501</td>\n",
       "      <td>.</td>\n",
       "      <td>G</td>\n",
       "      <td>T</td>\n",
       "      <td>100</td>\n",
       "      <td>PASS</td>\n",
       "      <td>AF=0.5;pl=1;mt=SUBSTITUTE</td>\n",
       "      <td>GT</td>\n",
       "      <td>{'GT': '0/1'}</td>\n",
       "    </tr>\n",
       "    <tr>\n",
       "      <th>...</th>\n",
       "      <td>...</td>\n",
       "      <td>...</td>\n",
       "      <td>...</td>\n",
       "      <td>...</td>\n",
       "      <td>...</td>\n",
       "      <td>...</td>\n",
       "      <td>...</td>\n",
       "      <td>...</td>\n",
       "      <td>...</td>\n",
       "      <td>...</td>\n",
       "    </tr>\n",
       "    <tr>\n",
       "      <th>14062</th>\n",
       "      <td>NC_007795.1</td>\n",
       "      <td>2820389</td>\n",
       "      <td>.</td>\n",
       "      <td>T</td>\n",
       "      <td>A</td>\n",
       "      <td>100</td>\n",
       "      <td>PASS</td>\n",
       "      <td>AF=0.5;pl=2;mt=SUBSTITUTE</td>\n",
       "      <td>GT</td>\n",
       "      <td>{'GT': '0/1'}</td>\n",
       "    </tr>\n",
       "    <tr>\n",
       "      <th>14063</th>\n",
       "      <td>NC_007795.1</td>\n",
       "      <td>2820492</td>\n",
       "      <td>.</td>\n",
       "      <td>G</td>\n",
       "      <td>C</td>\n",
       "      <td>100</td>\n",
       "      <td>PASS</td>\n",
       "      <td>AF=0.5;pl=2;mt=SUBSTITUTE</td>\n",
       "      <td>GT</td>\n",
       "      <td>{'GT': '0/1'}</td>\n",
       "    </tr>\n",
       "    <tr>\n",
       "      <th>14064</th>\n",
       "      <td>NC_007795.1</td>\n",
       "      <td>2820653</td>\n",
       "      <td>.</td>\n",
       "      <td>G</td>\n",
       "      <td>C</td>\n",
       "      <td>100</td>\n",
       "      <td>PASS</td>\n",
       "      <td>AF=1.0;pl=3;mt=SUBSTITUTE</td>\n",
       "      <td>GT</td>\n",
       "      <td>{'GT': '1/1'}</td>\n",
       "    </tr>\n",
       "    <tr>\n",
       "      <th>14065</th>\n",
       "      <td>NC_007795.1</td>\n",
       "      <td>2820660</td>\n",
       "      <td>.</td>\n",
       "      <td>A</td>\n",
       "      <td>AC</td>\n",
       "      <td>100</td>\n",
       "      <td>PASS</td>\n",
       "      <td>AF=1.0;pl=3;mt=INSERT</td>\n",
       "      <td>GT</td>\n",
       "      <td>{'GT': '1/1'}</td>\n",
       "    </tr>\n",
       "    <tr>\n",
       "      <th>14066</th>\n",
       "      <td>NC_007795.1</td>\n",
       "      <td>2821181</td>\n",
       "      <td>.</td>\n",
       "      <td>T</td>\n",
       "      <td>G</td>\n",
       "      <td>100</td>\n",
       "      <td>PASS</td>\n",
       "      <td>AF=0.5;pl=2;mt=SUBSTITUTE</td>\n",
       "      <td>GT</td>\n",
       "      <td>{'GT': '0/1'}</td>\n",
       "    </tr>\n",
       "  </tbody>\n",
       "</table>\n",
       "<p>14067 rows × 10 columns</p>\n",
       "</div>"
      ],
      "text/plain": [
       "             CHROM      POS ID  REF ALT QUAL FILTER  \\\n",
       "0      NC_007795.1       42  .    A   T  100   PASS   \n",
       "1      NC_007795.1      159  .  CAG   C  100   PASS   \n",
       "2      NC_007795.1      656  .    C   A  100   PASS   \n",
       "3      NC_007795.1     1005  .    C   T  100   PASS   \n",
       "4      NC_007795.1     1501  .    G   T  100   PASS   \n",
       "...            ...      ... ..  ...  ..  ...    ...   \n",
       "14062  NC_007795.1  2820389  .    T   A  100   PASS   \n",
       "14063  NC_007795.1  2820492  .    G   C  100   PASS   \n",
       "14064  NC_007795.1  2820653  .    G   C  100   PASS   \n",
       "14065  NC_007795.1  2820660  .    A  AC  100   PASS   \n",
       "14066  NC_007795.1  2821181  .    T   G  100   PASS   \n",
       "\n",
       "                            INFO FORMAT        Sample1  \n",
       "0      AF=1.0;pl=3;mt=SUBSTITUTE     GT  {'GT': '1/1'}  \n",
       "1          AF=1.0;pl=3;mt=DELETE     GT  {'GT': '1/1'}  \n",
       "2      AF=1.0;pl=3;mt=SUBSTITUTE     GT  {'GT': '1/1'}  \n",
       "3      AF=1.0;pl=3;mt=SUBSTITUTE     GT  {'GT': '1/1'}  \n",
       "4      AF=0.5;pl=1;mt=SUBSTITUTE     GT  {'GT': '0/1'}  \n",
       "...                          ...    ...            ...  \n",
       "14062  AF=0.5;pl=2;mt=SUBSTITUTE     GT  {'GT': '0/1'}  \n",
       "14063  AF=0.5;pl=2;mt=SUBSTITUTE     GT  {'GT': '0/1'}  \n",
       "14064  AF=1.0;pl=3;mt=SUBSTITUTE     GT  {'GT': '1/1'}  \n",
       "14065      AF=1.0;pl=3;mt=INSERT     GT  {'GT': '1/1'}  \n",
       "14066  AF=0.5;pl=2;mt=SUBSTITUTE     GT  {'GT': '0/1'}  \n",
       "\n",
       "[14067 rows x 10 columns]"
      ]
     },
     "execution_count": 9,
     "metadata": {},
     "output_type": "execute_result"
    }
   ],
   "source": [
    "bpd.read_vcf(vcf_test_be2percent)"
   ]
  },
  {
   "cell_type": "code",
   "execution_count": 10,
   "id": "executed-assist",
   "metadata": {},
   "outputs": [
    {
     "data": {
      "text/plain": [
       "{'hom_alt': {'Sensitivity': 0.9872701555869873,\n",
       "  'PPV': 0.9964311206281228,\n",
       "  'Accuracy': 0.9945028680688337,\n",
       "  'F1': 0.991829484902309},\n",
       " 'het': {'Sensitivity': 0.9890293346052945,\n",
       "  'PPV': 0.990446620491999,\n",
       "  'Accuracy': 0.9864074600916706,\n",
       "  'F1': 0.9897374701670645}}"
      ]
     },
     "execution_count": 10,
     "metadata": {},
     "output_type": "execute_result"
    }
   ],
   "source": [
    "# compare test to predicted\n",
    "metrics = deepvcf.validation(\n",
    "    predicted_vcf=predicted_vcf_test,\n",
    "    real_vcf=vcf_test_be2percent,\n",
    ")\n",
    "metrics"
   ]
  },
  {
   "cell_type": "markdown",
   "id": "congressional-respect",
   "metadata": {},
   "source": [
    "# Now we know the complete pipeline lets compare metrics for DeepVCF VS. BCFtools when base errors are 2% and 10%"
   ]
  },
  {
   "cell_type": "markdown",
   "id": "bacterial-clone",
   "metadata": {},
   "source": [
    "# 2% trained - 2% tested"
   ]
  },
  {
   "cell_type": "code",
   "execution_count": 11,
   "id": "proved-conviction",
   "metadata": {},
   "outputs": [
    {
     "name": "stdout",
     "output_type": "stream",
     "text": [
      "=== Building Pileup From Scratch ===\n",
      "=== Pilup Complete ===\n",
      "=== Tensors Complete ===\n",
      "=== Building Pileup From Scratch ===\n",
      "=== Pilup Complete ===\n",
      "=== Tensors Complete ===\n"
     ]
    }
   ],
   "source": [
    "deepvcf = DeepVCF()\n",
    "pileup = './example_files/staphylococcus/train/train-base-error-2percent.pileup.npy'\n",
    "deepvcf.train(\n",
    "    reference_file=ref_train_be2percent,\n",
    "    alignment_file=bam_train_be2percent,\n",
    "    vcf_file=vcf_train_be2percent,\n",
    "    mimimum_alignment_coverage=.75,\n",
    "    minimum_coverage=30,\n",
    "    heterozygous_threshold=.25,\n",
    "    minimum_variant_radius=15,\n",
    "    # save_pileup_to_destination=pileup,\n",
    "    # use_saved_pileup=pileup,  # Ignore the error, this will fail the first time if it doesn't exist\n",
    "    verbose=0,\n",
    ")\n",
    "dvf_be2 = deepvcf.create_vcf(\n",
    "    reference_file=ref_test_be2percent,\n",
    "    alignment_file=bam_test_be2percent,\n",
    "    # save_pileup_to_destination='./example_files/staphylococcus/test/test-base-error-2percent.pileup.npy',\n",
    "    # use_saved_pileup='./example_files/staphylococcus/test/test-base-error-2percent.pileup.npy',    \n",
    "    mimimum_alignment_coverage=.75,\n",
    "    minimum_coverage=30,\n",
    "    heterozygous_threshold=.25,\n",
    "    minimum_variant_radius=15,\n",
    "    output_folder='./example_files',  # save as an actual .vcf file\n",
    "    output_prefix='demo-be-2-2' \n",
    ")"
   ]
  },
  {
   "cell_type": "code",
   "execution_count": 12,
   "id": "undefined-russell",
   "metadata": {},
   "outputs": [
    {
     "data": {
      "text/plain": [
       "{'hom_alt': {'Sensitivity': 0.9839698255539839,\n",
       "  'PPV': 0.995706106870229,\n",
       "  'Accuracy': 0.9931485022307202,\n",
       "  'F1': 0.9898031776144178},\n",
       " 'het': {'Sensitivity': 0.9887908418793226,\n",
       "  'PPV': 0.9887908418793226,\n",
       "  'Accuracy': 0.9851430377746168,\n",
       "  'F1': 0.9887908418793226}}"
      ]
     },
     "execution_count": 12,
     "metadata": {},
     "output_type": "execute_result"
    }
   ],
   "source": [
    "dvf_be2_metrics = deepvcf.validation(real_vcf=vcf_test_be2percent, predicted_vcf=dvf_be2)\n",
    "dvf_be2_metrics"
   ]
  },
  {
   "cell_type": "markdown",
   "id": "fourth-avatar",
   "metadata": {},
   "source": [
    "# 2% trained - 10% tested"
   ]
  },
  {
   "cell_type": "code",
   "execution_count": 13,
   "id": "organizational-favor",
   "metadata": {},
   "outputs": [
    {
     "name": "stdout",
     "output_type": "stream",
     "text": [
      "=== Building Pileup From Scratch ===\n",
      "=== Pilup Complete ===\n",
      "=== Tensors Complete ===\n",
      "=== Building Pileup From Scratch ===\n",
      "=== Pilup Complete ===\n",
      "=== Tensors Complete ===\n"
     ]
    }
   ],
   "source": [
    "deepvcf = DeepVCF()\n",
    "deepvcf.train(\n",
    "    reference_file=ref_train_be2percent,\n",
    "    alignment_file=bam_train_be2percent,\n",
    "    vcf_file=vcf_train_be2percent,\n",
    "    mimimum_alignment_coverage=.75,\n",
    "    minimum_coverage=30,\n",
    "    heterozygous_threshold=.25,\n",
    "    minimum_variant_radius=15,\n",
    "    # save_pileup_to_destination='./example_files/staphylococcus/train/train-base-error-2percent.pileup.npy',\n",
    "    # use_saved_pileup='./example_files/staphylococcus/train/train-base-error-2percent.pileup.npy',  # Ignore the error, this will fail the first time if it doesn't exist\n",
    "    verbose=0,\n",
    ")\n",
    "dvf_be_2_10 = deepvcf.create_vcf(\n",
    "    reference_file=ref_test_be10percent,\n",
    "    alignment_file=bam_test_be10percent,\n",
    "    # save_pileup_to_destination='./example_files/staphylococcus/test/test-base-error-10percent.pileup.npy',\n",
    "    # use_saved_pileup='./example_files/staphylococcus/test/test-base-error-10percent.pileup.npy',  # Ignore the error, this will fail the first time if it doesn't exist\n",
    "    mimimum_alignment_coverage=.75,\n",
    "    minimum_coverage=30,\n",
    "    heterozygous_threshold=.25,\n",
    "    minimum_variant_radius=15,\n",
    "    output_folder='./example_files/',  # save as an actual .vcf file\n",
    "    output_prefix='demo-be-2-10' \n",
    ")"
   ]
  },
  {
   "cell_type": "code",
   "execution_count": 14,
   "id": "radio-portland",
   "metadata": {},
   "outputs": [
    {
     "data": {
      "text/plain": [
       "{'hom_alt': {'Sensitivity': 0.9294308190652476,\n",
       "  'PPV': 0.9982604373757455,\n",
       "  'Accuracy': 0.9752577319587629,\n",
       "  'F1': 0.9626168224299065},\n",
       " 'het': {'Sensitivity': 0.9805779251539555,\n",
       "  'PPV': 0.9708054871614492,\n",
       "  'Accuracy': 0.9675059008654603,\n",
       "  'F1': 0.9756672361986685}}"
      ]
     },
     "execution_count": 14,
     "metadata": {},
     "output_type": "execute_result"
    }
   ],
   "source": [
    "dvf_be_2_10_metrics = deepvcf.validation(real_vcf=vcf_test_be10percent, predicted_vcf=dvf_be_2_10)\n",
    "dvf_be_2_10_metrics"
   ]
  },
  {
   "cell_type": "markdown",
   "id": "seven-payroll",
   "metadata": {},
   "source": [
    "# 10% trained - 10% tested "
   ]
  },
  {
   "cell_type": "code",
   "execution_count": 15,
   "id": "informational-calvin",
   "metadata": {},
   "outputs": [
    {
     "name": "stdout",
     "output_type": "stream",
     "text": [
      "=== Building Pileup From Scratch ===\n",
      "=== Pilup Complete ===\n",
      "=== Tensors Complete ===\n",
      "=== Building Pileup From Scratch ===\n",
      "=== Pilup Complete ===\n",
      "=== Tensors Complete ===\n"
     ]
    }
   ],
   "source": [
    "deepvcf = DeepVCF()\n",
    "deepvcf.train(\n",
    "    reference_file=ref_train_be10percent,\n",
    "    alignment_file=bam_train_be10percent,\n",
    "    vcf_file=vcf_train_be10percent,\n",
    "    mimimum_alignment_coverage=.75,\n",
    "    minimum_coverage=30,\n",
    "    heterozygous_threshold=.25,\n",
    "    minimum_variant_radius=15,\n",
    "    # save_pileup_to_destination='./example_files/staphylococcus/train/train-base-error-10percent.pileup.npy',\n",
    "    # use_saved_pileup='./example_files/staphylococcus/train/train-base-error-10percent.pileup.npy',  # Ignore the error, this will fail the first time if it doesn't exist\n",
    "    verbose=0,\n",
    ")\n",
    "dvf_be10 = deepvcf.create_vcf(\n",
    "    reference_file=ref_test_be10percent,\n",
    "    alignment_file=bam_test_be10percent,\n",
    "    # save_pileup_to_destination='./example_files/staphylococcus/test/test-base-error-10percent.pileup.npy',\n",
    "    # use_saved_pileup='./example_files/staphylococcus/test/test-base-error-10percent.pileup.npy',  # Ignore the error, this will fail the first time if it doesn't exist\n",
    "    mimimum_alignment_coverage=.75,\n",
    "    minimum_coverage=30,\n",
    "    heterozygous_threshold=.25,\n",
    "    minimum_variant_radius=15,\n",
    "    output_folder='./example_files',  # save as an actual .vcf file\n",
    "    output_prefix='demo-be-10-10' \n",
    ")"
   ]
  },
  {
   "cell_type": "code",
   "execution_count": 16,
   "id": "understanding-product",
   "metadata": {},
   "outputs": [
    {
     "data": {
      "text/plain": [
       "{'hom_alt': {'Sensitivity': 0.96760758907913,\n",
       "  'PPV': 0.99476688867745,\n",
       "  'Accuracy': 0.9871530531324346,\n",
       "  'F1': 0.9809992962702322},\n",
       " 'het': {'Sensitivity': 0.9783278067266699,\n",
       "  'PPV': 0.9904088238820286,\n",
       "  'Accuracy': 0.9793011175822446,\n",
       "  'F1': 0.9843312481382186}}"
      ]
     },
     "execution_count": 16,
     "metadata": {},
     "output_type": "execute_result"
    }
   ],
   "source": [
    "dvf_be10_metrics = deepvcf.validation(real_vcf=vcf_test_be10percent, predicted_vcf=dvf_be10)\n",
    "dvf_be10_metrics"
   ]
  },
  {
   "cell_type": "code",
   "execution_count": 17,
   "id": "another-image",
   "metadata": {},
   "outputs": [
    {
     "name": "stdout",
     "output_type": "stream",
     "text": [
      "=== Building Pileup From Scratch ===\n",
      "=== Pilup Complete ===\n",
      "=== Tensors Complete ===\n",
      "=== Building Pileup From Scratch ===\n",
      "=== Pilup Complete ===\n",
      "=== Tensors Complete ===\n"
     ]
    }
   ],
   "source": [
    "deepvcf = DeepVCF()\n",
    "deepvcf.train(\n",
    "    reference_file=ref_train_be10percent,\n",
    "    alignment_file=bam_train_be10percent,\n",
    "    vcf_file=vcf_train_be10percent,\n",
    "    mimimum_alignment_coverage=.75,\n",
    "    minimum_coverage=30,\n",
    "    heterozygous_threshold=.25,\n",
    "    minimum_variant_radius=15,\n",
    "    # save_pileup_to_destination='./example_files/staphylococcus/train/train-base-error-10percent.pileup.npy',\n",
    "    # use_saved_pileup='./example_files/staphylococcus/train/train-base-error-10percent.pileup.npy',  # Ignore the error, this will fail the first time if it doesn't exist\n",
    "    verbose=0,\n",
    ")\n",
    "dvf_be_10_2 = deepvcf.create_vcf(\n",
    "    reference_file=ref_test_be2percent,\n",
    "    alignment_file=bam_test_be2percent,\n",
    "    # save_pileup_to_destination='./example_files/staphylococcus/test/test-base-error-10percent.pileup.npy',\n",
    "    # use_saved_pileup='./example_files/staphylococcus/test/test-base-error-2percent.pileup.npy',  # Ignore the error, this will fail the first time if it doesn't exist\n",
    "    mimimum_alignment_coverage=.75,\n",
    "    minimum_coverage=30,\n",
    "    heterozygous_threshold=.25,\n",
    "    minimum_variant_radius=15,\n",
    "    output_folder='./example_files',  # save as an actual .vcf file\n",
    "    output_prefix='demo-be-10-2' \n",
    ")"
   ]
  },
  {
   "cell_type": "code",
   "execution_count": 18,
   "id": "exceptional-friendship",
   "metadata": {},
   "outputs": [
    {
     "data": {
      "text/plain": [
       "{'hom_alt': {'Sensitivity': 0.9891560584629892,\n",
       "  'PPV': 0.9783166239216601,\n",
       "  'Accuracy': 0.9889260675589547,\n",
       "  'F1': 0.9837064822412378},\n",
       " 'het': {'Sensitivity': 0.9796088719294062,\n",
       "  'PPV': 0.9914313299541395,\n",
       "  'Accuracy': 0.9808756124545598,\n",
       "  'F1': 0.9854846449136276}}"
      ]
     },
     "execution_count": 18,
     "metadata": {},
     "output_type": "execute_result"
    }
   ],
   "source": [
    "dvf_be_10_2_metrics = deepvcf.validation(real_vcf=vcf_test_be2percent, predicted_vcf=dvf_be_10_2)\n",
    "dvf_be_10_2_metrics"
   ]
  },
  {
   "cell_type": "markdown",
   "id": "bottom-sacrifice",
   "metadata": {},
   "source": [
    "# BCFtools Variant calling "
   ]
  },
  {
   "cell_type": "markdown",
   "id": "heated-yield",
   "metadata": {},
   "source": [
    "## 2% base error"
   ]
  },
  {
   "cell_type": "code",
   "execution_count": 26,
   "id": "fresh-laugh",
   "metadata": {},
   "outputs": [
    {
     "name": "stdout",
     "output_type": "stream",
     "text": [
      "{'het': {'Accuracy': 0.9932351172579675,\n",
      "         'F1': 0.9946056101654279,\n",
      "         'PPV': 0.9998794890335021,\n",
      "         'Sensitivity': 0.9893870736942523},\n",
      " 'hom_alt': {'Accuracy': 0.9977351653329307,\n",
      "             'F1': 0.9964522232734153,\n",
      "             'PPV': 0.9997626957759849,\n",
      "             'Sensitivity': 0.9931636020744932}}\n"
     ]
    }
   ],
   "source": [
    "bcf_be2_metrics = deepvcf.validation(\n",
    "    predicted_vcf=samtools_variant_calls_be2percent,\n",
    "    real_vcf=vcf_test_be2percent,\n",
    ")\n",
    "pprint(bcf_be2_metrics)"
   ]
  },
  {
   "cell_type": "markdown",
   "id": "cosmetic-hollywood",
   "metadata": {},
   "source": [
    "##  10% base error "
   ]
  },
  {
   "cell_type": "code",
   "execution_count": 27,
   "id": "burning-composer",
   "metadata": {},
   "outputs": [
    {
     "name": "stdout",
     "output_type": "stream",
     "text": [
      "{'het': {'Accuracy': 0.29926002409223884,\n",
      "         'F1': 0.07222601959444065,\n",
      "         'PPV': 0.9491017964071856,\n",
      "         'Sensitivity': 0.03754144954997631},\n",
      " 'hom_alt': {'Accuracy': 0.6540052651372696,\n",
      "             'F1': 0.7745650575839255,\n",
      "             'PPV': 0.8231770833333333,\n",
      "             'Sensitivity': 0.7313743637204998}}\n"
     ]
    }
   ],
   "source": [
    "bcf_be10_metrics = deepvcf.validation(\n",
    "    predicted_vcf=samtools_variant_calls_be10percent,\n",
    "    real_vcf=vcf_test_be10percent,\n",
    ")\n",
    "pprint(bcf_be10_metrics)"
   ]
  },
  {
   "cell_type": "markdown",
   "id": "geological-disorder",
   "metadata": {},
   "source": [
    "# Comparting DeepVCF with BCFtools when using noisy data"
   ]
  },
  {
   "cell_type": "code",
   "execution_count": 56,
   "id": "described-wilderness",
   "metadata": {},
   "outputs": [],
   "source": [
    "metrics = [\n",
    "    dvf_be2_metrics,\n",
    "    dvf_be10_metrics,\n",
    "    dvf_be_2_10_metrics,\n",
    "    dvf_be_10_2_metrics,\n",
    "    bcf_be2_metrics,\n",
    "    bcf_be10_metrics,\n",
    "]\n",
    "names = [\n",
    "    'DVCF-2',\n",
    "    'DVCF-10',\n",
    "    'DVCF-2-10',\n",
    "    'DVCF-10-2',\n",
    "    'BCF-2',\n",
    "    'BCF-10'\n",
    "]\n",
    "hom_alts = [{**{'tool':name}, **m['hom_alt']} for name, m in zip(names, metrics)]\n",
    "hets = [{**{'tool': name}, **m['het']} for name, m in zip(names, metrics)]\n",
    "hom_alt = pd.DataFrame(hom_alts)\n",
    "het = pd.DataFrame(hets)"
   ]
  },
  {
   "cell_type": "code",
   "execution_count": 63,
   "id": "cardiac-converter",
   "metadata": {},
   "outputs": [
    {
     "data": {
      "text/html": [
       "<style  type=\"text/css\" >\n",
       "#T_401a4_row0_col1{\n",
       "            background-color:  #034165;\n",
       "            color:  #f1f1f1;\n",
       "        }#T_401a4_row0_col2{\n",
       "            background-color:  #023d60;\n",
       "            color:  #f1f1f1;\n",
       "        }#T_401a4_row0_col3,#T_401a4_row3_col1{\n",
       "            background-color:  #023b5d;\n",
       "            color:  #f1f1f1;\n",
       "        }#T_401a4_row0_col4,#T_401a4_row1_col2,#T_401a4_row1_col3{\n",
       "            background-color:  #023f64;\n",
       "            color:  #f1f1f1;\n",
       "        }#T_401a4_row1_col1{\n",
       "            background-color:  #045280;\n",
       "            color:  #f1f1f1;\n",
       "        }#T_401a4_row1_col4{\n",
       "            background-color:  #034a74;\n",
       "            color:  #f1f1f1;\n",
       "        }#T_401a4_row2_col1{\n",
       "            background-color:  #056fae;\n",
       "            color:  #f1f1f1;\n",
       "        }#T_401a4_row2_col2{\n",
       "            background-color:  #023a5b;\n",
       "            color:  #f1f1f1;\n",
       "        }#T_401a4_row2_col3{\n",
       "            background-color:  #034973;\n",
       "            color:  #f1f1f1;\n",
       "        }#T_401a4_row2_col4{\n",
       "            background-color:  #045f95;\n",
       "            color:  #f1f1f1;\n",
       "        }#T_401a4_row3_col2{\n",
       "            background-color:  #04598c;\n",
       "            color:  #f1f1f1;\n",
       "        }#T_401a4_row3_col3{\n",
       "            background-color:  #023e62;\n",
       "            color:  #f1f1f1;\n",
       "        }#T_401a4_row3_col4{\n",
       "            background-color:  #03476f;\n",
       "            color:  #f1f1f1;\n",
       "        }#T_401a4_row4_col1,#T_401a4_row4_col2,#T_401a4_row4_col3,#T_401a4_row4_col4{\n",
       "            background-color:  #023858;\n",
       "            color:  #f1f1f1;\n",
       "        }#T_401a4_row5_col1,#T_401a4_row5_col2,#T_401a4_row5_col3,#T_401a4_row5_col4{\n",
       "            background-color:  #fff7fb;\n",
       "            color:  #000000;\n",
       "        }</style><table id=\"T_401a4_\" ><thead>    <tr>        <th class=\"blank level0\" ></th>        <th class=\"col_heading level0 col0\" >tool</th>        <th class=\"col_heading level0 col1\" >Sensitivity</th>        <th class=\"col_heading level0 col2\" >PPV</th>        <th class=\"col_heading level0 col3\" >Accuracy</th>        <th class=\"col_heading level0 col4\" >F1</th>    </tr></thead><tbody>\n",
       "                <tr>\n",
       "                        <th id=\"T_401a4_level0_row0\" class=\"row_heading level0 row0\" >0</th>\n",
       "                        <td id=\"T_401a4_row0_col0\" class=\"data row0 col0\" >DVCF-2</td>\n",
       "                        <td id=\"T_401a4_row0_col1\" class=\"data row0 col1\" >0.983970</td>\n",
       "                        <td id=\"T_401a4_row0_col2\" class=\"data row0 col2\" >0.995706</td>\n",
       "                        <td id=\"T_401a4_row0_col3\" class=\"data row0 col3\" >0.993149</td>\n",
       "                        <td id=\"T_401a4_row0_col4\" class=\"data row0 col4\" >0.989803</td>\n",
       "            </tr>\n",
       "            <tr>\n",
       "                        <th id=\"T_401a4_level0_row1\" class=\"row_heading level0 row1\" >1</th>\n",
       "                        <td id=\"T_401a4_row1_col0\" class=\"data row1 col0\" >DVCF-10</td>\n",
       "                        <td id=\"T_401a4_row1_col1\" class=\"data row1 col1\" >0.967608</td>\n",
       "                        <td id=\"T_401a4_row1_col2\" class=\"data row1 col2\" >0.994767</td>\n",
       "                        <td id=\"T_401a4_row1_col3\" class=\"data row1 col3\" >0.987153</td>\n",
       "                        <td id=\"T_401a4_row1_col4\" class=\"data row1 col4\" >0.980999</td>\n",
       "            </tr>\n",
       "            <tr>\n",
       "                        <th id=\"T_401a4_level0_row2\" class=\"row_heading level0 row2\" >2</th>\n",
       "                        <td id=\"T_401a4_row2_col0\" class=\"data row2 col0\" >DVCF-2-10</td>\n",
       "                        <td id=\"T_401a4_row2_col1\" class=\"data row2 col1\" >0.929431</td>\n",
       "                        <td id=\"T_401a4_row2_col2\" class=\"data row2 col2\" >0.998260</td>\n",
       "                        <td id=\"T_401a4_row2_col3\" class=\"data row2 col3\" >0.975258</td>\n",
       "                        <td id=\"T_401a4_row2_col4\" class=\"data row2 col4\" >0.962617</td>\n",
       "            </tr>\n",
       "            <tr>\n",
       "                        <th id=\"T_401a4_level0_row3\" class=\"row_heading level0 row3\" >3</th>\n",
       "                        <td id=\"T_401a4_row3_col0\" class=\"data row3 col0\" >DVCF-10-2</td>\n",
       "                        <td id=\"T_401a4_row3_col1\" class=\"data row3 col1\" >0.989156</td>\n",
       "                        <td id=\"T_401a4_row3_col2\" class=\"data row3 col2\" >0.978317</td>\n",
       "                        <td id=\"T_401a4_row3_col3\" class=\"data row3 col3\" >0.988926</td>\n",
       "                        <td id=\"T_401a4_row3_col4\" class=\"data row3 col4\" >0.983706</td>\n",
       "            </tr>\n",
       "            <tr>\n",
       "                        <th id=\"T_401a4_level0_row4\" class=\"row_heading level0 row4\" >4</th>\n",
       "                        <td id=\"T_401a4_row4_col0\" class=\"data row4 col0\" >BCF-2</td>\n",
       "                        <td id=\"T_401a4_row4_col1\" class=\"data row4 col1\" >0.993164</td>\n",
       "                        <td id=\"T_401a4_row4_col2\" class=\"data row4 col2\" >0.999763</td>\n",
       "                        <td id=\"T_401a4_row4_col3\" class=\"data row4 col3\" >0.997735</td>\n",
       "                        <td id=\"T_401a4_row4_col4\" class=\"data row4 col4\" >0.996452</td>\n",
       "            </tr>\n",
       "            <tr>\n",
       "                        <th id=\"T_401a4_level0_row5\" class=\"row_heading level0 row5\" >5</th>\n",
       "                        <td id=\"T_401a4_row5_col0\" class=\"data row5 col0\" >BCF-10</td>\n",
       "                        <td id=\"T_401a4_row5_col1\" class=\"data row5 col1\" >0.731374</td>\n",
       "                        <td id=\"T_401a4_row5_col2\" class=\"data row5 col2\" >0.823177</td>\n",
       "                        <td id=\"T_401a4_row5_col3\" class=\"data row5 col3\" >0.654005</td>\n",
       "                        <td id=\"T_401a4_row5_col4\" class=\"data row5 col4\" >0.774565</td>\n",
       "            </tr>\n",
       "    </tbody></table>"
      ],
      "text/plain": [
       "<pandas.io.formats.style.Styler at 0x7f73a84ffcd0>"
      ]
     },
     "execution_count": 63,
     "metadata": {},
     "output_type": "execute_result"
    }
   ],
   "source": [
    "hom_alt.style.background_gradient()"
   ]
  },
  {
   "cell_type": "code",
   "execution_count": 64,
   "id": "hydraulic-aberdeen",
   "metadata": {},
   "outputs": [
    {
     "data": {
      "text/html": [
       "<style  type=\"text/css\" >\n",
       "#T_70947_row0_col1,#T_70947_row4_col1,#T_70947_row4_col2,#T_70947_row4_col3,#T_70947_row4_col4{\n",
       "            background-color:  #023858;\n",
       "            color:  #f1f1f1;\n",
       "        }#T_70947_row0_col2{\n",
       "            background-color:  #056aa6;\n",
       "            color:  #f1f1f1;\n",
       "        }#T_70947_row0_col3,#T_70947_row1_col1,#T_70947_row1_col4,#T_70947_row2_col1,#T_70947_row3_col1,#T_70947_row3_col4{\n",
       "            background-color:  #023a5b;\n",
       "            color:  #f1f1f1;\n",
       "        }#T_70947_row0_col4{\n",
       "            background-color:  #02395a;\n",
       "            color:  #f1f1f1;\n",
       "        }#T_70947_row1_col2{\n",
       "            background-color:  #04649e;\n",
       "            color:  #f1f1f1;\n",
       "        }#T_70947_row1_col3,#T_70947_row2_col4{\n",
       "            background-color:  #023d60;\n",
       "            color:  #f1f1f1;\n",
       "        }#T_70947_row2_col2{\n",
       "            background-color:  #91b5d6;\n",
       "            color:  #000000;\n",
       "        }#T_70947_row2_col3{\n",
       "            background-color:  #034267;\n",
       "            color:  #f1f1f1;\n",
       "        }#T_70947_row3_col2{\n",
       "            background-color:  #046198;\n",
       "            color:  #f1f1f1;\n",
       "        }#T_70947_row3_col3{\n",
       "            background-color:  #023c5f;\n",
       "            color:  #f1f1f1;\n",
       "        }#T_70947_row5_col1,#T_70947_row5_col2,#T_70947_row5_col3,#T_70947_row5_col4{\n",
       "            background-color:  #fff7fb;\n",
       "            color:  #000000;\n",
       "        }</style><table id=\"T_70947_\" ><thead>    <tr>        <th class=\"blank level0\" ></th>        <th class=\"col_heading level0 col0\" >tool</th>        <th class=\"col_heading level0 col1\" >Sensitivity</th>        <th class=\"col_heading level0 col2\" >PPV</th>        <th class=\"col_heading level0 col3\" >Accuracy</th>        <th class=\"col_heading level0 col4\" >F1</th>    </tr></thead><tbody>\n",
       "                <tr>\n",
       "                        <th id=\"T_70947_level0_row0\" class=\"row_heading level0 row0\" >0</th>\n",
       "                        <td id=\"T_70947_row0_col0\" class=\"data row0 col0\" >DVCF-2</td>\n",
       "                        <td id=\"T_70947_row0_col1\" class=\"data row0 col1\" >0.988791</td>\n",
       "                        <td id=\"T_70947_row0_col2\" class=\"data row0 col2\" >0.988791</td>\n",
       "                        <td id=\"T_70947_row0_col3\" class=\"data row0 col3\" >0.985143</td>\n",
       "                        <td id=\"T_70947_row0_col4\" class=\"data row0 col4\" >0.988791</td>\n",
       "            </tr>\n",
       "            <tr>\n",
       "                        <th id=\"T_70947_level0_row1\" class=\"row_heading level0 row1\" >1</th>\n",
       "                        <td id=\"T_70947_row1_col0\" class=\"data row1 col0\" >DVCF-10</td>\n",
       "                        <td id=\"T_70947_row1_col1\" class=\"data row1 col1\" >0.978328</td>\n",
       "                        <td id=\"T_70947_row1_col2\" class=\"data row1 col2\" >0.990409</td>\n",
       "                        <td id=\"T_70947_row1_col3\" class=\"data row1 col3\" >0.979301</td>\n",
       "                        <td id=\"T_70947_row1_col4\" class=\"data row1 col4\" >0.984331</td>\n",
       "            </tr>\n",
       "            <tr>\n",
       "                        <th id=\"T_70947_level0_row2\" class=\"row_heading level0 row2\" >2</th>\n",
       "                        <td id=\"T_70947_row2_col0\" class=\"data row2 col0\" >DVCF-2-10</td>\n",
       "                        <td id=\"T_70947_row2_col1\" class=\"data row2 col1\" >0.980578</td>\n",
       "                        <td id=\"T_70947_row2_col2\" class=\"data row2 col2\" >0.970805</td>\n",
       "                        <td id=\"T_70947_row2_col3\" class=\"data row2 col3\" >0.967506</td>\n",
       "                        <td id=\"T_70947_row2_col4\" class=\"data row2 col4\" >0.975667</td>\n",
       "            </tr>\n",
       "            <tr>\n",
       "                        <th id=\"T_70947_level0_row3\" class=\"row_heading level0 row3\" >3</th>\n",
       "                        <td id=\"T_70947_row3_col0\" class=\"data row3 col0\" >DVCF-10-2</td>\n",
       "                        <td id=\"T_70947_row3_col1\" class=\"data row3 col1\" >0.979609</td>\n",
       "                        <td id=\"T_70947_row3_col2\" class=\"data row3 col2\" >0.991431</td>\n",
       "                        <td id=\"T_70947_row3_col3\" class=\"data row3 col3\" >0.980876</td>\n",
       "                        <td id=\"T_70947_row3_col4\" class=\"data row3 col4\" >0.985485</td>\n",
       "            </tr>\n",
       "            <tr>\n",
       "                        <th id=\"T_70947_level0_row4\" class=\"row_heading level0 row4\" >4</th>\n",
       "                        <td id=\"T_70947_row4_col0\" class=\"data row4 col0\" >BCF-2</td>\n",
       "                        <td id=\"T_70947_row4_col1\" class=\"data row4 col1\" >0.989387</td>\n",
       "                        <td id=\"T_70947_row4_col2\" class=\"data row4 col2\" >0.999879</td>\n",
       "                        <td id=\"T_70947_row4_col3\" class=\"data row4 col3\" >0.993235</td>\n",
       "                        <td id=\"T_70947_row4_col4\" class=\"data row4 col4\" >0.994606</td>\n",
       "            </tr>\n",
       "            <tr>\n",
       "                        <th id=\"T_70947_level0_row5\" class=\"row_heading level0 row5\" >5</th>\n",
       "                        <td id=\"T_70947_row5_col0\" class=\"data row5 col0\" >BCF-10</td>\n",
       "                        <td id=\"T_70947_row5_col1\" class=\"data row5 col1\" >0.037541</td>\n",
       "                        <td id=\"T_70947_row5_col2\" class=\"data row5 col2\" >0.949102</td>\n",
       "                        <td id=\"T_70947_row5_col3\" class=\"data row5 col3\" >0.299260</td>\n",
       "                        <td id=\"T_70947_row5_col4\" class=\"data row5 col4\" >0.072226</td>\n",
       "            </tr>\n",
       "    </tbody></table>"
      ],
      "text/plain": [
       "<pandas.io.formats.style.Styler at 0x7f73a8290190>"
      ]
     },
     "execution_count": 64,
     "metadata": {},
     "output_type": "execute_result"
    }
   ],
   "source": [
    "het.style.background_gradient()"
   ]
  },
  {
   "cell_type": "markdown",
   "id": "prime-manhattan",
   "metadata": {},
   "source": [
    "Here we can see BCFtools has a higher percision when the data is normal, but when the data has a high 10% base error rate it becomes unusable with heterozygous cals on the default settings and okay at homzygous alternatives."
   ]
  }
 ],
 "metadata": {
  "kernelspec": {
   "display_name": "Python [conda env:root] *",
   "language": "python",
   "name": "conda-root-py"
  },
  "language_info": {
   "codemirror_mode": {
    "name": "ipython",
    "version": 3
   },
   "file_extension": ".py",
   "mimetype": "text/x-python",
   "name": "python",
   "nbconvert_exporter": "python",
   "pygments_lexer": "ipython3",
   "version": "3.8.5"
  }
 },
 "nbformat": 4,
 "nbformat_minor": 5
}
