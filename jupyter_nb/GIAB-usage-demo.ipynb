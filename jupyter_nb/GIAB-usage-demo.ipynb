{
 "cells": [
  {
   "cell_type": "markdown",
   "id": "relative-facility",
   "metadata": {},
   "source": [
    "# DeepVCF: A Variant Caller using deep learning\n",
    "#####  This tutorial on how to train and use DeepVCF to call variants and produce a Variant Call Format (VCF) file"
   ]
  },
  {
   "cell_type": "code",
   "execution_count": 4,
   "id": "bound-parish",
   "metadata": {},
   "outputs": [
    {
     "name": "stdout",
     "output_type": "stream",
     "text": [
      "=== No GPU Detected ===\n"
     ]
    }
   ],
   "source": [
    "from DeepVCF import pathing\n",
    "from DeepVCF import pandas as pd\n",
    "from DeepVCF import alignment\n",
    "from DeepVCF.core import DeepVCF\n",
    "\n",
    "deepvcf = DeepVCF()"
   ]
  },
  {
   "cell_type": "markdown",
   "id": "accepted-pizza",
   "metadata": {},
   "source": [
    "# Pulling in Training & Testing Data"
   ]
  },
  {
   "cell_type": "code",
   "execution_count": 5,
   "id": "wound-bubble",
   "metadata": {},
   "outputs": [],
   "source": [
    "# TODO make a script that can pull saved data into something usable without changing DeepVCF\n",
    "# from scipy.sparse import coo_matrix, save_npz, load_npz\n",
    "# import numpy as np\n",
    "# a = np.load('./hg38.preprocess.pickle.npy')\n",
    "# _a = coo_matrix(a, dtype=np.dtype('h'))\n",
    "# save_npz('./example_files/test.pileup.scipy', _a)"
   ]
  },
  {
   "cell_type": "code",
   "execution_count": 6,
   "id": "eligible-skating",
   "metadata": {},
   "outputs": [],
   "source": [
    "ref_train = pathing('./example_files/human/chr21/chr21.fa')\n",
    "bam_train = pathing('./example_files/human/chr21/hg38.NA12878-WashU_chr21-14069662-46411975.bam')\n",
    "vcf_train = pathing('./example_files/human/chr21/chr21.vcf')\n",
    "bed_train = pathing('./example_files/human/chr21/CHROM21_v.3.3.2_highconf_noinconsistent.bed')\n",
    "\n",
    "ref_test = pathing('./example_files/human/chr22/chr22.fa')\n",
    "bam_test = pathing('./example_files/human/chr22/hg38.NA12878-WashU_chr22-18924717-49973797.bam')\n",
    "vcf_test = pathing('./example_files/human/chr22/chr22.vcf')\n",
    "bed_test = pathing('./example_files/human/chr22/CHROM22_v.3.3.2_highconf_noinconsistent.bed')"
   ]
  },
  {
   "cell_type": "markdown",
   "id": "social-france",
   "metadata": {},
   "source": [
    "# Train Model\n",
    "### VCF file needed to train and assumed to be high-confidence or \"truth\""
   ]
  },
  {
   "cell_type": "code",
   "execution_count": 7,
   "id": "centered-reporter",
   "metadata": {},
   "outputs": [
    {
     "name": "stdout",
     "output_type": "stream",
     "text": [
      "=== Using Input Pileup ===\n",
      "=== Pilup Complete ===\n",
      "=== Tensors Complete ===\n",
      "<tensorflow.python.keras.callbacks.TensorBoard object at 0x7f7a10a79280>\n",
      "Epoch 1/30\n",
      "1208/1208 [==============================] - 12s 9ms/step - loss: 0.5477 - base_loss: 0.3495 - genotype_loss: 0.3965 - base_accuracy: 0.6425 - genotype_accuracy: 0.8504 - val_loss: 0.3764 - val_base_loss: 0.2829 - val_genotype_loss: 0.1869 - val_base_accuracy: 0.6245 - val_genotype_accuracy: 0.9450\n",
      "Epoch 2/30\n",
      "1208/1208 [==============================] - 7s 6ms/step - loss: 0.2875 - base_loss: 0.2382 - genotype_loss: 0.0986 - base_accuracy: 0.7244 - genotype_accuracy: 0.9690 - val_loss: 0.3052 - val_base_loss: 0.2606 - val_genotype_loss: 0.0893 - val_base_accuracy: 0.6743 - val_genotype_accuracy: 0.9725\n",
      "Epoch 3/30\n",
      "1208/1208 [==============================] - 7s 6ms/step - loss: 0.2614 - base_loss: 0.2251 - genotype_loss: 0.0725 - base_accuracy: 0.7310 - genotype_accuracy: 0.9772 - val_loss: 0.2913 - val_base_loss: 0.2556 - val_genotype_loss: 0.0714 - val_base_accuracy: 0.7856 - val_genotype_accuracy: 0.9782\n",
      "Epoch 4/30\n",
      "1208/1208 [==============================] - 7s 6ms/step - loss: 0.2486 - base_loss: 0.2181 - genotype_loss: 0.0609 - base_accuracy: 0.7355 - genotype_accuracy: 0.9820 - val_loss: 0.2889 - val_base_loss: 0.2547 - val_genotype_loss: 0.0685 - val_base_accuracy: 0.7588 - val_genotype_accuracy: 0.9790\n",
      "Epoch 5/30\n",
      "1208/1208 [==============================] - 7s 6ms/step - loss: 0.2401 - base_loss: 0.2146 - genotype_loss: 0.0511 - base_accuracy: 0.7318 - genotype_accuracy: 0.9842 - val_loss: 0.2845 - val_base_loss: 0.2509 - val_genotype_loss: 0.0671 - val_base_accuracy: 0.7045 - val_genotype_accuracy: 0.9802\n",
      "Epoch 6/30\n",
      "1208/1208 [==============================] - 7s 6ms/step - loss: 0.2322 - base_loss: 0.2093 - genotype_loss: 0.0458 - base_accuracy: 0.7426 - genotype_accuracy: 0.9851 - val_loss: 0.2787 - val_base_loss: 0.2481 - val_genotype_loss: 0.0612 - val_base_accuracy: 0.7089 - val_genotype_accuracy: 0.9811\n",
      "Epoch 7/30\n",
      "1208/1208 [==============================] - 7s 6ms/step - loss: 0.2296 - base_loss: 0.2068 - genotype_loss: 0.0456 - base_accuracy: 0.7429 - genotype_accuracy: 0.9858 - val_loss: 0.2838 - val_base_loss: 0.2491 - val_genotype_loss: 0.0694 - val_base_accuracy: 0.7070 - val_genotype_accuracy: 0.9785\n",
      "Epoch 8/30\n",
      "1208/1208 [==============================] - 7s 6ms/step - loss: 0.2252 - base_loss: 0.2063 - genotype_loss: 0.0377 - base_accuracy: 0.7439 - genotype_accuracy: 0.9883 - val_loss: 0.2763 - val_base_loss: 0.2478 - val_genotype_loss: 0.0569 - val_base_accuracy: 0.6795 - val_genotype_accuracy: 0.9829\n",
      "Epoch 9/30\n",
      "1208/1208 [==============================] - 7s 6ms/step - loss: 0.2212 - base_loss: 0.2030 - genotype_loss: 0.0364 - base_accuracy: 0.7434 - genotype_accuracy: 0.9888 - val_loss: 0.2755 - val_base_loss: 0.2468 - val_genotype_loss: 0.0574 - val_base_accuracy: 0.8097 - val_genotype_accuracy: 0.9832\n",
      "Epoch 10/30\n",
      "1208/1208 [==============================] - 7s 6ms/step - loss: 0.2168 - base_loss: 0.2009 - genotype_loss: 0.0319 - base_accuracy: 0.7428 - genotype_accuracy: 0.9895 - val_loss: 0.2806 - val_base_loss: 0.2484 - val_genotype_loss: 0.0645 - val_base_accuracy: 0.8784 - val_genotype_accuracy: 0.9810\n",
      "Epoch 11/30\n",
      "1208/1208 [==============================] - 7s 6ms/step - loss: 0.2163 - base_loss: 0.2022 - genotype_loss: 0.0282 - base_accuracy: 0.7499 - genotype_accuracy: 0.9905 - val_loss: 0.2700 - val_base_loss: 0.2451 - val_genotype_loss: 0.0498 - val_base_accuracy: 0.4851 - val_genotype_accuracy: 0.9839\n",
      "Epoch 12/30\n",
      "1208/1208 [==============================] - 8s 7ms/step - loss: 0.2135 - base_loss: 0.2000 - genotype_loss: 0.0269 - base_accuracy: 0.7482 - genotype_accuracy: 0.9914 - val_loss: 0.2817 - val_base_loss: 0.2478 - val_genotype_loss: 0.0677 - val_base_accuracy: 0.7852 - val_genotype_accuracy: 0.9775\n",
      "Epoch 13/30\n",
      "1208/1208 [==============================] - 7s 6ms/step - loss: 0.2124 - base_loss: 0.2001 - genotype_loss: 0.0247 - base_accuracy: 0.7476 - genotype_accuracy: 0.9920 - val_loss: 0.2760 - val_base_loss: 0.2472 - val_genotype_loss: 0.0576 - val_base_accuracy: 0.7625 - val_genotype_accuracy: 0.9829\n",
      "Epoch 14/30\n",
      "1208/1208 [==============================] - 7s 6ms/step - loss: 0.2102 - base_loss: 0.1990 - genotype_loss: 0.0224 - base_accuracy: 0.7467 - genotype_accuracy: 0.9928 - val_loss: 0.2737 - val_base_loss: 0.2457 - val_genotype_loss: 0.0561 - val_base_accuracy: 0.6473 - val_genotype_accuracy: 0.9834\n",
      "Epoch 15/30\n",
      "1208/1208 [==============================] - 8s 6ms/step - loss: 0.2051 - base_loss: 0.1960 - genotype_loss: 0.0183 - base_accuracy: 0.7447 - genotype_accuracy: 0.9940 - val_loss: 0.2742 - val_base_loss: 0.2457 - val_genotype_loss: 0.0570 - val_base_accuracy: 0.9070 - val_genotype_accuracy: 0.9849\n",
      "Epoch 16/30\n",
      "1208/1208 [==============================] - 7s 6ms/step - loss: 0.2095 - base_loss: 0.1986 - genotype_loss: 0.0217 - base_accuracy: 0.7474 - genotype_accuracy: 0.9930 - val_loss: 0.2734 - val_base_loss: 0.2463 - val_genotype_loss: 0.0541 - val_base_accuracy: 0.6164 - val_genotype_accuracy: 0.9849\n",
      "CPU times: user 4min 25s, sys: 21 s, total: 4min 46s\n",
      "Wall time: 2min 12s\n"
     ]
    }
   ],
   "source": [
    "%%time\n",
    "deepvcf.train(\n",
    "    reference_file=ref_train,\n",
    "    alignment_file=bam_train,\n",
    "    vcf_file=vcf_train,\n",
    "    # overwrite_variant_calls=True,\n",
    "    mimimum_alignment_coverage=.5,\n",
    "    minimum_coverage=20,\n",
    "    heterozygous_threshold=.18,\n",
    "    minimum_variant_radius=15,\n",
    "    save_pileup_to_destination='./example_files/human/chr21/giab-train-5.pileup.npy',\n",
    "    use_saved_pileup='./example_files/human/chr21/giab-train-5.pileup.npy'  # Ignore the error, this will fail the first time if it doesn't exist\n",
    ")"
   ]
  },
  {
   "cell_type": "markdown",
   "id": "assumed-sentence",
   "metadata": {},
   "source": [
    "# Model Structure"
   ]
  },
  {
   "cell_type": "code",
   "execution_count": 9,
   "id": "romance-julian",
   "metadata": {},
   "outputs": [
    {
     "name": "stdout",
     "output_type": "stream",
     "text": [
      "Model: \"model\"\n",
      "__________________________________________________________________________________________________\n",
      "Layer (type)                    Output Shape         Param #     Connected to                     \n",
      "==================================================================================================\n",
      "input_1 (InputLayer)            [(None, 15, 4, 3)]   0                                            \n",
      "__________________________________________________________________________________________________\n",
      "conv2d (Conv2D)                 (None, 15, 4, 16)    208         input_1[0][0]                    \n",
      "__________________________________________________________________________________________________\n",
      "max_pooling2d (MaxPooling2D)    (None, 11, 4, 16)    0           conv2d[0][0]                     \n",
      "__________________________________________________________________________________________________\n",
      "conv2d_1 (Conv2D)               (None, 11, 4, 32)    4128        max_pooling2d[0][0]              \n",
      "__________________________________________________________________________________________________\n",
      "max_pooling2d_1 (MaxPooling2D)  (None, 8, 4, 32)     0           conv2d_1[0][0]                   \n",
      "__________________________________________________________________________________________________\n",
      "conv2d_2 (Conv2D)               (None, 8, 4, 48)     18480       max_pooling2d_1[0][0]            \n",
      "__________________________________________________________________________________________________\n",
      "max_pooling2d_2 (MaxPooling2D)  (None, 6, 4, 48)     0           conv2d_2[0][0]                   \n",
      "__________________________________________________________________________________________________\n",
      "flatten (Flatten)               (None, 1152)         0           max_pooling2d_2[0][0]            \n",
      "__________________________________________________________________________________________________\n",
      "dense_1 (Dense)                 (None, 168)          193704      flatten[0][0]                    \n",
      "__________________________________________________________________________________________________\n",
      "dropout_1 (Dropout)             (None, 168)          0           dense_1[0][0]                    \n",
      "__________________________________________________________________________________________________\n",
      "dense_2 (Dense)                 (None, 84)           14196       dropout_1[0][0]                  \n",
      "__________________________________________________________________________________________________\n",
      "dropout_2 (Dropout)             (None, 84)           0           dense_2[0][0]                    \n",
      "__________________________________________________________________________________________________\n",
      "dense_3 (Dense)                 (None, 42)           3570        dropout_2[0][0]                  \n",
      "__________________________________________________________________________________________________\n",
      "dropout_3 (Dropout)             (None, 42)           0           dense_3[0][0]                    \n",
      "__________________________________________________________________________________________________\n",
      "dense_4 (Dense)                 (None, 4)            172         dropout_3[0][0]                  \n",
      "__________________________________________________________________________________________________\n",
      "base (Dense)                    (None, 4)            172         dropout_3[0][0]                  \n",
      "__________________________________________________________________________________________________\n",
      "genotype (Softmax)              (None, 4)            0           dense_4[0][0]                    \n",
      "==================================================================================================\n",
      "Total params: 234,630\n",
      "Trainable params: 234,630\n",
      "Non-trainable params: 0\n",
      "__________________________________________________________________________________________________\n"
     ]
    }
   ],
   "source": [
    "deepvcf.model.summary()"
   ]
  },
  {
   "cell_type": "markdown",
   "id": "failing-strap",
   "metadata": {},
   "source": [
    "# Model Internal Loss/Validation"
   ]
  },
  {
   "cell_type": "code",
   "execution_count": 14,
   "id": "ruled-triple",
   "metadata": {},
   "outputs": [
    {
     "data": {
      "image/png": "[encoded data removed]",
      "text/plain": [
       "<Figure size 864x648 with 1 Axes>"
      ]
     },
     "metadata": {},
     "output_type": "display_data"
    }
   ],
   "source": [
    "from matplotlib import rcParams, pyplot as plt\n",
    "import dataframe_image as dfi\n",
    "import seaborn as sns\n",
    "import pandas as pd\n",
    "# figure size in inches\n",
    "rcParams['figure.figsize'] = 12,9\n",
    "rcParams[\"legend.framealpha\"] = 0.0\n",
    "\n",
    "sns.set_theme()\n",
    "sns.set(font_scale=1.0)  # crazy big\n",
    "snsplot = sns.lineplot(data=pd.DataFrame(deepvcf.model.history.history))\n",
    "snsplot.set(xlabel='epoch', ylabel='score', title='Model History', xlim=0)\n",
    "snsplot.figure.savefig('example_files/images/giab-model-history.png')"
   ]
  },
  {
   "cell_type": "markdown",
   "id": "based-mainland",
   "metadata": {},
   "source": [
    "# Use Model to generate a Variant Format File (VCF)"
   ]
  },
  {
   "cell_type": "code",
   "execution_count": 61,
   "id": "known-indie",
   "metadata": {},
   "outputs": [
    {
     "name": "stdout",
     "output_type": "stream",
     "text": [
      "=== Using Input Pileup ===\n",
      "=== Overwriting Variant Calls === \n",
      "=== Pilup Complete ===\n",
      "=== Tensors Complete ===\n",
      "ambygous base catches: 0\n",
      "bed catches: 0\n",
      "size catches 0\n",
      "fp total 47341\n",
      "total 47341\n",
      "CPU times: user 4min 4s, sys: 6.27 s, total: 4min 11s\n",
      "Wall time: 4min 8s\n"
     ]
    }
   ],
   "source": [
    "%%time\n",
    "predicted_vcf_test = deepvcf.create_vcf(\n",
    "    reference_file=ref_test,\n",
    "    alignment_file=bam_test,\n",
    "    save_pileup_to_destination='./example_files/human/chr22/giab-test-5.pileup.npy',\n",
    "    use_saved_pileup='./example_files/human/chr22/giab-test-5.pileup.npy',  # Ignore the error, this will fail the first time if it doesn't exist\n",
    "    # overwrite_variant_calls=True,\n",
    "    mimimum_alignment_coverage=.5,\n",
    "    minimum_coverage=20,\n",
    "    heterozygous_threshold=.26,\n",
    "    minimum_variant_radius=15,\n",
    "    output_folder='./example_files/human/chr22/',  # save as an actual .vcf file\n",
    "    output_prefix='test' \n",
    ")"
   ]
  },
  {
   "cell_type": "markdown",
   "id": "annoying-polyester",
   "metadata": {},
   "source": [
    "# Valitdation Plots"
   ]
  },
  {
   "cell_type": "code",
   "execution_count": 36,
   "id": "exotic-click",
   "metadata": {},
   "outputs": [
    {
     "data": {
      "text/html": [
       "<div>\n",
       "<style scoped>\n",
       "    .dataframe tbody tr th:only-of-type {\n",
       "        vertical-align: middle;\n",
       "    }\n",
       "\n",
       "    .dataframe tbody tr th {\n",
       "        vertical-align: top;\n",
       "    }\n",
       "\n",
       "    .dataframe thead th {\n",
       "        text-align: right;\n",
       "    }\n",
       "</style>\n",
       "<table border=\"1\" class=\"dataframe\">\n",
       "  <thead>\n",
       "    <tr style=\"text-align: right;\">\n",
       "      <th></th>\n",
       "      <th>DeepVCf_hom_alt</th>\n",
       "      <th>DeepVCF_het</th>\n",
       "    </tr>\n",
       "  </thead>\n",
       "  <tbody>\n",
       "    <tr>\n",
       "      <th>Sensitivity</th>\n",
       "      <td>0.971285</td>\n",
       "      <td>0.908741</td>\n",
       "    </tr>\n",
       "    <tr>\n",
       "      <th>PPV</th>\n",
       "      <td>0.707775</td>\n",
       "      <td>0.700577</td>\n",
       "    </tr>\n",
       "    <tr>\n",
       "      <th>Accuracy</th>\n",
       "      <td>0.873678</td>\n",
       "      <td>0.738300</td>\n",
       "    </tr>\n",
       "    <tr>\n",
       "      <th>F1</th>\n",
       "      <td>0.818852</td>\n",
       "      <td>0.791196</td>\n",
       "    </tr>\n",
       "  </tbody>\n",
       "</table>\n",
       "</div>"
      ],
      "text/plain": [
       "             DeepVCf_hom_alt  DeepVCF_het\n",
       "Sensitivity         0.971285     0.908741\n",
       "PPV                 0.707775     0.700577\n",
       "Accuracy            0.873678     0.738300\n",
       "F1                  0.818852     0.791196"
      ]
     },
     "execution_count": 36,
     "metadata": {},
     "output_type": "execute_result"
    }
   ],
   "source": [
    "dvcf_metrics = deepvcf.validation(\n",
    "    predicted_vcf=pd.read_vcf('./example_files/human/chr22/test.deepvcf.vcf'),\n",
    "    real_vcf=vcf_test,\n",
    ")\n",
    "dvcf = pd.DataFrame(dvcf_metrics).rename(columns={'hom_alt':'DeepVCf_hom_alt', 'het':'DeepVCF_het'})\n",
    "dvcf"
   ]
  },
  {
   "cell_type": "code",
   "execution_count": 1,
   "id": "seventh-beauty",
   "metadata": {},
   "outputs": [
    {
     "data": {
      "text/plain": [
       "0.805024316837772"
      ]
     },
     "execution_count": 1,
     "metadata": {},
     "output_type": "execute_result"
    }
   ],
   "source": [
    "(0.8188523660021939 + 0.7911962676733502) / 2"
   ]
  },
  {
   "cell_type": "code",
   "execution_count": 37,
   "id": "apart-kazakhstan",
   "metadata": {},
   "outputs": [
    {
     "name": "stdout",
     "output_type": "stream",
     "text": [
      "(914625, 10)\n"
     ]
    },
    {
     "data": {
      "text/html": [
       "<div>\n",
       "<style scoped>\n",
       "    .dataframe tbody tr th:only-of-type {\n",
       "        vertical-align: middle;\n",
       "    }\n",
       "\n",
       "    .dataframe tbody tr th {\n",
       "        vertical-align: top;\n",
       "    }\n",
       "\n",
       "    .dataframe thead th {\n",
       "        text-align: right;\n",
       "    }\n",
       "</style>\n",
       "<table border=\"1\" class=\"dataframe\">\n",
       "  <thead>\n",
       "    <tr style=\"text-align: right;\">\n",
       "      <th></th>\n",
       "      <th>CHROM</th>\n",
       "      <th>POS</th>\n",
       "      <th>ID</th>\n",
       "      <th>REF</th>\n",
       "      <th>ALT</th>\n",
       "      <th>QUAL</th>\n",
       "      <th>FILTER</th>\n",
       "      <th>INFO</th>\n",
       "      <th>FORMAT</th>\n",
       "      <th>NA12878</th>\n",
       "    </tr>\n",
       "  </thead>\n",
       "  <tbody>\n",
       "    <tr>\n",
       "      <th>0</th>\n",
       "      <td>chr22</td>\n",
       "      <td>18924791</td>\n",
       "      <td>.</td>\n",
       "      <td>G</td>\n",
       "      <td>T</td>\n",
       "      <td>17.5439</td>\n",
       "      <td>LowQual</td>\n",
       "      <td>DP=23;VDB=0.18;SGB=-0.453602;RPB=0.738095;MQB=...</td>\n",
       "      <td>GT:PL:AD</td>\n",
       "      <td>{'GT': '0/1', 'PL': '51,0,152', 'AD': '21,2'}</td>\n",
       "    </tr>\n",
       "    <tr>\n",
       "      <th>1</th>\n",
       "      <td>chr22</td>\n",
       "      <td>18924875</td>\n",
       "      <td>.</td>\n",
       "      <td>G</td>\n",
       "      <td>A</td>\n",
       "      <td>21.3224</td>\n",
       "      <td>LowQual</td>\n",
       "      <td>DP=25;VDB=0.178985;SGB=-0.590765;RPB=0.999423;...</td>\n",
       "      <td>GT:PL:AD</td>\n",
       "      <td>{'GT': '0/1', 'PL': '55,0,202', 'AD': '20,4'}</td>\n",
       "    </tr>\n",
       "    <tr>\n",
       "      <th>2</th>\n",
       "      <td>chr22</td>\n",
       "      <td>18924934</td>\n",
       "      <td>.</td>\n",
       "      <td>C</td>\n",
       "      <td>A</td>\n",
       "      <td>25.5684</td>\n",
       "      <td>LowQual</td>\n",
       "      <td>DP=24;VDB=0.0751808;SGB=-0.556411;RPB=0.695586...</td>\n",
       "      <td>GT:PL:AD</td>\n",
       "      <td>{'GT': '0/1', 'PL': '59,0,156', 'AD': '20,3'}</td>\n",
       "    </tr>\n",
       "    <tr>\n",
       "      <th>3</th>\n",
       "      <td>chr22</td>\n",
       "      <td>18924979</td>\n",
       "      <td>.</td>\n",
       "      <td>A</td>\n",
       "      <td>G</td>\n",
       "      <td>8.16368</td>\n",
       "      <td>LowQual</td>\n",
       "      <td>DP=26;VDB=0.18;SGB=-0.453602;RPB=0.479167;MQB=...</td>\n",
       "      <td>GT:PL:AD</td>\n",
       "      <td>{'GT': '0/1', 'PL': '42,0,253', 'AD': '24,2'}</td>\n",
       "    </tr>\n",
       "    <tr>\n",
       "      <th>4</th>\n",
       "      <td>chr22</td>\n",
       "      <td>18925066</td>\n",
       "      <td>.</td>\n",
       "      <td>A</td>\n",
       "      <td>T</td>\n",
       "      <td>9.38819</td>\n",
       "      <td>LowQual</td>\n",
       "      <td>DP=26;VDB=0.045681;SGB=-0.511536;RPB=0.949775;...</td>\n",
       "      <td>GT:PL:AD</td>\n",
       "      <td>{'GT': '0/1', 'PL': '43,0,227', 'AD': '23,3'}</td>\n",
       "    </tr>\n",
       "  </tbody>\n",
       "</table>\n",
       "</div>"
      ],
      "text/plain": [
       "   CHROM       POS ID REF ALT     QUAL   FILTER  \\\n",
       "0  chr22  18924791  .   G   T  17.5439  LowQual   \n",
       "1  chr22  18924875  .   G   A  21.3224  LowQual   \n",
       "2  chr22  18924934  .   C   A  25.5684  LowQual   \n",
       "3  chr22  18924979  .   A   G  8.16368  LowQual   \n",
       "4  chr22  18925066  .   A   T  9.38819  LowQual   \n",
       "\n",
       "                                                INFO    FORMAT  \\\n",
       "0  DP=23;VDB=0.18;SGB=-0.453602;RPB=0.738095;MQB=...  GT:PL:AD   \n",
       "1  DP=25;VDB=0.178985;SGB=-0.590765;RPB=0.999423;...  GT:PL:AD   \n",
       "2  DP=24;VDB=0.0751808;SGB=-0.556411;RPB=0.695586...  GT:PL:AD   \n",
       "3  DP=26;VDB=0.18;SGB=-0.453602;RPB=0.479167;MQB=...  GT:PL:AD   \n",
       "4  DP=26;VDB=0.045681;SGB=-0.511536;RPB=0.949775;...  GT:PL:AD   \n",
       "\n",
       "                                         NA12878  \n",
       "0  {'GT': '0/1', 'PL': '51,0,152', 'AD': '21,2'}  \n",
       "1  {'GT': '0/1', 'PL': '55,0,202', 'AD': '20,4'}  \n",
       "2  {'GT': '0/1', 'PL': '59,0,156', 'AD': '20,3'}  \n",
       "3  {'GT': '0/1', 'PL': '42,0,253', 'AD': '24,2'}  \n",
       "4  {'GT': '0/1', 'PL': '43,0,227', 'AD': '23,3'}  "
      ]
     },
     "execution_count": 37,
     "metadata": {},
     "output_type": "execute_result"
    }
   ],
   "source": [
    "samvcf = pd.read_vcf('./example_files/human/chr22/chr22-filtered.bcftools.vcf')\n",
    "print(samvcf.shape)\n",
    "samvcf.head()"
   ]
  },
  {
   "cell_type": "code",
   "execution_count": 38,
   "id": "compatible-boost",
   "metadata": {},
   "outputs": [
    {
     "data": {
      "text/html": [
       "<div>\n",
       "<style scoped>\n",
       "    .dataframe tbody tr th:only-of-type {\n",
       "        vertical-align: middle;\n",
       "    }\n",
       "\n",
       "    .dataframe tbody tr th {\n",
       "        vertical-align: top;\n",
       "    }\n",
       "\n",
       "    .dataframe thead th {\n",
       "        text-align: right;\n",
       "    }\n",
       "</style>\n",
       "<table border=\"1\" class=\"dataframe\">\n",
       "  <thead>\n",
       "    <tr style=\"text-align: right;\">\n",
       "      <th></th>\n",
       "      <th>BCFtools_hom_alt</th>\n",
       "      <th>BCFtools_het</th>\n",
       "    </tr>\n",
       "  </thead>\n",
       "  <tbody>\n",
       "    <tr>\n",
       "      <th>Sensitivity</th>\n",
       "      <td>0.083543</td>\n",
       "      <td>0.974025</td>\n",
       "    </tr>\n",
       "    <tr>\n",
       "      <th>PPV</th>\n",
       "      <td>0.998927</td>\n",
       "      <td>0.026114</td>\n",
       "    </tr>\n",
       "    <tr>\n",
       "      <th>Accuracy</th>\n",
       "      <td>0.720906</td>\n",
       "      <td>0.028905</td>\n",
       "    </tr>\n",
       "    <tr>\n",
       "      <th>F1</th>\n",
       "      <td>0.154190</td>\n",
       "      <td>0.050864</td>\n",
       "    </tr>\n",
       "  </tbody>\n",
       "</table>\n",
       "</div>"
      ],
      "text/plain": [
       "             BCFtools_hom_alt  BCFtools_het\n",
       "Sensitivity          0.083543      0.974025\n",
       "PPV                  0.998927      0.026114\n",
       "Accuracy             0.720906      0.028905\n",
       "F1                   0.154190      0.050864"
      ]
     },
     "execution_count": 38,
     "metadata": {},
     "output_type": "execute_result"
    }
   ],
   "source": [
    "bcf_metrics = deepvcf.validation(\n",
    "    predicted_vcf=samvcf,\n",
    "    real_vcf=vcf_test,\n",
    ")\n",
    "bcf = pd.DataFrame(bcf_metrics).rename(columns={'hom_alt':'BCFtools_hom_alt', 'het':'BCFtools_het'})\n",
    "bcf"
   ]
  },
  {
   "cell_type": "code",
   "execution_count": 42,
   "id": "incorporated-table",
   "metadata": {},
   "outputs": [],
   "source": [
    "pd.concat([dvcf, bcf], axis=1).to_csv('giab-metrics.csv')# .style.background_gradient()"
   ]
  },
  {
   "cell_type": "code",
   "execution_count": 43,
   "id": "sufficient-status",
   "metadata": {},
   "outputs": [
    {
     "data": {
      "text/plain": [
       "'/home/tmsincomb/Dropbox/git/DeepVCF/jupyter_nb'"
      ]
     },
     "execution_count": 43,
     "metadata": {},
     "output_type": "execute_result"
    }
   ],
   "source": [
    "pwd"
   ]
  }
 ],
 "metadata": {
  "kernelspec": {
   "display_name": "Python 3",
   "language": "python",
   "name": "python3"
  },
  "language_info": {
   "codemirror_mode": {
    "name": "ipython",
    "version": 3
   },
   "file_extension": ".py",
   "mimetype": "text/x-python",
   "name": "python",
   "nbconvert_exporter": "python",
   "pygments_lexer": "ipython3",
   "version": "3.8.5"
  }
 },
 "nbformat": 4,
 "nbformat_minor": 5
}
