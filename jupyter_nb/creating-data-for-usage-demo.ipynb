{
 "cells": [
  {
   "cell_type": "markdown",
   "id": "signal-speech",
   "metadata": {},
   "source": [
    "# Prerequisites\n",
    "- dwgsim https://github.com/nh13/DWGSIM\n",
    "- samtools https://github.com/samtools/samtools\n",
    "\n",
    "##### You can install easily via anaconda \n",
    "```bash\n",
    "conda install -y dwgsim samtools bcftools bwa\n",
    "```"
   ]
  },
  {
   "cell_type": "markdown",
   "id": "sized-burlington",
   "metadata": {},
   "source": [
    "### This notebook shows how to create In Silico (computational) mutations to give training and testing examples for DeepVCF. We keep track of the mutations introduced via Variant Format Files (VCF). It's not important if the mutatations are found in the wild, but rather to demonstrate how a deep learning model will train on these mutations and determine variant calls. If you would like to see DeepVCF use a high-confidence provided from Genome in a Bottle [GIAB]() then please see the notebook [giab notebook](./giab)"
   ]
  },
  {
   "cell_type": "code",
   "execution_count": 1,
   "id": "polished-envelope",
   "metadata": {},
   "outputs": [
    {
     "name": "stdout",
     "output_type": "stream",
     "text": [
      "=== No GPU Detected ===\n"
     ]
    },
    {
     "name": "stderr",
     "output_type": "stream",
     "text": [
      "/home/tmsincomb/anaconda3/envs/samtools/lib/python3.9/site-packages/tensorflow/python/keras/optimizer_v2/optimizer_v2.py:381: UserWarning: The `lr` argument is deprecated, use `learning_rate` instead.\n",
      "  warnings.warn(\n"
     ]
    }
   ],
   "source": [
    "from DeepVCF import pathing\n",
    "from DeepVCF import pandas as pd\n",
    "from DeepVCF import alignment\n",
    "from DeepVCF import dwgsim"
   ]
  },
  {
   "cell_type": "markdown",
   "id": "medical-token",
   "metadata": {},
   "source": [
    "# Create Reads With In Silco Mutations "
   ]
  },
  {
   "cell_type": "code",
   "execution_count": 4,
   "id": "traditional-opera",
   "metadata": {},
   "outputs": [
    {
     "name": "stdout",
     "output_type": "stream",
     "text": [
      "dwgsim -r 0.005 -e .1-.1 -E .1-.1 -C 50 -1 150 -2 150 /home/tmsincomb/Dropbox/git/DeepVCF/jupyter_nb/example_files/staphylococcus/train/MRSA107.fasta train-base-error-10percent\n"
     ]
    }
   ],
   "source": [
    "dwgsim(\n",
    "    ref_file='./example_files/staphylococcus/train/MRSA107.fasta',\n",
    "    output_folder='./example_files/staphylococcus/train/',\n",
    "    output_prefix='train-base-error-10percent',\n",
    "    **{\n",
    "        '-r': .005,  # mutation rate :: need to get about 20K mutations for usable training,\n",
    "        '-e': '.1-.1',  # 10-10% error rate forward\n",
    "        '-E': '.1-.1',  # 10-10% error rare backward\n",
    "        '-C': 50,  # mean coverage :: to reduce runtime since 50 is plenty for the tensor\n",
    "        '-1': 150, # read length\n",
    "        '-2': 150, # read length\n",
    "    }\n",
    ")"
   ]
  },
  {
   "cell_type": "markdown",
   "id": "verbal-proceeding",
   "metadata": {},
   "source": [
    "# Variant Format File (VCF) With In Silco Mutations "
   ]
  },
  {
   "cell_type": "code",
   "execution_count": 6,
   "id": "expected-hands",
   "metadata": {},
   "outputs": [
    {
     "name": "stdout",
     "output_type": "stream",
     "text": [
      "Mutations Introduced: 15503\n"
     ]
    }
   ],
   "source": [
    "vcf = pd.read_vcf('./example_files/staphylococcus/train/train-base-error-10percent.mutations.vcf')\n",
    "print('Mutations Introduced:', vcf.shape[0])"
   ]
  },
  {
   "cell_type": "code",
   "execution_count": 7,
   "id": "graduate-pride",
   "metadata": {},
   "outputs": [
    {
     "data": {
      "text/html": [
       "<div>\n",
       "<style scoped>\n",
       "    .dataframe tbody tr th:only-of-type {\n",
       "        vertical-align: middle;\n",
       "    }\n",
       "\n",
       "    .dataframe tbody tr th {\n",
       "        vertical-align: top;\n",
       "    }\n",
       "\n",
       "    .dataframe thead th {\n",
       "        text-align: right;\n",
       "    }\n",
       "</style>\n",
       "<table border=\"1\" class=\"dataframe\">\n",
       "  <thead>\n",
       "    <tr style=\"text-align: right;\">\n",
       "      <th></th>\n",
       "      <th>CHROM</th>\n",
       "      <th>POS</th>\n",
       "      <th>ID</th>\n",
       "      <th>REF</th>\n",
       "      <th>ALT</th>\n",
       "      <th>QUAL</th>\n",
       "      <th>FILTER</th>\n",
       "      <th>INFO</th>\n",
       "      <th>FORMAT</th>\n",
       "      <th>Sample1</th>\n",
       "    </tr>\n",
       "  </thead>\n",
       "  <tbody>\n",
       "    <tr>\n",
       "      <th>0</th>\n",
       "      <td>CP018629.1</td>\n",
       "      <td>347</td>\n",
       "      <td>.</td>\n",
       "      <td>T</td>\n",
       "      <td>G</td>\n",
       "      <td>100</td>\n",
       "      <td>PASS</td>\n",
       "      <td>AF=0.5;pl=1;mt=SUBSTITUTE</td>\n",
       "      <td>GT</td>\n",
       "      <td>{'GT': '0/1'}</td>\n",
       "    </tr>\n",
       "    <tr>\n",
       "      <th>1</th>\n",
       "      <td>CP018629.1</td>\n",
       "      <td>393</td>\n",
       "      <td>.</td>\n",
       "      <td>T</td>\n",
       "      <td>C</td>\n",
       "      <td>100</td>\n",
       "      <td>PASS</td>\n",
       "      <td>AF=1.0;pl=3;mt=SUBSTITUTE</td>\n",
       "      <td>GT</td>\n",
       "      <td>{'GT': '1/1'}</td>\n",
       "    </tr>\n",
       "    <tr>\n",
       "      <th>2</th>\n",
       "      <td>CP018629.1</td>\n",
       "      <td>618</td>\n",
       "      <td>.</td>\n",
       "      <td>G</td>\n",
       "      <td>C</td>\n",
       "      <td>100</td>\n",
       "      <td>PASS</td>\n",
       "      <td>AF=0.5;pl=1;mt=SUBSTITUTE</td>\n",
       "      <td>GT</td>\n",
       "      <td>{'GT': '0/1'}</td>\n",
       "    </tr>\n",
       "    <tr>\n",
       "      <th>3</th>\n",
       "      <td>CP018629.1</td>\n",
       "      <td>767</td>\n",
       "      <td>.</td>\n",
       "      <td>A</td>\n",
       "      <td>G</td>\n",
       "      <td>100</td>\n",
       "      <td>PASS</td>\n",
       "      <td>AF=0.5;pl=1;mt=SUBSTITUTE</td>\n",
       "      <td>GT</td>\n",
       "      <td>{'GT': '0/1'}</td>\n",
       "    </tr>\n",
       "    <tr>\n",
       "      <th>4</th>\n",
       "      <td>CP018629.1</td>\n",
       "      <td>795</td>\n",
       "      <td>.</td>\n",
       "      <td>C</td>\n",
       "      <td>T</td>\n",
       "      <td>100</td>\n",
       "      <td>PASS</td>\n",
       "      <td>AF=0.5;pl=2;mt=SUBSTITUTE</td>\n",
       "      <td>GT</td>\n",
       "      <td>{'GT': '0/1'}</td>\n",
       "    </tr>\n",
       "  </tbody>\n",
       "</table>\n",
       "</div>"
      ],
      "text/plain": [
       "        CHROM  POS ID REF ALT QUAL FILTER                       INFO FORMAT  \\\n",
       "0  CP018629.1  347  .   T   G  100   PASS  AF=0.5;pl=1;mt=SUBSTITUTE     GT   \n",
       "1  CP018629.1  393  .   T   C  100   PASS  AF=1.0;pl=3;mt=SUBSTITUTE     GT   \n",
       "2  CP018629.1  618  .   G   C  100   PASS  AF=0.5;pl=1;mt=SUBSTITUTE     GT   \n",
       "3  CP018629.1  767  .   A   G  100   PASS  AF=0.5;pl=1;mt=SUBSTITUTE     GT   \n",
       "4  CP018629.1  795  .   C   T  100   PASS  AF=0.5;pl=2;mt=SUBSTITUTE     GT   \n",
       "\n",
       "         Sample1  \n",
       "0  {'GT': '0/1'}  \n",
       "1  {'GT': '1/1'}  \n",
       "2  {'GT': '0/1'}  \n",
       "3  {'GT': '0/1'}  \n",
       "4  {'GT': '0/1'}  "
      ]
     },
     "execution_count": 7,
     "metadata": {},
     "output_type": "execute_result"
    }
   ],
   "source": [
    "vcf.head()"
   ]
  },
  {
   "cell_type": "markdown",
   "id": "medieval-frontier",
   "metadata": {},
   "source": [
    "# Alignment Back to the Genome with the introduced mutations"
   ]
  },
  {
   "cell_type": "code",
   "execution_count": 8,
   "id": "executed-institution",
   "metadata": {},
   "outputs": [
    {
     "name": "stdout",
     "output_type": "stream",
     "text": [
      "bwa index /home/tmsincomb/Dropbox/git/DeepVCF/jupyter_nb/example_files/staphylococcus/train/MRSA107.fasta\n",
      "bwa mem -t 6 /home/tmsincomb/Dropbox/git/DeepVCF/jupyter_nb/example_files/staphylococcus/train/MRSA107.fasta /home/tmsincomb/Dropbox/git/DeepVCF/jupyter_nb/example_files/staphylococcus/train/train-base-error-10percent.bwa.read1.fastq /home/tmsincomb/Dropbox/git/DeepVCF/jupyter_nb/example_files/staphylococcus/train/train-base-error-10percent.bwa.read2.fastq > /home/tmsincomb/Dropbox/git/DeepVCF/jupyter_nb/example_files/staphylococcus/train/train-base-error-10percent.sam\n",
      "samtools view -Shb /home/tmsincomb/Dropbox/git/DeepVCF/jupyter_nb/example_files/staphylococcus/train/train-base-error-10percent.sam > /home/tmsincomb/Dropbox/git/DeepVCF/jupyter_nb/example_files/staphylococcus/train/train-base-error-10percent.unsorted.bam\n",
      "samtools sort -n /home/tmsincomb/Dropbox/git/DeepVCF/jupyter_nb/example_files/staphylococcus/train/train-base-error-10percent.unsorted.bam -o /home/tmsincomb/Dropbox/git/DeepVCF/jupyter_nb/example_files/staphylococcus/train/train-base-error-10percent.sortedname.bam\n",
      "samtools fixmate -m /home/tmsincomb/Dropbox/git/DeepVCF/jupyter_nb/example_files/staphylococcus/train/train-base-error-10percent.sortedname.bam /home/tmsincomb/Dropbox/git/DeepVCF/jupyter_nb/example_files/staphylococcus/train/train-base-error-10percent.fixmate.sortedname.bam\n",
      "samtools sort /home/tmsincomb/Dropbox/git/DeepVCF/jupyter_nb/example_files/staphylococcus/train/train-base-error-10percent.fixmate.sortedname.bam -o /home/tmsincomb/Dropbox/git/DeepVCF/jupyter_nb/example_files/staphylococcus/train/train-base-error-10percent.fixmate.sorted.bam\n",
      "samtools markdup -r -s --threads 6 /home/tmsincomb/Dropbox/git/DeepVCF/jupyter_nb/example_files/staphylococcus/train/train-base-error-10percent.fixmate.sorted.bam /home/tmsincomb/Dropbox/git/DeepVCF/jupyter_nb/example_files/staphylococcus/train/train-base-error-10percent.bam\n",
      "samtools view -b -F 4 /home/tmsincomb/Dropbox/git/DeepVCF/jupyter_nb/example_files/staphylococcus/train/train-base-error-10percent.bam > /home/tmsincomb/Dropbox/git/DeepVCF/jupyter_nb/example_files/staphylococcus/train/train-base-error-10percent.mapped.bam\n",
      "samtools index -@ 6 /home/tmsincomb/Dropbox/git/DeepVCF/jupyter_nb/example_files/staphylococcus/train/train-base-error-10percent.mapped.bam\n",
      "rm /home/tmsincomb/Dropbox/git/DeepVCF/jupyter_nb/example_files/staphylococcus/train/train-base-error-10percent.sam\n",
      "rm /home/tmsincomb/Dropbox/git/DeepVCF/jupyter_nb/example_files/staphylococcus/train/train-base-error-10percent.unsorted.bam\n",
      "rm /home/tmsincomb/Dropbox/git/DeepVCF/jupyter_nb/example_files/staphylococcus/train/train-base-error-10percent.sortedname.bam\n",
      "rm /home/tmsincomb/Dropbox/git/DeepVCF/jupyter_nb/example_files/staphylococcus/train/train-base-error-10percent.fixmate.sortedname.bam\n",
      "rm /home/tmsincomb/Dropbox/git/DeepVCF/jupyter_nb/example_files/staphylococcus/train/train-base-error-10percent.fixmate.sorted.bam\n",
      "rm /home/tmsincomb/Dropbox/git/DeepVCF/jupyter_nb/example_files/staphylococcus/train/train-base-error-10percent.bam\n"
     ]
    }
   ],
   "source": [
    "pysam_obj = alignment.bwa_mem(\n",
    "    reference='./example_files/staphylococcus/train/MRSA107.fasta',\n",
    "    reads=[\n",
    "        './example_files/staphylococcus/train/train-base-error-10percent.bwa.read1.fastq', \n",
    "        './example_files/staphylococcus/train/train-base-error-10percent.bwa.read2.fastq'\n",
    "    ],\n",
    "    output_folder='./example_files/staphylococcus/train/',\n",
    "    output_prefix='train-base-error-10percent',\n",
    ")"
   ]
  },
  {
   "cell_type": "markdown",
   "id": "complicated-writing",
   "metadata": {},
   "source": [
    "# Sequence Alignment Mapping (SAM/BAM/CRAM) to be used for DeepVCFs tensor input"
   ]
  },
  {
   "cell_type": "code",
   "execution_count": 9,
   "id": "dramatic-murray",
   "metadata": {},
   "outputs": [
    {
     "data": {
      "text/html": [
       "<div>\n",
       "<style scoped>\n",
       "    .dataframe tbody tr th:only-of-type {\n",
       "        vertical-align: middle;\n",
       "    }\n",
       "\n",
       "    .dataframe tbody tr th {\n",
       "        vertical-align: top;\n",
       "    }\n",
       "\n",
       "    .dataframe thead th {\n",
       "        text-align: right;\n",
       "    }\n",
       "</style>\n",
       "<table border=\"1\" class=\"dataframe\">\n",
       "  <thead>\n",
       "    <tr style=\"text-align: right;\">\n",
       "      <th></th>\n",
       "      <th>name</th>\n",
       "      <th>flag</th>\n",
       "      <th>ref_name</th>\n",
       "      <th>ref_pos</th>\n",
       "      <th>map_quality</th>\n",
       "      <th>cigar</th>\n",
       "      <th>next_ref_name</th>\n",
       "      <th>next_ref_pos</th>\n",
       "      <th>length</th>\n",
       "      <th>seq</th>\n",
       "      <th>qual</th>\n",
       "      <th>tags</th>\n",
       "    </tr>\n",
       "  </thead>\n",
       "  <tbody>\n",
       "    <tr>\n",
       "      <th>0</th>\n",
       "      <td>CP018629.1_381_4_1_0_0_0_13:1:0_14:0:0_74430</td>\n",
       "      <td>163</td>\n",
       "      <td>CP018629.1</td>\n",
       "      <td>4</td>\n",
       "      <td>60</td>\n",
       "      <td>119M31S</td>\n",
       "      <td>=</td>\n",
       "      <td>381</td>\n",
       "      <td>527</td>\n",
       "      <td>TTACTCCATCTTTTTTAAATTTTTAAGTTATGCACAAAAATAACAA...</td>\n",
       "      <td>)+)',-*+**+--+*,)+,.(,++++,,.,*'+),*-++,(+++2-...</td>\n",
       "      <td>[NM:i:6, MD:Z:13C17A33A6G25C1A18, AS:i:89, XS:...</td>\n",
       "    </tr>\n",
       "    <tr>\n",
       "      <th>1</th>\n",
       "      <td>CP018629.1_14_286_0_1_0_0_15:0:0_20:1:0_17d4</td>\n",
       "      <td>99</td>\n",
       "      <td>CP018629.1</td>\n",
       "      <td>14</td>\n",
       "      <td>60</td>\n",
       "      <td>150M</td>\n",
       "      <td>=</td>\n",
       "      <td>286</td>\n",
       "      <td>422</td>\n",
       "      <td>TTTCTTAAATTTTTAAGTTATACACAAAAATAACGACCGAGGATAA...</td>\n",
       "      <td>*-+++-0+*+,*+,'*)+++-.,-,)-**+,,,++-+-,*,,+,++...</td>\n",
       "      <td>[NM:i:15, MD:Z:34A4T15A14T10T5A1A3G12A0T4C13A3...</td>\n",
       "    </tr>\n",
       "    <tr>\n",
       "      <th>2</th>\n",
       "      <td>CP018629.1_320_21_1_0_0_0_19:2:0_11:0:0_7cf4c</td>\n",
       "      <td>163</td>\n",
       "      <td>CP018629.1</td>\n",
       "      <td>21</td>\n",
       "      <td>60</td>\n",
       "      <td>150M</td>\n",
       "      <td>=</td>\n",
       "      <td>320</td>\n",
       "      <td>449</td>\n",
       "      <td>AACTTTTAAGTTATACACAAAAATAACAACCGTGGATAACGTCTAA...</td>\n",
       "      <td>+**&amp;.*,++++,-)++*.,++++,+-*++,.-++*/,+-)++-++,...</td>\n",
       "      <td>[NM:i:11, MD:Z:2T37T7A2C2T8T14T6C1G5A40A15, AS...</td>\n",
       "    </tr>\n",
       "    <tr>\n",
       "      <th>3</th>\n",
       "      <td>CP018629.1_24_403_0_1_0_0_12:0:0_16:0:0_7c5f2</td>\n",
       "      <td>99</td>\n",
       "      <td>CP018629.1</td>\n",
       "      <td>24</td>\n",
       "      <td>60</td>\n",
       "      <td>150M</td>\n",
       "      <td>=</td>\n",
       "      <td>403</td>\n",
       "      <td>517</td>\n",
       "      <td>TTTTAAGTTATACACAAAGATGACAACCGTGGATAATATCTAAATA...</td>\n",
       "      <td>,++-+*++++,'++++++,-)+++++)+/)+)-),++,*-,*++/+...</td>\n",
       "      <td>[NM:i:12, MD:Z:18A2A14C0T6C1C4T12C26A23C2A6T24...</td>\n",
       "    </tr>\n",
       "    <tr>\n",
       "      <th>4</th>\n",
       "      <td>CP018629.1_27_425_0_1_0_0_10:0:0_15:0:0_715bb</td>\n",
       "      <td>99</td>\n",
       "      <td>CP018629.1</td>\n",
       "      <td>27</td>\n",
       "      <td>60</td>\n",
       "      <td>150M</td>\n",
       "      <td>=</td>\n",
       "      <td>425</td>\n",
       "      <td>548</td>\n",
       "      <td>TAAGTTATACACAAAAATAACAACCGTAGATACCATCTAAACACAC...</td>\n",
       "      <td>-)+-+)),-**.,*,+-,+-+,,+)+*+,+++++*,)-++,+/*++...</td>\n",
       "      <td>[NM:i:10, MD:Z:27G4A1T16T13A17G18A2A7A5T30, AS...</td>\n",
       "    </tr>\n",
       "  </tbody>\n",
       "</table>\n",
       "</div>"
      ],
      "text/plain": [
       "                                            name flag    ref_name ref_pos  \\\n",
       "0   CP018629.1_381_4_1_0_0_0_13:1:0_14:0:0_74430  163  CP018629.1       4   \n",
       "1   CP018629.1_14_286_0_1_0_0_15:0:0_20:1:0_17d4   99  CP018629.1      14   \n",
       "2  CP018629.1_320_21_1_0_0_0_19:2:0_11:0:0_7cf4c  163  CP018629.1      21   \n",
       "3  CP018629.1_24_403_0_1_0_0_12:0:0_16:0:0_7c5f2   99  CP018629.1      24   \n",
       "4  CP018629.1_27_425_0_1_0_0_10:0:0_15:0:0_715bb   99  CP018629.1      27   \n",
       "\n",
       "  map_quality    cigar next_ref_name next_ref_pos length  \\\n",
       "0          60  119M31S             =          381    527   \n",
       "1          60     150M             =          286    422   \n",
       "2          60     150M             =          320    449   \n",
       "3          60     150M             =          403    517   \n",
       "4          60     150M             =          425    548   \n",
       "\n",
       "                                                 seq  \\\n",
       "0  TTACTCCATCTTTTTTAAATTTTTAAGTTATGCACAAAAATAACAA...   \n",
       "1  TTTCTTAAATTTTTAAGTTATACACAAAAATAACGACCGAGGATAA...   \n",
       "2  AACTTTTAAGTTATACACAAAAATAACAACCGTGGATAACGTCTAA...   \n",
       "3  TTTTAAGTTATACACAAAGATGACAACCGTGGATAATATCTAAATA...   \n",
       "4  TAAGTTATACACAAAAATAACAACCGTAGATACCATCTAAACACAC...   \n",
       "\n",
       "                                                qual  \\\n",
       "0  )+)',-*+**+--+*,)+,.(,++++,,.,*'+),*-++,(+++2-...   \n",
       "1  *-+++-0+*+,*+,'*)+++-.,-,)-**+,,,++-+-,*,,+,++...   \n",
       "2  +**&.*,++++,-)++*.,++++,+-*++,.-++*/,+-)++-++,...   \n",
       "3  ,++-+*++++,'++++++,-)+++++)+/)+)-),++,*-,*++/+...   \n",
       "4  -)+-+)),-**.,*,+-,+-+,,+)+*+,+++++*,)-++,+/*++...   \n",
       "\n",
       "                                                tags  \n",
       "0  [NM:i:6, MD:Z:13C17A33A6G25C1A18, AS:i:89, XS:...  \n",
       "1  [NM:i:15, MD:Z:34A4T15A14T10T5A1A3G12A0T4C13A3...  \n",
       "2  [NM:i:11, MD:Z:2T37T7A2C2T8T14T6C1G5A40A15, AS...  \n",
       "3  [NM:i:12, MD:Z:18A2A14C0T6C1C4T12C26A23C2A6T24...  \n",
       "4  [NM:i:10, MD:Z:27G4A1T16T13A17G18A2A7A5T30, AS...  "
      ]
     },
     "execution_count": 9,
     "metadata": {},
     "output_type": "execute_result"
    }
   ],
   "source": [
    "bam = pd.read_seq('./example_files/staphylococcus/train/train-base-error-10percent.mapped.bam', format='bam')\n",
    "bam.head()"
   ]
  },
  {
   "cell_type": "markdown",
   "id": "beautiful-steal",
   "metadata": {},
   "source": [
    "# Create Testing Data :: Verbose = False to show silent option"
   ]
  },
  {
   "cell_type": "code",
   "execution_count": 10,
   "id": "sensitive-memorial",
   "metadata": {},
   "outputs": [],
   "source": [
    "# Quietly create testing\n",
    "prefix='test-base-error-10percent'\n",
    "folder_path=pathing('./example_files/staphylococcus/test')\n",
    "\n",
    "dwgsim(\n",
    "    ref_file=folder_path / 'GCF_000013425.1_ASM1342v1_genomic_reference.fasta',\n",
    "    output_folder=folder_path,\n",
    "    output_prefix=prefix,\n",
    "    verbose=False,\n",
    "    **{\n",
    "        '-r': .005,  # mutation rate :: need to get about 20K mutations for usable training,\n",
    "        '-e': '.1-.1',  # 10-10% error rate forward :: for attempt of PacBio\n",
    "        '-E': '.1-.1',  # 10-10% error rare backward\n",
    "        '-C': 50,  # mean coverage\n",
    "        '-1': 150, # read length\n",
    "        '-2': 150, # read length\n",
    "    }\n",
    ")\n",
    "_ = alignment.bwa_mem(\n",
    "    reference=folder_path / 'GCF_000013425.1_ASM1342v1_genomic_reference.fasta',\n",
    "    reads=[\n",
    "        folder_path / f'{prefix}.bwa.read1.fastq', \n",
    "        folder_path / f'{prefix}.bwa.read2.fastq'\n",
    "    ],\n",
    "    output_folder=folder_path,\n",
    "    output_prefix=prefix,\n",
    "    verbose=False,\n",
    ")"
   ]
  },
  {
   "cell_type": "markdown",
   "id": "growing-minimum",
   "metadata": {},
   "source": [
    "# Create a comparison test with default 2% platform base error rate"
   ]
  },
  {
   "cell_type": "code",
   "execution_count": 11,
   "id": "antique-garbage",
   "metadata": {},
   "outputs": [],
   "source": [
    "### DEFAULT TRAIN ###\n",
    "prefix='train-base-error-2percent'\n",
    "folder_path=pathing('./example_files/staphylococcus/train')\n",
    "\n",
    "dwgsim(\n",
    "    ref_file=folder_path / 'MRSA107.fasta',\n",
    "    output_folder=folder_path,\n",
    "    output_prefix=prefix,\n",
    "    verbose=False,\n",
    "    **{\n",
    "        '-r': .005,  # mutation rate :: need to get about 20K mutations for usable training,\n",
    "        '-C': 50,  # mean coverage\n",
    "        '-1': 150, # read length\n",
    "        '-2': 150, # read length\n",
    "    }\n",
    ")\n",
    "_ = alignment.bwa_mem(\n",
    "    reference=folder_path / 'MRSA107.fasta',\n",
    "    reads=[\n",
    "        folder_path / f'{prefix}.bwa.read1.fastq', \n",
    "        folder_path / f'{prefix}.bwa.read2.fastq'\n",
    "    ],\n",
    "    output_folder=folder_path,\n",
    "    output_prefix=prefix,\n",
    "    verbose=False,\n",
    ")\n",
    "\n",
    "### DEFAULT TEST ###\n",
    "prefix='test-base-error-2percent'\n",
    "folder_path=pathing('./example_files/staphylococcus/test')\n",
    "\n",
    "dwgsim(\n",
    "    ref_file=folder_path / 'GCF_000013425.1_ASM1342v1_genomic_reference.fasta',\n",
    "    output_folder=folder_path,\n",
    "    output_prefix=prefix,\n",
    "    verbose=False,\n",
    "    **{\n",
    "        '-r': .005,  # mutation rate :: need to get about 20K mutations for usable training,\n",
    "        '-e': '.1-.1',  # 10-10% error rate forward :: for attempt of PacBio\n",
    "        '-E': '.1-.1',  # 10-10% error rare backward\n",
    "        '-C': 50,  # mean coverage\n",
    "        '-1': 150, # read length\n",
    "        '-2': 150, # read length\n",
    "    }\n",
    ")\n",
    "_ = alignment.bwa_mem(\n",
    "    reference=folder_path / 'GCF_000013425.1_ASM1342v1_genomic_reference.fasta',\n",
    "    reads=[\n",
    "        folder_path / f'{prefix}.bwa.read1.fastq', \n",
    "        folder_path / f'{prefix}.bwa.read2.fastq'\n",
    "    ],\n",
    "    output_folder=folder_path,\n",
    "    output_prefix=prefix,\n",
    "    verbose=False,\n",
    ")"
   ]
  },
  {
   "cell_type": "markdown",
   "id": "suspended-knock",
   "metadata": {},
   "source": [
    "# We Now want to compare out variant calls to the Samtools/BCFTools variant caller."
   ]
  },
  {
   "cell_type": "code",
   "execution_count": 1,
   "id": "hired-ministry",
   "metadata": {},
   "outputs": [
    {
     "name": "stdout",
     "output_type": "stream",
     "text": [
      "=== No GPU Detected ===\n"
     ]
    },
    {
     "name": "stderr",
     "output_type": "stream",
     "text": [
      "/home/tmsincomb/anaconda3/envs/samtools/lib/python3.9/site-packages/tensorflow/python/keras/optimizer_v2/optimizer_v2.py:381: UserWarning: The `lr` argument is deprecated, use `learning_rate` instead.\n",
      "  warnings.warn(\n"
     ]
    }
   ],
   "source": [
    "from DeepVCF import bcftools_vcf\n",
    "samtools_variant_calls_be2percent = bcftools_vcf(\n",
    "    ref_file='./example_files/staphylococcus/test/GCF_000013425.1_ASM1342v1_genomic_reference.fasta', \n",
    "    bam_file='./example_files/staphylococcus/test/test-base-error-2percent.mapped.bam',\n",
    "    output_folder='./example_files/staphylococcus/',\n",
    "    output_prefix='GCF_000013425-base-error-2percent'\n",
    ")\n",
    "samtools_variant_calls_be10percent = bcftools_vcf(\n",
    "    ref_file='./example_files/staphylococcus/test/GCF_000013425.1_ASM1342v1_genomic_reference.fasta', \n",
    "    bam_file='./example_files/staphylococcus/test/test-base-error-10percent.mapped.bam',\n",
    "    output_folder='./example_files/staphylococcus/',\n",
    "    output_prefix='GCF_000013425-base-error-10percent'\n",
    ")"
   ]
  },
  {
   "cell_type": "markdown",
   "id": "appreciated-roller",
   "metadata": {},
   "source": [
    "# Our Data is ready!"
   ]
  },
  {
   "cell_type": "code",
   "execution_count": 16,
   "id": "tender-blake",
   "metadata": {},
   "outputs": [],
   "source": [
    "ref_train_be10percent = pathing('./example_files/staphylococcus/train/MRSA107.fasta')\n",
    "bam_train_be10percent = pathing('./example_files/staphylococcus/train/train-base-error-10percent.mapped.bam')\n",
    "vcf_train_be10percent = pathing('./example_files/staphylococcus/train/train-base-error-10percent.mutations.vcf')\n",
    "\n",
    "ref_test_be10percent = pathing('./example_files/staphylococcus/test/GCF_000013425.1_ASM1342v1_genomic_reference.fasta')\n",
    "bam_test_be10percent = pathing('./example_files/staphylococcus/test/test-base-error-10percent.mapped.bam')\n",
    "vcf_test_be10percent = pathing('./example_files/staphylococcus/test/test-base-error-10percent.mutations.vcf')\n",
    "\n",
    "ref_train_be2percent = pathing('./example_files/staphylococcus/train/MRSA107.fasta')\n",
    "bam_train_be2percent = pathing('./example_files/staphylococcus/train/train-base-error-2percent.mapped.bam')\n",
    "vcf_train_be2percent = pathing('./example_files/staphylococcus/train/train-base-error-2percent.mutations.vcf')\n",
    "\n",
    "ref_test_be2percent = pathing('./example_files/staphylococcus/test/GCF_000013425.1_ASM1342v1_genomic_reference.fasta')\n",
    "bam_test_be2percent = pathing('./example_files/staphylococcus/test/test-base-error-2percent.mapped.bam')\n",
    "vcf_test_be2percent = pathing('./example_files/staphylococcus/test/test-base-error-2percent.mutations.vcf')\n",
    "\n",
    "samtools_variant_calls_be2percent = pathing('./example_files/staphylococcus/GCF_000013425-base-error-2percent.bcftools.vcf')\n",
    "samtools_variant_calls_be10percent = pathing('./example_files/staphylococcus/GCF_000013425-base-error-10percent.bcftools.vcf')"
   ]
  }
 ],
 "metadata": {
  "kernelspec": {
   "display_name": "Python [conda env:samtools]",
   "language": "python",
   "name": "conda-env-samtools-py"
  },
  "language_info": {
   "codemirror_mode": {
    "name": "ipython",
    "version": 3
   },
   "file_extension": ".py",
   "mimetype": "text/x-python",
   "name": "python",
   "nbconvert_exporter": "python",
   "pygments_lexer": "ipython3",
   "version": "3.9.2"
  }
 },
 "nbformat": 4,
 "nbformat_minor": 5
}
