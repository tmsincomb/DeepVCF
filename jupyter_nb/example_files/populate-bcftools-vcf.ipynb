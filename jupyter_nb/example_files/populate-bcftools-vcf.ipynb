{
 "cells": [
  {
   "cell_type": "code",
   "execution_count": 2,
   "id": "steady-snake",
   "metadata": {},
   "outputs": [
    {
     "name": "stdout",
     "output_type": "stream",
     "text": [
      "c_difficile\n",
      "test-base-error-2percent\n",
      "{'hom_alt': {'Sensitivity': 0.991196352774721, 'PPV': 0.9995244134432467, 'Accuracy': 0.9970278575386631, 'F1': 0.9953429631383692}, 'het': {'Sensitivity': 0.9843948035487959, 'PPV': 1.0, 'Accuracy': 0.9901426069552164, 'F1': 0.9921360424733544}}\n",
      "test-base-error-10percent\n",
      "{'hom_alt': {'Sensitivity': 0.7181699772061217, 'PPV': 0.823562359970127, 'Accuracy': 0.646779303062302, 'F1': 0.7672638719777353}, 'het': {'Sensitivity': 0.038325887608746764, 'PPV': 0.9569471624266145, 'Accuracy': 0.28501628664495116, 'F1': 0.07370007535795027}}\n",
      "e_coli\n",
      "test-base-error-2percent\n",
      "{'hom_alt': {'Sensitivity': 0.9944539249146758, 'PPV': 0.999428326425611, 'Accuracy': 0.9980480275999818, 'F1': 0.9969349205217763}, 'het': {'Sensitivity': 0.9867615658362989, 'PPV': 0.9998557622962643, 'Accuracy': 0.9915196896567279, 'F1': 0.9932655108181688}}\n",
      "test-base-error-10percent\n",
      "{'hom_alt': {'Sensitivity': 0.7195690157251019, 'PPV': 0.8249040227007177, 'Accuracy': 0.6477622543215723, 'F1': 0.7686445291235711}, 'het': {'Sensitivity': 0.038005603850851354, 'PPV': 0.9463327370304114, 'Accuracy': 0.2896088084272934, 'F1': 0.07307639176681863}}\n",
      "klebsiella\n",
      "test-base-error-2percent\n",
      "{'hom_alt': {'Sensitivity': 0.9889550757011666, 'PPV': 0.9991223671013039, 'Accuracy': 0.9961859356376639, 'F1': 0.9940127229637021}, 'het': {'Sensitivity': 0.9794482157314567, 'PPV': 0.9998092816274634, 'Accuracy': 0.9868913120497579, 'F1': 0.9895240192531538}}\n",
      "test-base-error-10percent\n",
      "{'hom_alt': {'Sensitivity': 0.7128787878787879, 'PPV': 0.8231520629829421, 'Accuracy': 0.6420652843358653, 'F1': 0.764057108058732}, 'het': {'Sensitivity': 0.037875489769264255, 'PPV': 0.9485981308411215, 'Accuracy': 0.2874804669546833, 'F1': 0.07284253334130734}}\n",
      "listeria\n",
      "test-base-error-2percent\n",
      "{'hom_alt': {'Sensitivity': 0.9886205294937297, 'PPV': 1.0, 'Accuracy': 0.9964236187139625, 'F1': 0.9942777064113044}, 'het': {'Sensitivity': 0.9882500570385581, 'PPV': 1.0, 'Accuracy': 0.9925112694488876, 'F1': 0.9940903092546904}}\n",
      "test-base-error-10percent\n",
      "{'hom_alt': {'Sensitivity': 0.7197878228782287, 'PPV': 0.8193751640850617, 'Accuracy': 0.6440994950439499, 'F1': 0.7663597298956415}, 'het': {'Sensitivity': 0.035841100754549486, 'PPV': 0.95, 'Accuracy': 0.2834567901234568, 'F1': 0.06907613344739093}}\n",
      "neisseria\n",
      "test-base-error-2percent\n",
      "{'hom_alt': {'Sensitivity': 0.9719923615531508, 'PPV': 0.9993455497382199, 'Accuracy': 0.9908536585365854, 'F1': 0.9854791868344628}, 'het': {'Sensitivity': 0.9621664050235479, 'PPV': 1.0, 'Accuracy': 0.9758734608068875, 'F1': 0.9807184574765981}}\n",
      "test-base-error-10percent\n",
      "{'hom_alt': {'Sensitivity': 0.7004815409309791, 'PPV': 0.8321891685736079, 'Accuracy': 0.6403876375065479, 'F1': 0.7606763116611469}, 'het': {'Sensitivity': 0.04155474798546374, 'PPV': 0.942652329749104, 'Accuracy': 0.2867362495602205, 'F1': 0.07960048426150121}}\n",
      "salmonella\n",
      "test-base-error-2percent\n",
      "{'hom_alt': {'Sensitivity': 0.9768698060941828, 'PPV': 0.9987255734919286, 'Accuracy': 0.9922367782629792, 'F1': 0.9876767959669515}, 'het': {'Sensitivity': 0.970859839934332, 'PPV': 0.9996478377236231, 'Accuracy': 0.981195462478185, 'F1': 0.9850435506818892}}\n",
      "test-base-error-10percent\n",
      "{'hom_alt': {'Sensitivity': 0.7241001779115916, 'PPV': 0.8295703982439636, 'Accuracy': 0.6526751734945153, 'F1': 0.7732553891121666}, 'het': {'Sensitivity': 0.03735214774849554, 'PPV': 0.9375, 'Accuracy': 0.29473311767084515, 'F1': 0.07184194771502694}}\n",
      "staphylococcus\n",
      "test-base-error-2percent\n",
      "{'hom_alt': {'Sensitivity': 0.9931636020744932, 'PPV': 0.9997626957759849, 'Accuracy': 0.9977351653329307, 'F1': 0.9964522232734153}, 'het': {'Sensitivity': 0.9893870736942523, 'PPV': 0.9998794890335021, 'Accuracy': 0.9932351172579675, 'F1': 0.9946056101654279}}\n",
      "test-base-error-10percent\n",
      "{'hom_alt': {'Sensitivity': 0.7313743637204998, 'PPV': 0.8231770833333333, 'Accuracy': 0.6540052651372696, 'F1': 0.7745650575839255}, 'het': {'Sensitivity': 0.03754144954997631, 'PPV': 0.9491017964071856, 'Accuracy': 0.29926002409223884, 'F1': 0.07222601959444065}}\n",
      "streptococcus\n",
      "test-base-error-2percent\n",
      "{'hom_alt': {'Sensitivity': 0.9881275440976933, 'PPV': 1.0, 'Accuracy': 0.9963457924410106, 'F1': 0.9940283228118069}, 'het': {'Sensitivity': 0.9865103581178738, 'PPV': 0.9998372395833334, 'Accuracy': 0.9911688311688311, 'F1': 0.9931290922318325}}\n",
      "test-base-error-10percent\n",
      "{'hom_alt': {'Sensitivity': 0.7365384615384616, 'PPV': 0.8218884120171673, 'Accuracy': 0.6579424721430422, 'F1': 0.7768762677484787}, 'het': {'Sensitivity': 0.03952763654256192, 'PPV': 0.964, 'Accuracy': 0.3021180390290338, 'F1': 0.07594138963289743}}\n",
      "tb\n",
      "test-base-error-2percent\n",
      "{'hom_alt': {'Sensitivity': 0.9955758962623951, 'PPV': 0.9995405115637923, 'Accuracy': 0.9984429739198132, 'F1': 0.9975542647508407}, 'het': {'Sensitivity': 0.9878908645003066, 'PPV': 0.9997673155976111, 'Accuracy': 0.9922131940414006, 'F1': 0.9937936085733009}}\n",
      "test-base-error-10percent\n",
      "{'hom_alt': {'Sensitivity': 0.7228969860548808, 'PPV': 0.8176729986431479, 'Accuracy': 0.6451808691429959, 'F1': 0.7673696776760843}, 'het': {'Sensitivity': 0.03733938019652305, 'PPV': 0.9445506692160612, 'Accuracy': 0.2939712389380531, 'F1': 0.07183887151894132}}\n"
     ]
    }
   ],
   "source": [
    "from DeepVCF import pathing\n",
    "from DeepVCF import pandas as pd\n",
    "from DeepVCF import bcftools_vcf\n",
    "from DeepVCF.core import DeepVCF\n",
    "bacteria = [\n",
    "    'c_difficile',  # !\n",
    "    'e_coli',\n",
    "    'klebsiella',  # !\n",
    "    'listeria',\n",
    "    'neisseria',\n",
    "    'salmonella',  # !\n",
    "    'staphylococcus',\n",
    "    'streptococcus',\n",
    "    'tb'\n",
    "]\n",
    "deepvcf = DeepVCF()\n",
    "for name in bacteria:\n",
    "    print(name)\n",
    "    test_folder = pathing(name) / 'test'\n",
    "    ref_test = list(test_folder.glob('*.fasta'))[0]\n",
    "    for be, be_rate in [('2', .02), ('10', .1)]:\n",
    "        prefix=f'test-base-error-{be}percent'\n",
    "        bam_file = pathing(test_folder / (prefix+'.mapped.bam'))\n",
    "        print(prefix)\n",
    "        bcf = bcftools_vcf(\n",
    "            ref_file=ref_test, \n",
    "            bam_file=bam_file,\n",
    "            output_folder=test_folder.parent,\n",
    "            output_prefix=prefix,\n",
    "        )\n",
    "        print(deepvcf.validation(real_vcf=f'{name}/test/{prefix}.mutations.vcf', predicted_vcf=bcf))"
   ]
  },
  {
   "cell_type": "code",
   "execution_count": 11,
   "id": "elder-giant",
   "metadata": {},
   "outputs": [
    {
     "data": {
      "text/plain": [
       "{'hom_alt': {'Sensitivity': 0.991196352774721,\n",
       "  'PPV': 0.9995244134432467,\n",
       "  'Accuracy': 0.9970278575386631,\n",
       "  'F1': 0.9953429631383692},\n",
       " 'het': {'Sensitivity': 0.9843948035487959,\n",
       "  'PPV': 1.0,\n",
       "  'Accuracy': 0.9901426069552164,\n",
       "  'F1': 0.9921360424733544}}"
      ]
     },
     "execution_count": 11,
     "metadata": {},
     "output_type": "execute_result"
    }
   ],
   "source": [
    "bcf = bcftools_vcf(\n",
    "    ref_file='c_difficile/test/R0104a.fasta', \n",
    "    bam_file='c_difficile/test/test-base-error-2percent.mapped.bam',\n",
    "    output_folder='c_difficile',\n",
    "    output_prefix='test-base-error-2percent',\n",
    ")\n",
    "\n",
    "deepvcf = DeepVCF()\n",
    "deepvcf.validation(real_vcf='c_difficile/test/test-base-error-2percent.mutations.vcf', predicted_vcf=bcf)"
   ]
  },
  {
   "cell_type": "code",
   "execution_count": 12,
   "id": "naval-shannon",
   "metadata": {},
   "outputs": [
    {
     "data": {
      "text/plain": [
       "{'hom_alt': {'Sensitivity': 0.7181699772061217,\n",
       "  'PPV': 0.823562359970127,\n",
       "  'Accuracy': 0.646779303062302,\n",
       "  'F1': 0.7672638719777353},\n",
       " 'het': {'Sensitivity': 0.038325887608746764,\n",
       "  'PPV': 0.9569471624266145,\n",
       "  'Accuracy': 0.28501628664495116,\n",
       "  'F1': 0.07370007535795027}}"
      ]
     },
     "execution_count": 12,
     "metadata": {},
     "output_type": "execute_result"
    }
   ],
   "source": [
    "bcf = bcftools_vcf(\n",
    "    ref_file='c_difficile/test/R0104a.fasta', \n",
    "    bam_file='c_difficile/test/test-base-error-10percent.mapped.bam',\n",
    "    output_folder='c_difficile',\n",
    "    output_prefix='test-base-error-10percent',\n",
    ")\n",
    "\n",
    "deepvcf = DeepVCF()\n",
    "deepvcf.validation(real_vcf='c_difficile/test/test-base-error-10percent.mutations.vcf', predicted_vcf=bcf)"
   ]
  }
 ],
 "metadata": {
  "kernelspec": {
   "display_name": "Python [conda env:samtools]",
   "language": "python",
   "name": "conda-env-samtools-py"
  },
  "language_info": {
   "codemirror_mode": {
    "name": "ipython",
    "version": 3
   },
   "file_extension": ".py",
   "mimetype": "text/x-python",
   "name": "python",
   "nbconvert_exporter": "python",
   "pygments_lexer": "ipython3",
   "version": "3.9.2"
  }
 },
 "nbformat": 4,
 "nbformat_minor": 5
}
