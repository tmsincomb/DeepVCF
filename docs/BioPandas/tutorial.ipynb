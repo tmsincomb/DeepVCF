{
 "cells": [
  {
   "cell_type": "code",
   "execution_count": 1,
   "metadata": {},
   "outputs": [],
   "source": [
    "from BioPandas import pandas as pd\n",
    "from Bio import SeqIO\n",
    "import gzip\n",
    "import numpy as np"
   ]
  },
  {
   "cell_type": "markdown",
   "metadata": {},
   "source": [
    "# Sample files used"
   ]
  },
  {
   "cell_type": "code",
   "execution_count": 2,
   "metadata": {},
   "outputs": [],
   "source": [
    "gbk = 'test-data/GCF_000013425.1.gbk.gz'\n",
    "fasta = 'test-data/random_sequences.fasta.gz'"
   ]
  },
  {
   "cell_type": "markdown",
   "metadata": {},
   "source": [
    "# Fasta to Pandas DataFrame example"
   ]
  },
  {
   "cell_type": "code",
   "execution_count": 3,
   "metadata": {},
   "outputs": [
    {
     "data": {
      "text/html": [
       "<div>\n",
       "<style scoped>\n",
       "    .dataframe tbody tr th:only-of-type {\n",
       "        vertical-align: middle;\n",
       "    }\n",
       "\n",
       "    .dataframe tbody tr th {\n",
       "        vertical-align: top;\n",
       "    }\n",
       "\n",
       "    .dataframe thead th {\n",
       "        text-align: right;\n",
       "    }\n",
       "</style>\n",
       "<table border=\"1\" class=\"dataframe\">\n",
       "  <thead>\n",
       "    <tr style=\"text-align: right;\">\n",
       "      <th></th>\n",
       "      <th>_per_letter_annotations</th>\n",
       "      <th>_seq</th>\n",
       "      <th>annotations</th>\n",
       "      <th>dbxrefs</th>\n",
       "      <th>description</th>\n",
       "      <th>features</th>\n",
       "      <th>id</th>\n",
       "      <th>name</th>\n",
       "    </tr>\n",
       "  </thead>\n",
       "  <tbody>\n",
       "    <tr>\n",
       "      <th>0</th>\n",
       "      <td>{}</td>\n",
       "      <td>(C, G, A, T, A, T, T, C, G, A, T, C, C, G, C, ...</td>\n",
       "      <td>{}</td>\n",
       "      <td>[]</td>\n",
       "      <td>FWIRNKE01DKIF6 rank=0000177 x=1346.0 y=2772.0 ...</td>\n",
       "      <td>[]</td>\n",
       "      <td>FWIRNKE01DKIF6</td>\n",
       "      <td>FWIRNKE01DKIF6</td>\n",
       "    </tr>\n",
       "    <tr>\n",
       "      <th>1</th>\n",
       "      <td>{}</td>\n",
       "      <td>(G, C, G, A, G, C, A, G, C, A, A, T, C, A, T, ...</td>\n",
       "      <td>{}</td>\n",
       "      <td>[]</td>\n",
       "      <td>FWIRNKE01CDBE3 rank=0000320 x=854.0 y=2685.0 l...</td>\n",
       "      <td>[]</td>\n",
       "      <td>FWIRNKE01CDBE3</td>\n",
       "      <td>FWIRNKE01CDBE3</td>\n",
       "    </tr>\n",
       "    <tr>\n",
       "      <th>2</th>\n",
       "      <td>{}</td>\n",
       "      <td>(C, G, A, G, C, A, G, C, A, C, A, T, C, A, T, ...</td>\n",
       "      <td>{}</td>\n",
       "      <td>[]</td>\n",
       "      <td>FWIRNKE01BKZJJ rank=0000535 x=531.0 y=3933.0 l...</td>\n",
       "      <td>[]</td>\n",
       "      <td>FWIRNKE01BKZJJ</td>\n",
       "      <td>FWIRNKE01BKZJJ</td>\n",
       "    </tr>\n",
       "  </tbody>\n",
       "</table>\n",
       "</div>"
      ],
      "text/plain": [
       "  _per_letter_annotations                                               _seq  \\\n",
       "0                      {}  (C, G, A, T, A, T, T, C, G, A, T, C, C, G, C, ...   \n",
       "1                      {}  (G, C, G, A, G, C, A, G, C, A, A, T, C, A, T, ...   \n",
       "2                      {}  (C, G, A, G, C, A, G, C, A, C, A, T, C, A, T, ...   \n",
       "\n",
       "  annotations dbxrefs                                        description  \\\n",
       "0          {}      []  FWIRNKE01DKIF6 rank=0000177 x=1346.0 y=2772.0 ...   \n",
       "1          {}      []  FWIRNKE01CDBE3 rank=0000320 x=854.0 y=2685.0 l...   \n",
       "2          {}      []  FWIRNKE01BKZJJ rank=0000535 x=531.0 y=3933.0 l...   \n",
       "\n",
       "  features              id            name  \n",
       "0       []  FWIRNKE01DKIF6  FWIRNKE01DKIF6  \n",
       "1       []  FWIRNKE01CDBE3  FWIRNKE01CDBE3  \n",
       "2       []  FWIRNKE01BKZJJ  FWIRNKE01BKZJJ  "
      ]
     },
     "execution_count": 3,
     "metadata": {},
     "output_type": "execute_result"
    }
   ],
   "source": [
    "fasta_df = pd.read_seq(fasta, format='fasta')\n",
    "fasta_df.head(3)"
   ]
  },
  {
   "cell_type": "markdown",
   "metadata": {},
   "source": [
    "# You can also import seqrecords directly from BioPythons parsing output."
   ]
  },
  {
   "cell_type": "code",
   "execution_count": 4,
   "metadata": {},
   "outputs": [
    {
     "data": {
      "text/html": [
       "<div>\n",
       "<style scoped>\n",
       "    .dataframe tbody tr th:only-of-type {\n",
       "        vertical-align: middle;\n",
       "    }\n",
       "\n",
       "    .dataframe tbody tr th {\n",
       "        vertical-align: top;\n",
       "    }\n",
       "\n",
       "    .dataframe thead th {\n",
       "        text-align: right;\n",
       "    }\n",
       "</style>\n",
       "<table border=\"1\" class=\"dataframe\">\n",
       "  <thead>\n",
       "    <tr style=\"text-align: right;\">\n",
       "      <th></th>\n",
       "      <th>_per_letter_annotations</th>\n",
       "      <th>_seq</th>\n",
       "      <th>annotations</th>\n",
       "      <th>dbxrefs</th>\n",
       "      <th>description</th>\n",
       "      <th>features</th>\n",
       "      <th>id</th>\n",
       "      <th>name</th>\n",
       "    </tr>\n",
       "  </thead>\n",
       "  <tbody>\n",
       "    <tr>\n",
       "      <th>0</th>\n",
       "      <td>{}</td>\n",
       "      <td>(C, G, A, T, A, T, T, C, G, A, T, C, C, G, C, ...</td>\n",
       "      <td>{}</td>\n",
       "      <td>[]</td>\n",
       "      <td>FWIRNKE01DKIF6 rank=0000177 x=1346.0 y=2772.0 ...</td>\n",
       "      <td>[]</td>\n",
       "      <td>FWIRNKE01DKIF6</td>\n",
       "      <td>FWIRNKE01DKIF6</td>\n",
       "    </tr>\n",
       "    <tr>\n",
       "      <th>1</th>\n",
       "      <td>{}</td>\n",
       "      <td>(G, C, G, A, G, C, A, G, C, A, A, T, C, A, T, ...</td>\n",
       "      <td>{}</td>\n",
       "      <td>[]</td>\n",
       "      <td>FWIRNKE01CDBE3 rank=0000320 x=854.0 y=2685.0 l...</td>\n",
       "      <td>[]</td>\n",
       "      <td>FWIRNKE01CDBE3</td>\n",
       "      <td>FWIRNKE01CDBE3</td>\n",
       "    </tr>\n",
       "    <tr>\n",
       "      <th>2</th>\n",
       "      <td>{}</td>\n",
       "      <td>(C, G, A, G, C, A, G, C, A, C, A, T, C, A, T, ...</td>\n",
       "      <td>{}</td>\n",
       "      <td>[]</td>\n",
       "      <td>FWIRNKE01BKZJJ rank=0000535 x=531.0 y=3933.0 l...</td>\n",
       "      <td>[]</td>\n",
       "      <td>FWIRNKE01BKZJJ</td>\n",
       "      <td>FWIRNKE01BKZJJ</td>\n",
       "    </tr>\n",
       "  </tbody>\n",
       "</table>\n",
       "</div>"
      ],
      "text/plain": [
       "  _per_letter_annotations                                               _seq  \\\n",
       "0                      {}  (C, G, A, T, A, T, T, C, G, A, T, C, C, G, C, ...   \n",
       "1                      {}  (G, C, G, A, G, C, A, G, C, A, A, T, C, A, T, ...   \n",
       "2                      {}  (C, G, A, G, C, A, G, C, A, C, A, T, C, A, T, ...   \n",
       "\n",
       "  annotations dbxrefs                                        description  \\\n",
       "0          {}      []  FWIRNKE01DKIF6 rank=0000177 x=1346.0 y=2772.0 ...   \n",
       "1          {}      []  FWIRNKE01CDBE3 rank=0000320 x=854.0 y=2685.0 l...   \n",
       "2          {}      []  FWIRNKE01BKZJJ rank=0000535 x=531.0 y=3933.0 l...   \n",
       "\n",
       "  features              id            name  \n",
       "0       []  FWIRNKE01DKIF6  FWIRNKE01DKIF6  \n",
       "1       []  FWIRNKE01CDBE3  FWIRNKE01CDBE3  \n",
       "2       []  FWIRNKE01BKZJJ  FWIRNKE01BKZJJ  "
      ]
     },
     "execution_count": 4,
     "metadata": {},
     "output_type": "execute_result"
    }
   ],
   "source": [
    "with gzip.open(fasta, \"rt\") as handle:\n",
    "    seqrecords = SeqIO.parse(handle, format='fasta')\n",
    "    fasta_df = pd.DataFrame.from_seqrecords(seqrecords)\n",
    "fasta_df.head(3)"
   ]
  },
  {
   "cell_type": "markdown",
   "metadata": {},
   "source": [
    "# Search description with little effort!"
   ]
  },
  {
   "cell_type": "code",
   "execution_count": 5,
   "metadata": {},
   "outputs": [
    {
     "data": {
      "text/html": [
       "<div>\n",
       "<style scoped>\n",
       "    .dataframe tbody tr th:only-of-type {\n",
       "        vertical-align: middle;\n",
       "    }\n",
       "\n",
       "    .dataframe tbody tr th {\n",
       "        vertical-align: top;\n",
       "    }\n",
       "\n",
       "    .dataframe thead th {\n",
       "        text-align: right;\n",
       "    }\n",
       "</style>\n",
       "<table border=\"1\" class=\"dataframe\">\n",
       "  <thead>\n",
       "    <tr style=\"text-align: right;\">\n",
       "      <th></th>\n",
       "      <th>_per_letter_annotations</th>\n",
       "      <th>_seq</th>\n",
       "      <th>annotations</th>\n",
       "      <th>dbxrefs</th>\n",
       "      <th>description</th>\n",
       "      <th>features</th>\n",
       "      <th>id</th>\n",
       "      <th>name</th>\n",
       "    </tr>\n",
       "  </thead>\n",
       "  <tbody>\n",
       "    <tr>\n",
       "      <th>0</th>\n",
       "      <td>{}</td>\n",
       "      <td>(C, G, A, T, A, T, T, C, G, A, T, C, C, G, C, ...</td>\n",
       "      <td>{}</td>\n",
       "      <td>[]</td>\n",
       "      <td>FWIRNKE01DKIF6 rank=0000177 x=1346.0 y=2772.0 ...</td>\n",
       "      <td>[]</td>\n",
       "      <td>FWIRNKE01DKIF6</td>\n",
       "      <td>FWIRNKE01DKIF6</td>\n",
       "    </tr>\n",
       "  </tbody>\n",
       "</table>\n",
       "</div>"
      ],
      "text/plain": [
       "  _per_letter_annotations                                               _seq  \\\n",
       "0                      {}  (C, G, A, T, A, T, T, C, G, A, T, C, C, G, C, ...   \n",
       "\n",
       "  annotations dbxrefs                                        description  \\\n",
       "0          {}      []  FWIRNKE01DKIF6 rank=0000177 x=1346.0 y=2772.0 ...   \n",
       "\n",
       "  features              id            name  \n",
       "0       []  FWIRNKE01DKIF6  FWIRNKE01DKIF6  "
      ]
     },
     "execution_count": 5,
     "metadata": {},
     "output_type": "execute_result"
    }
   ],
   "source": [
    "# I want all ranks of a certain number \n",
    "fasta_df[fasta_df['description'].str.contains('rank=0000177')]"
   ]
  },
  {
   "cell_type": "markdown",
   "metadata": {},
   "source": [
    "# Better view of the layout for a single row"
   ]
  },
  {
   "cell_type": "code",
   "execution_count": 6,
   "metadata": {},
   "outputs": [
    {
     "data": {
      "text/plain": [
       "[{'_per_letter_annotations': {},\n",
       "  '_seq': Seq('CGATATTCGATCCGCATCGCTGCCCTACCCGTGGAGTGCCTCCCTCGGNGCAG', SingleLetterAlphabet()),\n",
       "  'annotations': {},\n",
       "  'dbxrefs': [],\n",
       "  'description': 'FWIRNKE01DKIF6 rank=0000177 x=1346.0 y=2772.0 length=53',\n",
       "  'features': [],\n",
       "  'id': 'FWIRNKE01DKIF6',\n",
       "  'name': 'FWIRNKE01DKIF6'}]"
      ]
     },
     "execution_count": 6,
     "metadata": {},
     "output_type": "execute_result"
    }
   ],
   "source": [
    "fasta_df.head(1).to_dict('records')"
   ]
  },
  {
   "cell_type": "markdown",
   "metadata": {},
   "source": [
    "# GenBank to Pandas DataFrame example"
   ]
  },
  {
   "cell_type": "code",
   "execution_count": 7,
   "metadata": {},
   "outputs": [
    {
     "data": {
      "text/html": [
       "<div>\n",
       "<style scoped>\n",
       "    .dataframe tbody tr th:only-of-type {\n",
       "        vertical-align: middle;\n",
       "    }\n",
       "\n",
       "    .dataframe tbody tr th {\n",
       "        vertical-align: top;\n",
       "    }\n",
       "\n",
       "    .dataframe thead th {\n",
       "        text-align: right;\n",
       "    }\n",
       "</style>\n",
       "<table border=\"1\" class=\"dataframe\">\n",
       "  <thead>\n",
       "    <tr style=\"text-align: right;\">\n",
       "      <th></th>\n",
       "      <th>EC_number</th>\n",
       "      <th>_per_letter_annotations</th>\n",
       "      <th>_seq</th>\n",
       "      <th>accessions</th>\n",
       "      <th>codon_start</th>\n",
       "      <th>comment</th>\n",
       "      <th>contig</th>\n",
       "      <th>data_file_division</th>\n",
       "      <th>date</th>\n",
       "      <th>db_xref</th>\n",
       "      <th>...</th>\n",
       "      <th>references</th>\n",
       "      <th>sequence_version</th>\n",
       "      <th>source</th>\n",
       "      <th>strain</th>\n",
       "      <th>sub_species</th>\n",
       "      <th>taxonomy</th>\n",
       "      <th>topology</th>\n",
       "      <th>transl_table</th>\n",
       "      <th>translation</th>\n",
       "      <th>type</th>\n",
       "    </tr>\n",
       "  </thead>\n",
       "  <tbody>\n",
       "    <tr>\n",
       "      <th>0</th>\n",
       "      <td>NaN</td>\n",
       "      <td>{}</td>\n",
       "      <td>(C, G, A, T, T, A, A, A, G, A, T, A, G, A, A, ...</td>\n",
       "      <td>[NC_007795]</td>\n",
       "      <td>NaN</td>\n",
       "      <td>REVIEWED REFSEQ: This record has been curated ...</td>\n",
       "      <td>join(CP000253.1:1..2821361)</td>\n",
       "      <td>CON</td>\n",
       "      <td>03-AUG-2016</td>\n",
       "      <td>[taxon:93061]</td>\n",
       "      <td>...</td>\n",
       "      <td>[location: [0:2821361]\\nauthors: Gillaspy,A.F....</td>\n",
       "      <td>1</td>\n",
       "      <td>Staphylococcus aureus subsp. aureus NCTC 8325</td>\n",
       "      <td>[NCTC 8325]</td>\n",
       "      <td>[aureus]</td>\n",
       "      <td>[Bacteria, Firmicutes, Bacilli, Bacillales, St...</td>\n",
       "      <td>circular</td>\n",
       "      <td>NaN</td>\n",
       "      <td>NaN</td>\n",
       "      <td>source</td>\n",
       "    </tr>\n",
       "    <tr>\n",
       "      <th>1</th>\n",
       "      <td>NaN</td>\n",
       "      <td>{}</td>\n",
       "      <td>(C, G, A, T, T, A, A, A, G, A, T, A, G, A, A, ...</td>\n",
       "      <td>[NC_007795]</td>\n",
       "      <td>NaN</td>\n",
       "      <td>REVIEWED REFSEQ: This record has been curated ...</td>\n",
       "      <td>join(CP000253.1:1..2821361)</td>\n",
       "      <td>CON</td>\n",
       "      <td>03-AUG-2016</td>\n",
       "      <td>[GeneID:3919798]</td>\n",
       "      <td>...</td>\n",
       "      <td>[location: [0:2821361]\\nauthors: Gillaspy,A.F....</td>\n",
       "      <td>1</td>\n",
       "      <td>Staphylococcus aureus subsp. aureus NCTC 8325</td>\n",
       "      <td>NaN</td>\n",
       "      <td>NaN</td>\n",
       "      <td>[Bacteria, Firmicutes, Bacilli, Bacillales, St...</td>\n",
       "      <td>circular</td>\n",
       "      <td>NaN</td>\n",
       "      <td>NaN</td>\n",
       "      <td>gene</td>\n",
       "    </tr>\n",
       "    <tr>\n",
       "      <th>2</th>\n",
       "      <td>NaN</td>\n",
       "      <td>{}</td>\n",
       "      <td>(C, G, A, T, T, A, A, A, G, A, T, A, G, A, A, ...</td>\n",
       "      <td>[NC_007795]</td>\n",
       "      <td>[1]</td>\n",
       "      <td>REVIEWED REFSEQ: This record has been curated ...</td>\n",
       "      <td>join(CP000253.1:1..2821361)</td>\n",
       "      <td>CON</td>\n",
       "      <td>03-AUG-2016</td>\n",
       "      <td>[GeneID:3919798]</td>\n",
       "      <td>...</td>\n",
       "      <td>[location: [0:2821361]\\nauthors: Gillaspy,A.F....</td>\n",
       "      <td>1</td>\n",
       "      <td>Staphylococcus aureus subsp. aureus NCTC 8325</td>\n",
       "      <td>NaN</td>\n",
       "      <td>NaN</td>\n",
       "      <td>[Bacteria, Firmicutes, Bacilli, Bacillales, St...</td>\n",
       "      <td>circular</td>\n",
       "      <td>[11]</td>\n",
       "      <td>[MSEKEIWEKVLEIAQEKLSAVSYSTFLKDTELYTIKDGEAIVLSS...</td>\n",
       "      <td>CDS</td>\n",
       "    </tr>\n",
       "  </tbody>\n",
       "</table>\n",
       "<p>3 rows × 38 columns</p>\n",
       "</div>"
      ],
      "text/plain": [
       "  EC_number _per_letter_annotations  \\\n",
       "0       NaN                      {}   \n",
       "1       NaN                      {}   \n",
       "2       NaN                      {}   \n",
       "\n",
       "                                                _seq   accessions codon_start  \\\n",
       "0  (C, G, A, T, T, A, A, A, G, A, T, A, G, A, A, ...  [NC_007795]         NaN   \n",
       "1  (C, G, A, T, T, A, A, A, G, A, T, A, G, A, A, ...  [NC_007795]         NaN   \n",
       "2  (C, G, A, T, T, A, A, A, G, A, T, A, G, A, A, ...  [NC_007795]         [1]   \n",
       "\n",
       "                                             comment  \\\n",
       "0  REVIEWED REFSEQ: This record has been curated ...   \n",
       "1  REVIEWED REFSEQ: This record has been curated ...   \n",
       "2  REVIEWED REFSEQ: This record has been curated ...   \n",
       "\n",
       "                        contig data_file_division         date  \\\n",
       "0  join(CP000253.1:1..2821361)                CON  03-AUG-2016   \n",
       "1  join(CP000253.1:1..2821361)                CON  03-AUG-2016   \n",
       "2  join(CP000253.1:1..2821361)                CON  03-AUG-2016   \n",
       "\n",
       "            db_xref  ...                                         references  \\\n",
       "0     [taxon:93061]  ...  [location: [0:2821361]\\nauthors: Gillaspy,A.F....   \n",
       "1  [GeneID:3919798]  ...  [location: [0:2821361]\\nauthors: Gillaspy,A.F....   \n",
       "2  [GeneID:3919798]  ...  [location: [0:2821361]\\nauthors: Gillaspy,A.F....   \n",
       "\n",
       "  sequence_version                                         source  \\\n",
       "0                1  Staphylococcus aureus subsp. aureus NCTC 8325   \n",
       "1                1  Staphylococcus aureus subsp. aureus NCTC 8325   \n",
       "2                1  Staphylococcus aureus subsp. aureus NCTC 8325   \n",
       "\n",
       "        strain sub_species                                           taxonomy  \\\n",
       "0  [NCTC 8325]    [aureus]  [Bacteria, Firmicutes, Bacilli, Bacillales, St...   \n",
       "1          NaN         NaN  [Bacteria, Firmicutes, Bacilli, Bacillales, St...   \n",
       "2          NaN         NaN  [Bacteria, Firmicutes, Bacilli, Bacillales, St...   \n",
       "\n",
       "   topology transl_table                                        translation  \\\n",
       "0  circular          NaN                                                NaN   \n",
       "1  circular          NaN                                                NaN   \n",
       "2  circular         [11]  [MSEKEIWEKVLEIAQEKLSAVSYSTFLKDTELYTIKDGEAIVLSS...   \n",
       "\n",
       "     type  \n",
       "0  source  \n",
       "1    gene  \n",
       "2     CDS  \n",
       "\n",
       "[3 rows x 38 columns]"
      ]
     },
     "execution_count": 7,
     "metadata": {},
     "output_type": "execute_result"
    }
   ],
   "source": [
    "gbk_df = pd.read_seq(gbk, format='genbank')\n",
    "gbk_df.head(3)"
   ]
  },
  {
   "cell_type": "markdown",
   "metadata": {},
   "source": [
    "# See all the possible columns of meta data"
   ]
  },
  {
   "cell_type": "code",
   "execution_count": 8,
   "metadata": {},
   "outputs": [
    {
     "data": {
      "text/plain": [
       "Index(['EC_number', '_per_letter_annotations', '_seq', 'accessions',\n",
       "       'codon_start', 'comment', 'contig', 'data_file_division', 'date',\n",
       "       'db_xref', 'dbxrefs', 'description', 'experiment', 'gene',\n",
       "       'gene_synonym', 'id', 'keywords', 'location', 'locus_tag', 'mol_type',\n",
       "       'molecule_type', 'name', 'note', 'organism', 'product', 'protein_id',\n",
       "       'pseudo', 'pseudogene', 'references', 'sequence_version', 'source',\n",
       "       'strain', 'sub_species', 'taxonomy', 'topology', 'transl_table',\n",
       "       'translation', 'type'],\n",
       "      dtype='object')"
      ]
     },
     "execution_count": 8,
     "metadata": {},
     "output_type": "execute_result"
    }
   ],
   "source": [
    "gbk_df.columns"
   ]
  },
  {
   "cell_type": "markdown",
   "metadata": {},
   "source": [
    "# Seach for only rows of type CDS"
   ]
  },
  {
   "cell_type": "code",
   "execution_count": 9,
   "metadata": {},
   "outputs": [
    {
     "name": "stdout",
     "output_type": "stream",
     "text": [
      "Genome has CDS count: (2767, 38)\n",
      "Genome has GENE count: (2872, 38)\n"
     ]
    }
   ],
   "source": [
    "cds = gbk_df[gbk_df.type == 'CDS']\n",
    "gene = gbk_df[gbk_df.type == 'gene']\n",
    "print('Genome has CDS count:', cds.shape)\n",
    "print('Genome has GENE count:', gene.shape)"
   ]
  },
  {
   "cell_type": "code",
   "execution_count": 10,
   "metadata": {},
   "outputs": [
    {
     "data": {
      "text/html": [
       "<div>\n",
       "<style scoped>\n",
       "    .dataframe tbody tr th:only-of-type {\n",
       "        vertical-align: middle;\n",
       "    }\n",
       "\n",
       "    .dataframe tbody tr th {\n",
       "        vertical-align: top;\n",
       "    }\n",
       "\n",
       "    .dataframe thead th {\n",
       "        text-align: right;\n",
       "    }\n",
       "</style>\n",
       "<table border=\"1\" class=\"dataframe\">\n",
       "  <thead>\n",
       "    <tr style=\"text-align: right;\">\n",
       "      <th></th>\n",
       "      <th>EC_number</th>\n",
       "      <th>_per_letter_annotations</th>\n",
       "      <th>_seq</th>\n",
       "      <th>accessions</th>\n",
       "      <th>codon_start</th>\n",
       "      <th>comment</th>\n",
       "      <th>contig</th>\n",
       "      <th>data_file_division</th>\n",
       "      <th>date</th>\n",
       "      <th>db_xref</th>\n",
       "      <th>...</th>\n",
       "      <th>references</th>\n",
       "      <th>sequence_version</th>\n",
       "      <th>source</th>\n",
       "      <th>strain</th>\n",
       "      <th>sub_species</th>\n",
       "      <th>taxonomy</th>\n",
       "      <th>topology</th>\n",
       "      <th>transl_table</th>\n",
       "      <th>translation</th>\n",
       "      <th>type</th>\n",
       "    </tr>\n",
       "  </thead>\n",
       "  <tbody>\n",
       "    <tr>\n",
       "      <th>2</th>\n",
       "      <td>NaN</td>\n",
       "      <td>{}</td>\n",
       "      <td>(C, G, A, T, T, A, A, A, G, A, T, A, G, A, A, ...</td>\n",
       "      <td>[NC_007795]</td>\n",
       "      <td>[1]</td>\n",
       "      <td>REVIEWED REFSEQ: This record has been curated ...</td>\n",
       "      <td>join(CP000253.1:1..2821361)</td>\n",
       "      <td>CON</td>\n",
       "      <td>03-AUG-2016</td>\n",
       "      <td>[GeneID:3919798]</td>\n",
       "      <td>...</td>\n",
       "      <td>[location: [0:2821361]\\nauthors: Gillaspy,A.F....</td>\n",
       "      <td>1</td>\n",
       "      <td>Staphylococcus aureus subsp. aureus NCTC 8325</td>\n",
       "      <td>NaN</td>\n",
       "      <td>NaN</td>\n",
       "      <td>[Bacteria, Firmicutes, Bacilli, Bacillales, St...</td>\n",
       "      <td>circular</td>\n",
       "      <td>[11]</td>\n",
       "      <td>[MSEKEIWEKVLEIAQEKLSAVSYSTFLKDTELYTIKDGEAIVLSS...</td>\n",
       "      <td>CDS</td>\n",
       "    </tr>\n",
       "    <tr>\n",
       "      <th>4</th>\n",
       "      <td>[2.7.7.7]</td>\n",
       "      <td>{}</td>\n",
       "      <td>(C, G, A, T, T, A, A, A, G, A, T, A, G, A, A, ...</td>\n",
       "      <td>[NC_007795]</td>\n",
       "      <td>[1]</td>\n",
       "      <td>REVIEWED REFSEQ: This record has been curated ...</td>\n",
       "      <td>join(CP000253.1:1..2821361)</td>\n",
       "      <td>CON</td>\n",
       "      <td>03-AUG-2016</td>\n",
       "      <td>[GeneID:3919799]</td>\n",
       "      <td>...</td>\n",
       "      <td>[location: [0:2821361]\\nauthors: Gillaspy,A.F....</td>\n",
       "      <td>1</td>\n",
       "      <td>Staphylococcus aureus subsp. aureus NCTC 8325</td>\n",
       "      <td>NaN</td>\n",
       "      <td>NaN</td>\n",
       "      <td>[Bacteria, Firmicutes, Bacilli, Bacillales, St...</td>\n",
       "      <td>circular</td>\n",
       "      <td>[11]</td>\n",
       "      <td>[MMEFTIKRDYFITQLNDTLKAISPRTTLPILTGIKIDAKEHEVIL...</td>\n",
       "      <td>CDS</td>\n",
       "    </tr>\n",
       "    <tr>\n",
       "      <th>6</th>\n",
       "      <td>NaN</td>\n",
       "      <td>{}</td>\n",
       "      <td>(C, G, A, T, T, A, A, A, G, A, T, A, G, A, A, ...</td>\n",
       "      <td>[NC_007795]</td>\n",
       "      <td>[1]</td>\n",
       "      <td>REVIEWED REFSEQ: This record has been curated ...</td>\n",
       "      <td>join(CP000253.1:1..2821361)</td>\n",
       "      <td>CON</td>\n",
       "      <td>03-AUG-2016</td>\n",
       "      <td>[GeneID:3919176]</td>\n",
       "      <td>...</td>\n",
       "      <td>[location: [0:2821361]\\nauthors: Gillaspy,A.F....</td>\n",
       "      <td>1</td>\n",
       "      <td>Staphylococcus aureus subsp. aureus NCTC 8325</td>\n",
       "      <td>NaN</td>\n",
       "      <td>NaN</td>\n",
       "      <td>[Bacteria, Firmicutes, Bacilli, Bacillales, St...</td>\n",
       "      <td>circular</td>\n",
       "      <td>[11]</td>\n",
       "      <td>[MIILVQEVVVEGDINLGQFLKTEGIIESGGQAKWFLQDVEVLING...</td>\n",
       "      <td>CDS</td>\n",
       "    </tr>\n",
       "  </tbody>\n",
       "</table>\n",
       "<p>3 rows × 38 columns</p>\n",
       "</div>"
      ],
      "text/plain": [
       "   EC_number _per_letter_annotations  \\\n",
       "2        NaN                      {}   \n",
       "4  [2.7.7.7]                      {}   \n",
       "6        NaN                      {}   \n",
       "\n",
       "                                                _seq   accessions codon_start  \\\n",
       "2  (C, G, A, T, T, A, A, A, G, A, T, A, G, A, A, ...  [NC_007795]         [1]   \n",
       "4  (C, G, A, T, T, A, A, A, G, A, T, A, G, A, A, ...  [NC_007795]         [1]   \n",
       "6  (C, G, A, T, T, A, A, A, G, A, T, A, G, A, A, ...  [NC_007795]         [1]   \n",
       "\n",
       "                                             comment  \\\n",
       "2  REVIEWED REFSEQ: This record has been curated ...   \n",
       "4  REVIEWED REFSEQ: This record has been curated ...   \n",
       "6  REVIEWED REFSEQ: This record has been curated ...   \n",
       "\n",
       "                        contig data_file_division         date  \\\n",
       "2  join(CP000253.1:1..2821361)                CON  03-AUG-2016   \n",
       "4  join(CP000253.1:1..2821361)                CON  03-AUG-2016   \n",
       "6  join(CP000253.1:1..2821361)                CON  03-AUG-2016   \n",
       "\n",
       "            db_xref  ...                                         references  \\\n",
       "2  [GeneID:3919798]  ...  [location: [0:2821361]\\nauthors: Gillaspy,A.F....   \n",
       "4  [GeneID:3919799]  ...  [location: [0:2821361]\\nauthors: Gillaspy,A.F....   \n",
       "6  [GeneID:3919176]  ...  [location: [0:2821361]\\nauthors: Gillaspy,A.F....   \n",
       "\n",
       "  sequence_version                                         source strain  \\\n",
       "2                1  Staphylococcus aureus subsp. aureus NCTC 8325    NaN   \n",
       "4                1  Staphylococcus aureus subsp. aureus NCTC 8325    NaN   \n",
       "6                1  Staphylococcus aureus subsp. aureus NCTC 8325    NaN   \n",
       "\n",
       "  sub_species                                           taxonomy  topology  \\\n",
       "2         NaN  [Bacteria, Firmicutes, Bacilli, Bacillales, St...  circular   \n",
       "4         NaN  [Bacteria, Firmicutes, Bacilli, Bacillales, St...  circular   \n",
       "6         NaN  [Bacteria, Firmicutes, Bacilli, Bacillales, St...  circular   \n",
       "\n",
       "  transl_table                                        translation type  \n",
       "2         [11]  [MSEKEIWEKVLEIAQEKLSAVSYSTFLKDTELYTIKDGEAIVLSS...  CDS  \n",
       "4         [11]  [MMEFTIKRDYFITQLNDTLKAISPRTTLPILTGIKIDAKEHEVIL...  CDS  \n",
       "6         [11]  [MIILVQEVVVEGDINLGQFLKTEGIIESGGQAKWFLQDVEVLING...  CDS  \n",
       "\n",
       "[3 rows x 38 columns]"
      ]
     },
     "execution_count": 10,
     "metadata": {},
     "output_type": "execute_result"
    }
   ],
   "source": [
    "cds.head(3)"
   ]
  },
  {
   "cell_type": "markdown",
   "metadata": {},
   "source": [
    "# Better view of the layout for a single row"
   ]
  },
  {
   "cell_type": "code",
   "execution_count": 11,
   "metadata": {},
   "outputs": [
    {
     "data": {
      "text/plain": [
       "[{'EC_number': nan,\n",
       "  '_per_letter_annotations': {},\n",
       "  '_seq': Seq('CGATTAAAGATAGAAATACACGATGCGAGCAATCAAATTTCATAACATCACCAT...TAT', IUPACAmbiguousDNA()),\n",
       "  'accessions': ['NC_007795'],\n",
       "  'codon_start': ['1'],\n",
       "  'comment': 'REVIEWED REFSEQ: This record has been curated by NCBI staff. The\\nreference sequence was derived from CP000253.\\nRefSeq Category: Reference Genome\\n            UPR: UniProt Genome\\nStaphylococcus aureus subsp. aureus NCTC 8325 is available from\\nwww.narsa.net.\\nCOMPLETENESS: full length.',\n",
       "  'contig': 'join(CP000253.1:1..2821361)',\n",
       "  'data_file_division': 'CON',\n",
       "  'date': '03-AUG-2016',\n",
       "  'db_xref': ['GeneID:3919798'],\n",
       "  'dbxrefs': ['BioProject:PRJNA57795', 'Assembly:GCF_000013425.1'],\n",
       "  'description': 'Staphylococcus aureus subsp. aureus NCTC 8325 chromosome, complete genome',\n",
       "  'experiment': nan,\n",
       "  'gene': ['dnaA'],\n",
       "  'gene_synonym': nan,\n",
       "  'id': 'NC_007795.1',\n",
       "  'keywords': ['RefSeq'],\n",
       "  'location': FeatureLocation(ExactPosition(516), ExactPosition(1878), strand=1),\n",
       "  'locus_tag': ['SAOUHSC_00001'],\n",
       "  'mol_type': nan,\n",
       "  'molecule_type': 'DNA',\n",
       "  'name': 'NC_007795',\n",
       "  'note': ['binds to the dnaA-box as an ATP-bound complex at the origin of replication during the initiation of chromosomal replication; can also affect transcription of multiple genes including itself.'],\n",
       "  'organism': 'Staphylococcus aureus subsp. aureus NCTC 8325',\n",
       "  'product': ['chromosomal replication initiation protein'],\n",
       "  'protein_id': ['YP_498609.1'],\n",
       "  'pseudo': nan,\n",
       "  'pseudogene': nan,\n",
       "  'references': [Reference(title='The Staphylococcus aureus NCTC8325 Genome', ...),\n",
       "   Reference(title='Direct Submission', ...),\n",
       "   Reference(title='Direct Submission', ...)],\n",
       "  'sequence_version': 1,\n",
       "  'source': 'Staphylococcus aureus subsp. aureus NCTC 8325',\n",
       "  'strain': nan,\n",
       "  'sub_species': nan,\n",
       "  'taxonomy': ['Bacteria',\n",
       "   'Firmicutes',\n",
       "   'Bacilli',\n",
       "   'Bacillales',\n",
       "   'Staphylococcaceae',\n",
       "   'Staphylococcus'],\n",
       "  'topology': 'circular',\n",
       "  'transl_table': ['11'],\n",
       "  'translation': ['MSEKEIWEKVLEIAQEKLSAVSYSTFLKDTELYTIKDGEAIVLSSIPFNANWLNQQYAEIIQAILFDVVGYEVKPHFITTEELANYSNNETATPKETTKPSTETTEDNHVLGREQFNAHNTFDTFVIGPGNRFPHAASLAVAEAPAKAYNPLFIYGGVGLGKTHLMHAIGHHVLDNNPDAKVIYTSSEKFTNEFIKSIRDNEGEAFRERYRNIDVLLIDDIQFIQNKVQTQEEFFYTFNELHQNNKQIVISSDRPPKEIAQLEDRLRSRFEWGLIVDITPPDYETRMAILQKKIEEEKLDIPPEALNYIANQIQSNIRELEGALTRLLAYSQLLGKPITTELTAEALKDIIQAPKSKKITIQDIQKIVGQYYNVRIEDFSAKKRTKSIAYPRQIAMYLSRELTDFSLPKIGEEFGGRDHTTVIHAHEKISKDLKEDPIFKQEVENLEKEIRNV'],\n",
       "  'type': 'CDS'}]"
      ]
     },
     "execution_count": 11,
     "metadata": {},
     "output_type": "execute_result"
    }
   ],
   "source": [
    "cds.head(1).to_dict('records')"
   ]
  },
  {
   "cell_type": "markdown",
   "metadata": {},
   "source": [
    "------"
   ]
  },
  {
   "cell_type": "markdown",
   "metadata": {},
   "source": [
    "# Machine Learning Example Application"
   ]
  },
  {
   "cell_type": "markdown",
   "metadata": {},
   "source": [
    "### For simplicity of this example we will pretend we have a large sample set, but really we just using the single genbank genome. The follow will create the feature table we can use for a simple Sequential model.\n",
    "1. Sample the first 4 genes\n",
    "2. Given them random mutation value from 0 to 20\n",
    "3. Give each mutation a random \"observed in healthy patient\""
   ]
  },
  {
   "cell_type": "code",
   "execution_count": 12,
   "metadata": {},
   "outputs": [
    {
     "data": {
      "text/plain": [
       "['dnaA', 'recF', 'rplI', 'argJ']"
      ]
     },
     "execution_count": 12,
     "metadata": {},
     "output_type": "execute_result"
    }
   ],
   "source": [
    "# Sample for the first 4 genes\n",
    "genes = [gene[0] for gene in gbk_df[(gbk_df.type == 'gene') & ~gbk_df.gene.isna()]['gene'][:4].values]\n",
    "genes"
   ]
  },
  {
   "cell_type": "code",
   "execution_count": 13,
   "metadata": {},
   "outputs": [
    {
     "data": {
      "text/html": [
       "<div>\n",
       "<style scoped>\n",
       "    .dataframe tbody tr th:only-of-type {\n",
       "        vertical-align: middle;\n",
       "    }\n",
       "\n",
       "    .dataframe tbody tr th {\n",
       "        vertical-align: top;\n",
       "    }\n",
       "\n",
       "    .dataframe thead th {\n",
       "        text-align: right;\n",
       "    }\n",
       "</style>\n",
       "<table border=\"1\" class=\"dataframe\">\n",
       "  <thead>\n",
       "    <tr style=\"text-align: right;\">\n",
       "      <th></th>\n",
       "      <th>dnaA</th>\n",
       "      <th>recF</th>\n",
       "      <th>rplI</th>\n",
       "      <th>argJ</th>\n",
       "    </tr>\n",
       "  </thead>\n",
       "  <tbody>\n",
       "    <tr>\n",
       "      <th>0</th>\n",
       "      <td>6.968933</td>\n",
       "      <td>3.234232</td>\n",
       "      <td>14.855291</td>\n",
       "      <td>17.812155</td>\n",
       "    </tr>\n",
       "    <tr>\n",
       "      <th>1</th>\n",
       "      <td>0.913310</td>\n",
       "      <td>12.270636</td>\n",
       "      <td>14.627012</td>\n",
       "      <td>16.539823</td>\n",
       "    </tr>\n",
       "    <tr>\n",
       "      <th>2</th>\n",
       "      <td>1.510388</td>\n",
       "      <td>14.444018</td>\n",
       "      <td>10.535848</td>\n",
       "      <td>12.550911</td>\n",
       "    </tr>\n",
       "  </tbody>\n",
       "</table>\n",
       "</div>"
      ],
      "text/plain": [
       "       dnaA       recF       rplI       argJ\n",
       "0  6.968933   3.234232  14.855291  17.812155\n",
       "1  0.913310  12.270636  14.627012  16.539823\n",
       "2  1.510388  14.444018  10.535848  12.550911"
      ]
     },
     "execution_count": 13,
     "metadata": {},
     "output_type": "execute_result"
    }
   ],
   "source": [
    "# Create fake observed mutation rates for target genomes compared to a reference genome\n",
    "mutation_array = lambda : list(np.random.uniform(low=0, high=20, size=(1, 100))[0])\n",
    "observed_gene_mutation_per_genome = pd.DataFrame.from_dict({gene:mutation_array() for gene in genes})\n",
    "observed_gene_mutation_per_genome.head(3)"
   ]
  },
  {
   "cell_type": "code",
   "execution_count": 14,
   "metadata": {},
   "outputs": [
    {
     "data": {
      "text/html": [
       "<div>\n",
       "<style scoped>\n",
       "    .dataframe tbody tr th:only-of-type {\n",
       "        vertical-align: middle;\n",
       "    }\n",
       "\n",
       "    .dataframe tbody tr th {\n",
       "        vertical-align: top;\n",
       "    }\n",
       "\n",
       "    .dataframe thead th {\n",
       "        text-align: right;\n",
       "    }\n",
       "</style>\n",
       "<table border=\"1\" class=\"dataframe\">\n",
       "  <thead>\n",
       "    <tr style=\"text-align: right;\">\n",
       "      <th></th>\n",
       "      <th>dnaA</th>\n",
       "      <th>recF</th>\n",
       "      <th>rplI</th>\n",
       "      <th>argJ</th>\n",
       "      <th>fake_disease</th>\n",
       "    </tr>\n",
       "  </thead>\n",
       "  <tbody>\n",
       "    <tr>\n",
       "      <th>0</th>\n",
       "      <td>6.968933</td>\n",
       "      <td>3.234232</td>\n",
       "      <td>14.855291</td>\n",
       "      <td>17.812155</td>\n",
       "      <td>1.0</td>\n",
       "    </tr>\n",
       "    <tr>\n",
       "      <th>1</th>\n",
       "      <td>0.913310</td>\n",
       "      <td>12.270636</td>\n",
       "      <td>14.627012</td>\n",
       "      <td>16.539823</td>\n",
       "      <td>0.0</td>\n",
       "    </tr>\n",
       "    <tr>\n",
       "      <th>2</th>\n",
       "      <td>1.510388</td>\n",
       "      <td>14.444018</td>\n",
       "      <td>10.535848</td>\n",
       "      <td>12.550911</td>\n",
       "      <td>1.0</td>\n",
       "    </tr>\n",
       "    <tr>\n",
       "      <th>3</th>\n",
       "      <td>2.782027</td>\n",
       "      <td>1.132484</td>\n",
       "      <td>6.188733</td>\n",
       "      <td>8.002585</td>\n",
       "      <td>0.0</td>\n",
       "    </tr>\n",
       "    <tr>\n",
       "      <th>4</th>\n",
       "      <td>16.064042</td>\n",
       "      <td>5.976261</td>\n",
       "      <td>7.865872</td>\n",
       "      <td>3.562722</td>\n",
       "      <td>0.0</td>\n",
       "    </tr>\n",
       "    <tr>\n",
       "      <th>5</th>\n",
       "      <td>19.199375</td>\n",
       "      <td>12.324771</td>\n",
       "      <td>16.138943</td>\n",
       "      <td>16.389556</td>\n",
       "      <td>0.0</td>\n",
       "    </tr>\n",
       "    <tr>\n",
       "      <th>6</th>\n",
       "      <td>11.438998</td>\n",
       "      <td>1.256925</td>\n",
       "      <td>13.105853</td>\n",
       "      <td>0.715683</td>\n",
       "      <td>0.0</td>\n",
       "    </tr>\n",
       "    <tr>\n",
       "      <th>7</th>\n",
       "      <td>14.959870</td>\n",
       "      <td>11.706864</td>\n",
       "      <td>6.097175</td>\n",
       "      <td>5.376386</td>\n",
       "      <td>1.0</td>\n",
       "    </tr>\n",
       "    <tr>\n",
       "      <th>8</th>\n",
       "      <td>16.073385</td>\n",
       "      <td>5.063101</td>\n",
       "      <td>3.771375</td>\n",
       "      <td>2.637158</td>\n",
       "      <td>0.0</td>\n",
       "    </tr>\n",
       "    <tr>\n",
       "      <th>9</th>\n",
       "      <td>1.308666</td>\n",
       "      <td>9.579012</td>\n",
       "      <td>16.166715</td>\n",
       "      <td>9.009860</td>\n",
       "      <td>0.0</td>\n",
       "    </tr>\n",
       "  </tbody>\n",
       "</table>\n",
       "</div>"
      ],
      "text/plain": [
       "        dnaA       recF       rplI       argJ  fake_disease\n",
       "0   6.968933   3.234232  14.855291  17.812155           1.0\n",
       "1   0.913310  12.270636  14.627012  16.539823           0.0\n",
       "2   1.510388  14.444018  10.535848  12.550911           1.0\n",
       "3   2.782027   1.132484   6.188733   8.002585           0.0\n",
       "4  16.064042   5.976261   7.865872   3.562722           0.0\n",
       "5  19.199375  12.324771  16.138943  16.389556           0.0\n",
       "6  11.438998   1.256925  13.105853   0.715683           0.0\n",
       "7  14.959870  11.706864   6.097175   5.376386           1.0\n",
       "8  16.073385   5.063101   3.771375   2.637158           0.0\n",
       "9   1.308666   9.579012  16.166715   9.009860           0.0"
      ]
     },
     "execution_count": 14,
     "metadata": {},
     "output_type": "execute_result"
    }
   ],
   "source": [
    "# Give a 0 or 1 to show if a patient has the fake disease\n",
    "# We a biased 30 percent with disease  \n",
    "patients = np.zeros(100)\n",
    "patients[:30] = 1\n",
    "np.random.shuffle(patients)\n",
    "\n",
    "observed_gene_mutation_per_genome['fake_disease'] = list(patients)\n",
    "observed_gene_mutation_per_genome.head(10)"
   ]
  },
  {
   "cell_type": "code",
   "execution_count": 15,
   "metadata": {},
   "outputs": [],
   "source": [
    "from tensorflow.keras.models import Sequential\n",
    "from tensorflow.keras.layers import Dense \n",
    "from tensorflow.keras.callbacks import EarlyStopping\n",
    "\n",
    "from sklearn.model_selection import train_test_split\n",
    "from sklearn.metrics import confusion_matrix, recall_score, precision_score"
   ]
  },
  {
   "cell_type": "code",
   "execution_count": 16,
   "metadata": {},
   "outputs": [],
   "source": [
    "df = observed_gene_mutation_per_genome\n",
    "X_train, X_test, y_train, y_test = train_test_split(df.iloc[:,:4], df['fake_disease'],\n",
    "                                                    test_size = 0.33, random_state = 100)"
   ]
  },
  {
   "cell_type": "markdown",
   "metadata": {},
   "source": [
    "# Create general sequential model with 4 layers  "
   ]
  },
  {
   "cell_type": "code",
   "execution_count": 17,
   "metadata": {},
   "outputs": [],
   "source": [
    "model = Sequential()\n",
    "\n",
    "model.add(Dense(4, activation = 'relu')) # 4 for just random guessing\n",
    "model.add(Dense(4, activation = 'relu'))\n",
    "model.add(Dense(4, activation = 'relu'))\n",
    "model.add(Dense(1)) # just want healthy status; hence final layer is 1\n",
    "\n",
    "model.compile(optimizer='rmsprop', loss='mse') # mean squared error for sanity checking"
   ]
  },
  {
   "cell_type": "code",
   "execution_count": 18,
   "metadata": {},
   "outputs": [
    {
     "name": "stdout",
     "output_type": "stream",
     "text": [
      "Epoch 1/100\n",
      "3/3 [==============================] - 0s 977us/step - loss: 0.3323\n",
      "Epoch 2/100\n",
      "3/3 [==============================] - 0s 839us/step - loss: 0.3262\n",
      "Epoch 3/100\n",
      "3/3 [==============================] - 0s 699us/step - loss: 0.3214\n",
      "Epoch 4/100\n",
      "3/3 [==============================] - 0s 805us/step - loss: 0.3196\n",
      "Epoch 5/100\n",
      "3/3 [==============================] - 0s 812us/step - loss: 0.3176\n",
      "Epoch 6/100\n",
      "3/3 [==============================] - 0s 1ms/step - loss: 0.3157\n",
      "Epoch 7/100\n",
      "3/3 [==============================] - 0s 906us/step - loss: 0.3130\n",
      "Epoch 8/100\n",
      "3/3 [==============================] - 0s 877us/step - loss: 0.3102\n",
      "Epoch 9/100\n",
      "3/3 [==============================] - 0s 882us/step - loss: 0.3074\n",
      "Epoch 10/100\n",
      "3/3 [==============================] - 0s 952us/step - loss: 0.3042\n",
      "Epoch 11/100\n",
      "3/3 [==============================] - 0s 1ms/step - loss: 0.3018\n",
      "Epoch 12/100\n",
      "3/3 [==============================] - 0s 927us/step - loss: 0.2994\n",
      "Epoch 13/100\n",
      "3/3 [==============================] - 0s 978us/step - loss: 0.2971\n",
      "Epoch 14/100\n",
      "3/3 [==============================] - 0s 1ms/step - loss: 0.2950\n",
      "Epoch 15/100\n",
      "3/3 [==============================] - 0s 874us/step - loss: 0.2922\n",
      "Epoch 16/100\n",
      "3/3 [==============================] - 0s 1ms/step - loss: 0.2897\n",
      "Epoch 17/100\n",
      "3/3 [==============================] - 0s 1ms/step - loss: 0.2877\n",
      "Epoch 18/100\n",
      "3/3 [==============================] - 0s 932us/step - loss: 0.2861\n",
      "Epoch 19/100\n",
      "3/3 [==============================] - 0s 951us/step - loss: 0.2837\n",
      "Epoch 20/100\n",
      "3/3 [==============================] - 0s 1ms/step - loss: 0.2821\n",
      "Epoch 21/100\n",
      "3/3 [==============================] - 0s 947us/step - loss: 0.2791\n",
      "Epoch 22/100\n",
      "3/3 [==============================] - 0s 1ms/step - loss: 0.2766\n",
      "Epoch 23/100\n",
      "3/3 [==============================] - 0s 1ms/step - loss: 0.2753\n",
      "Epoch 24/100\n",
      "3/3 [==============================] - 0s 1ms/step - loss: 0.2737\n",
      "Epoch 25/100\n",
      "3/3 [==============================] - 0s 965us/step - loss: 0.2723\n",
      "Epoch 26/100\n",
      "3/3 [==============================] - 0s 869us/step - loss: 0.2694\n",
      "Epoch 27/100\n",
      "3/3 [==============================] - 0s 842us/step - loss: 0.2675\n",
      "Epoch 28/100\n",
      "3/3 [==============================] - 0s 1ms/step - loss: 0.2664\n",
      "Epoch 29/100\n",
      "3/3 [==============================] - 0s 1ms/step - loss: 0.2651\n",
      "Epoch 30/100\n",
      "3/3 [==============================] - 0s 1ms/step - loss: 0.2626\n",
      "Epoch 31/100\n",
      "3/3 [==============================] - 0s 918us/step - loss: 0.2617\n",
      "Epoch 32/100\n",
      "3/3 [==============================] - 0s 1ms/step - loss: 0.2593\n",
      "Epoch 33/100\n",
      "3/3 [==============================] - 0s 1ms/step - loss: 0.2583\n",
      "Epoch 34/100\n",
      "3/3 [==============================] - 0s 1ms/step - loss: 0.2575\n",
      "Epoch 35/100\n",
      "3/3 [==============================] - 0s 2ms/step - loss: 0.2564\n",
      "Epoch 36/100\n",
      "3/3 [==============================] - 0s 998us/step - loss: 0.2540\n",
      "Epoch 37/100\n",
      "3/3 [==============================] - 0s 1ms/step - loss: 0.2519\n",
      "Epoch 38/100\n",
      "3/3 [==============================] - 0s 1ms/step - loss: 0.2512\n",
      "Epoch 39/100\n",
      "3/3 [==============================] - 0s 1ms/step - loss: 0.2496\n",
      "Epoch 40/100\n",
      "3/3 [==============================] - 0s 1ms/step - loss: 0.2480\n",
      "Epoch 41/100\n",
      "3/3 [==============================] - 0s 1ms/step - loss: 0.2459\n",
      "Epoch 42/100\n",
      "3/3 [==============================] - 0s 2ms/step - loss: 0.2449\n",
      "Epoch 43/100\n",
      "3/3 [==============================] - 0s 2ms/step - loss: 0.2426\n",
      "Epoch 44/100\n",
      "3/3 [==============================] - 0s 953us/step - loss: 0.2409\n",
      "Epoch 45/100\n",
      "3/3 [==============================] - 0s 1ms/step - loss: 0.2398\n",
      "Epoch 46/100\n",
      "3/3 [==============================] - 0s 2ms/step - loss: 0.2392\n",
      "Epoch 47/100\n",
      "3/3 [==============================] - 0s 1ms/step - loss: 0.2386\n",
      "Epoch 48/100\n",
      "3/3 [==============================] - 0s 1ms/step - loss: 0.2368\n",
      "Epoch 49/100\n",
      "3/3 [==============================] - 0s 1ms/step - loss: 0.2359\n",
      "Epoch 50/100\n",
      "3/3 [==============================] - 0s 866us/step - loss: 0.2351\n",
      "Epoch 51/100\n",
      "3/3 [==============================] - 0s 1ms/step - loss: 0.2343\n",
      "Epoch 52/100\n",
      "3/3 [==============================] - 0s 1ms/step - loss: 0.2325\n",
      "Epoch 53/100\n",
      "3/3 [==============================] - 0s 1ms/step - loss: 0.2320\n",
      "Epoch 54/100\n",
      "3/3 [==============================] - 0s 1ms/step - loss: 0.2304\n",
      "Epoch 55/100\n",
      "3/3 [==============================] - 0s 1ms/step - loss: 0.2292\n",
      "Epoch 56/100\n",
      "3/3 [==============================] - 0s 1ms/step - loss: 0.2284\n",
      "Epoch 57/100\n",
      "3/3 [==============================] - 0s 2ms/step - loss: 0.2284\n",
      "Epoch 58/100\n",
      "3/3 [==============================] - 0s 1ms/step - loss: 0.2274\n",
      "Epoch 59/100\n",
      "3/3 [==============================] - 0s 1ms/step - loss: 0.2263\n",
      "Epoch 60/100\n",
      "3/3 [==============================] - 0s 1ms/step - loss: 0.2249\n",
      "Epoch 61/100\n",
      "3/3 [==============================] - 0s 1ms/step - loss: 0.2242\n",
      "Epoch 62/100\n",
      "3/3 [==============================] - 0s 922us/step - loss: 0.2235\n",
      "Epoch 63/100\n",
      "3/3 [==============================] - 0s 1ms/step - loss: 0.2219\n",
      "Epoch 64/100\n",
      "3/3 [==============================] - 0s 1ms/step - loss: 0.2216\n",
      "Epoch 65/100\n",
      "3/3 [==============================] - 0s 882us/step - loss: 0.2215\n",
      "Epoch 66/100\n",
      "3/3 [==============================] - 0s 948us/step - loss: 0.2195\n",
      "Epoch 67/100\n",
      "3/3 [==============================] - 0s 938us/step - loss: 0.2192\n",
      "Epoch 68/100\n",
      "3/3 [==============================] - 0s 1ms/step - loss: 0.2188\n",
      "Epoch 69/100\n",
      "3/3 [==============================] - 0s 841us/step - loss: 0.2179\n",
      "Epoch 70/100\n",
      "3/3 [==============================] - 0s 2ms/step - loss: 0.2172\n",
      "Epoch 71/100\n",
      "3/3 [==============================] - 0s 1ms/step - loss: 0.2165\n",
      "Epoch 72/100\n",
      "3/3 [==============================] - 0s 1ms/step - loss: 0.2149\n",
      "Epoch 73/100\n",
      "3/3 [==============================] - 0s 1ms/step - loss: 0.2140\n",
      "Epoch 74/100\n",
      "3/3 [==============================] - 0s 876us/step - loss: 0.2141\n",
      "Epoch 75/100\n",
      "3/3 [==============================] - 0s 914us/step - loss: 0.2134\n",
      "Epoch 76/100\n",
      "3/3 [==============================] - 0s 1ms/step - loss: 0.2125\n",
      "Epoch 77/100\n",
      "3/3 [==============================] - 0s 1ms/step - loss: 0.2114\n",
      "Epoch 78/100\n",
      "3/3 [==============================] - 0s 946us/step - loss: 0.2112\n",
      "Epoch 79/100\n",
      "3/3 [==============================] - 0s 1ms/step - loss: 0.2109\n",
      "Epoch 80/100\n",
      "3/3 [==============================] - 0s 1ms/step - loss: 0.2108\n",
      "Epoch 81/100\n",
      "3/3 [==============================] - 0s 854us/step - loss: 0.2107\n",
      "Epoch 82/100\n",
      "3/3 [==============================] - 0s 814us/step - loss: 0.2098\n",
      "Epoch 83/100\n",
      "3/3 [==============================] - 0s 1ms/step - loss: 0.2087\n",
      "Epoch 84/100\n",
      "3/3 [==============================] - 0s 1ms/step - loss: 0.2080\n",
      "Epoch 85/100\n",
      "3/3 [==============================] - 0s 876us/step - loss: 0.2073\n",
      "Epoch 86/100\n",
      "3/3 [==============================] - 0s 838us/step - loss: 0.2074\n",
      "Epoch 87/100\n",
      "3/3 [==============================] - 0s 928us/step - loss: 0.2079\n",
      "Epoch 88/100\n",
      "3/3 [==============================] - 0s 1ms/step - loss: 0.2070\n",
      "Epoch 89/100\n",
      "3/3 [==============================] - 0s 896us/step - loss: 0.2071\n",
      "Epoch 90/100\n",
      "3/3 [==============================] - 0s 1ms/step - loss: 0.2063\n",
      "Epoch 91/100\n",
      "3/3 [==============================] - 0s 1ms/step - loss: 0.2049\n",
      "Epoch 92/100\n",
      "3/3 [==============================] - 0s 951us/step - loss: 0.2045\n",
      "Epoch 93/100\n",
      "3/3 [==============================] - 0s 826us/step - loss: 0.2041\n",
      "Epoch 94/100\n",
      "3/3 [==============================] - 0s 1ms/step - loss: 0.2036\n",
      "Epoch 95/100\n",
      "3/3 [==============================] - 0s 843us/step - loss: 0.2041\n",
      "Epoch 96/100\n",
      "3/3 [==============================] - 0s 848us/step - loss: 0.2036\n",
      "Epoch 97/100\n",
      "3/3 [==============================] - 0s 1ms/step - loss: 0.2037\n",
      "Epoch 98/100\n",
      "3/3 [==============================] - 0s 975us/step - loss: 0.2028\n",
      "Epoch 99/100\n",
      "3/3 [==============================] - 0s 1ms/step - loss: 0.2035\n",
      "Epoch 100/100\n",
      "3/3 [==============================] - 0s 788us/step - loss: 0.2026\n"
     ]
    },
    {
     "data": {
      "text/plain": [
       "<tensorflow.python.keras.callbacks.History at 0x16aeeb550>"
      ]
     },
     "execution_count": 18,
     "metadata": {},
     "output_type": "execute_result"
    }
   ],
   "source": [
    "early_stop = EarlyStopping(monitor = 'val_loss', patience = 1)\n",
    "model.fit(\n",
    "    x = X_train.to_numpy().astype('float32'), # float32 to save memory and runtime; we dont need 64 bits anyway\n",
    "    y = y_train.to_numpy().astype('float32'), \n",
    "    verbose = 1, # 0 if you dont want to see the print out\n",
    "    epochs = 100, # number of training intervals \n",
    "    # callbacks = [early_stop], # cant used validation set to have an educated stop due to data set being too small :(\n",
    "    # validation_data=(X_test.astype('float32'), y_test.astype('float32')), # data too small to use as a validator\n",
    ")"
   ]
  },
  {
   "cell_type": "markdown",
   "metadata": {},
   "source": [
    "# Check how well your model was built"
   ]
  },
  {
   "cell_type": "code",
   "execution_count": 19,
   "metadata": {},
   "outputs": [
    {
     "data": {
      "text/plain": [
       "<matplotlib.axes._subplots.AxesSubplot at 0x16afa1cd0>"
      ]
     },
     "execution_count": 19,
     "metadata": {},
     "output_type": "execute_result"
    },
    {
     "data": {
      "image/png": "[encoded data removed]",
      "text/plain": [
       "<Figure size 432x288 with 1 Axes>"
      ]
     },
     "metadata": {
      "needs_background": "light"
     },
     "output_type": "display_data"
    }
   ],
   "source": [
    "loss = pd.DataFrame(model.history.history)\n",
    "loss.plot()"
   ]
  },
  {
   "cell_type": "code",
   "execution_count": 20,
   "metadata": {},
   "outputs": [
    {
     "data": {
      "text/plain": [
       "<tensorflow.python.keras.engine.sequential.Sequential at 0x16acd0d10>"
      ]
     },
     "execution_count": 20,
     "metadata": {},
     "output_type": "execute_result"
    }
   ],
   "source": [
    "model # Thats exciting! This is also a word of caution that you can make a model from anything. "
   ]
  },
  {
   "cell_type": "markdown",
   "metadata": {},
   "source": [
    "--------"
   ]
  },
  {
   "cell_type": "markdown",
   "metadata": {},
   "source": [
    "# Extra Notes"
   ]
  },
  {
   "cell_type": "code",
   "execution_count": 21,
   "metadata": {},
   "outputs": [],
   "source": [
    "from Bio.Seq import Seq\n",
    "from Bio.Alphabet import IUPAC"
   ]
  },
  {
   "cell_type": "markdown",
   "metadata": {},
   "source": [
    "# Creating a BioPython seq from scratch"
   ]
  },
  {
   "cell_type": "code",
   "execution_count": 22,
   "metadata": {},
   "outputs": [
    {
     "data": {
      "text/plain": [
       "Seq('ATGCATGATGATGATGATGATAG', SingleLetterAlphabet())"
      ]
     },
     "execution_count": 22,
     "metadata": {},
     "output_type": "execute_result"
    }
   ],
   "source": [
    "seq = Seq('ATGCATGATGATGATGATGATAG', alphabet=IUPAC.Alphabet.single_letter_alphabet)\n",
    "seq"
   ]
  },
  {
   "cell_type": "markdown",
   "metadata": {},
   "source": [
    "## You can create a simple dataframe as such"
   ]
  },
  {
   "cell_type": "code",
   "execution_count": 23,
   "metadata": {},
   "outputs": [
    {
     "data": {
      "text/plain": [
       "0    (A, T, G, C, A, T, G, A, T, G, A, T, G, A, T, ...\n",
       "Name: _seq, dtype: object"
      ]
     },
     "execution_count": 23,
     "metadata": {},
     "output_type": "execute_result"
    }
   ],
   "source": [
    "pd.DataFrame([{'_seq': seq}])._seq "
   ]
  }
 ],
 "metadata": {
  "kernelspec": {
   "display_name": "Python 3",
   "language": "python",
   "name": "python3"
  },
  "language_info": {
   "codemirror_mode": {
    "name": "ipython",
    "version": 3
   },
   "file_extension": ".py",
   "mimetype": "text/x-python",
   "name": "python",
   "nbconvert_exporter": "python",
   "pygments_lexer": "ipython3",
   "version": "3.8.5"
  }
 },
 "nbformat": 4,
 "nbformat_minor": 4
}
